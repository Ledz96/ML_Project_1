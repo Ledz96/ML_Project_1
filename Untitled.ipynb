{
 "cells": [
  {
   "cell_type": "code",
   "execution_count": 1,
   "metadata": {},
   "outputs": [],
   "source": [
    "import numpy as np\n",
    "from utils_predictions_manipulation import*\n",
    "from utils_nans_manipulation import*\n",
    "from cross_validation import*\n",
    "from utils_data_loading import*\n",
    "from utils_features_manipulation import*\n",
    "import random\n",
    "\n",
    "\n",
    "from least_squares import *"
   ]
  },
  {
   "cell_type": "code",
   "execution_count": 2,
   "metadata": {},
   "outputs": [],
   "source": [
    "def compute_gradient_L1(y, tx, w, lambda_):\n",
    "    \"\"\"Compute the gradient.\"\"\"\n",
    "    \n",
    "    e = (y - tx.dot(w))\n",
    "    return -(tx.transpose().dot(e) / y.shape[0]) + lambda_*np.sign(w)\n",
    "\n",
    "def least_squares_L1(y, tx, initial_w, max_iters, gamma, lambda_):\n",
    "    \"\"\"Gradient descent algorithm.\"\"\"\n",
    "\n",
    "    losses = []\n",
    "    w = initial_w\n",
    "    for n_iter in range(max_iters):\n",
    "        # compute gradient and loss\n",
    "        g = compute_gradient_L1(y, tx, w, lambda_)\n",
    "        loss = compute_mse(y, tx, w)\n",
    "\n",
    "        # update w by gradient\n",
    "        w = w - gamma*g\n",
    "\n",
    "        # store w and loss\n",
    "        print(\"Gradient Descent({bi}/{ti}): loss={l}\".format(\n",
    "              bi=n_iter, ti=max_iters - 1, l=loss))\n",
    "\n",
    "    return w, loss"
   ]
  },
  {
   "cell_type": "code",
   "execution_count": 3,
   "metadata": {},
   "outputs": [],
   "source": [
    "traindata,_ = load_data('Data/train.csv')\n",
    "X_total, Y_total = structure_data(traindata)\n",
    "\n",
    "# Replacing undefined data with NaNs\n",
    "X_nans = replace_bad_data_with_nans(X_total, -999)\n",
    "\n",
    "X_nans, col = replace_nans_with_median(X_nans, threshold=0.5)\n",
    "\n",
    "X_nans = standardize_data(X_nans)"
   ]
  },
  {
   "cell_type": "code",
   "execution_count": 4,
   "metadata": {},
   "outputs": [],
   "source": [
    "index_list = list(range(2,X_nans.shape[1]))\n",
    "\n",
    "degree_test = [1/3]\n",
    "degree = [degree_test for i in range(X_nans.shape[1])]"
   ]
  },
  {
   "cell_type": "code",
   "execution_count": 5,
   "metadata": {},
   "outputs": [
    {
     "data": {
      "text/plain": [
       "array([19.1205597 , 18.20541924, 14.32433146, ..., 13.03461694,\n",
       "       11.38838574, 12.55019927])"
      ]
     },
     "execution_count": 5,
     "metadata": {},
     "output_type": "execute_result"
    }
   ],
   "source": [
    "X_poly = build_poly_index(X_nans, index_list, degree)\n",
    "\n",
    "initial_w = np.ones((X_poly.shape[1]))*(1)\n",
    "\n",
    "\n",
    "\n",
    "X_poly.dot(initial_w)"
   ]
  },
  {
   "cell_type": "code",
   "execution_count": 6,
   "metadata": {},
   "outputs": [
    {
     "name": "stdout",
     "output_type": "stream",
     "text": [
      "250000.0\n",
      "250000.00000000503\n",
      "258577.890522298\n",
      "244852.67147589542\n",
      "209608.65276890743\n",
      "-177839.166789076\n",
      "203540.7416355318\n",
      "265217.4553239925\n",
      "242063.62420094147\n",
      "-20837.34122270733\n",
      "243836.09612549\n",
      "-822.8168040689131\n",
      "-1529.478224054675\n",
      "245575.07091028822\n",
      "-1057.0000183504644\n",
      "5325.664580939999\n",
      "256107.70939206332\n",
      "-1319.3969451550731\n",
      "241274.68572080054\n",
      "172983.58204886902\n",
      "243243.4919232781\n",
      "-87.91233415075186\n",
      "-20791.902850692743\n",
      "151843.4161718607\n"
     ]
    }
   ],
   "source": [
    "for i in range(X_poly.shape[1]):\n",
    "    print(sum(X_poly[:,i]))"
   ]
  },
  {
   "cell_type": "code",
   "execution_count": null,
   "metadata": {},
   "outputs": [],
   "source": [
    "max_iters = 1000\n",
    "gamma = 0.00001\n",
    "lambda_ = 0.001\n",
    "w, loss = least_squares_L1(Y_total, X_poly, initial_w, max_iters, gamma, lambda_)"
   ]
  },
  {
   "cell_type": "code",
   "execution_count": null,
   "metadata": {},
   "outputs": [],
   "source": [
    "compute_gradient_L1(Y_total, X_poly, initial_w, lambda_)"
   ]
  },
  {
   "cell_type": "code",
   "execution_count": null,
   "metadata": {},
   "outputs": [],
   "source": [
    "initial_w"
   ]
  },
  {
   "cell_type": "code",
   "execution_count": null,
   "metadata": {},
   "outputs": [],
   "source": [
    "tx = X_poly\n",
    "y = Y_total\n",
    "w = np.random.randn((X_poly.shape[1]))*(0.001)"
   ]
  },
  {
   "cell_type": "code",
   "execution_count": null,
   "metadata": {},
   "outputs": [],
   "source": [
    "tx.dot(w)"
   ]
  },
  {
   "cell_type": "code",
   "execution_count": null,
   "metadata": {},
   "outputs": [],
   "source": [
    "np.dot(X_poly, w)"
   ]
  },
  {
   "cell_type": "code",
   "execution_count": null,
   "metadata": {},
   "outputs": [],
   "source": []
  }
 ],
 "metadata": {
  "kernelspec": {
   "display_name": "Python 3",
   "language": "python",
   "name": "python3"
  },
  "language_info": {
   "codemirror_mode": {
    "name": "ipython",
    "version": 3
   },
   "file_extension": ".py",
   "mimetype": "text/x-python",
   "name": "python",
   "nbconvert_exporter": "python",
   "pygments_lexer": "ipython3",
   "version": "3.7.3"
  }
 },
 "nbformat": 4,
 "nbformat_minor": 4
}
