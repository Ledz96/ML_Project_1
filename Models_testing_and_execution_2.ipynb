{
 "cells": [
  {
   "cell_type": "code",
   "execution_count": 1,
   "metadata": {},
   "outputs": [],
   "source": [
    "import numpy as np\n",
    "from utils_predictions_manipulation import*\n",
    "from utils_nans_manipulation import*\n",
    "from cross_validation import*\n",
    "from utils_data_loading import*\n",
    "from utils_features_manipulation import*"
   ]
  },
  {
   "cell_type": "markdown",
   "metadata": {},
   "source": [
    "# Model testing on training data"
   ]
  },
  {
   "cell_type": "markdown",
   "metadata": {},
   "source": [
    "## Loading and cleaning data"
   ]
  },
  {
   "cell_type": "markdown",
   "metadata": {},
   "source": [
    "### Loading training data"
   ]
  },
  {
   "cell_type": "code",
   "execution_count": 11,
   "metadata": {},
   "outputs": [],
   "source": [
    "traindata,_ = load_data('Data/train.csv')"
   ]
  },
  {
   "cell_type": "markdown",
   "metadata": {},
   "source": [
    "### Format training data, add fake feature"
   ]
  },
  {
   "cell_type": "code",
   "execution_count": 12,
   "metadata": {},
   "outputs": [],
   "source": [
    "X_total, Y_total = structure_data(traindata)"
   ]
  },
  {
   "cell_type": "code",
   "execution_count": 13,
   "metadata": {},
   "outputs": [
    {
     "data": {
      "text/plain": [
       "(250000, 31)"
      ]
     },
     "execution_count": 13,
     "metadata": {},
     "output_type": "execute_result"
    }
   ],
   "source": [
    "# Replacing undefined data with NaNs\n",
    "\n",
    "X_nans = replace_bad_data_with_nans(X_total, -999)\n",
    "Y_nans = Y_total\n",
    "X_nans.shape\n"
   ]
  },
  {
   "cell_type": "code",
   "execution_count": 5,
   "metadata": {},
   "outputs": [],
   "source": [
    "#RUN CELL TO REPLACE NaNs with median\n",
    "X_nans = replace_nans_with_median(X_nans, threshold=0.5)\n"
   ]
  },
  {
   "cell_type": "code",
   "execution_count": 6,
   "metadata": {},
   "outputs": [
    {
     "name": "stderr",
     "output_type": "stream",
     "text": [
      "/Users/ENVasquez/Desktop/ML_Project_1/utils_features_manipulation.py:46: RuntimeWarning: invalid value encountered in power\n",
      "  coltmp=tx[:,i]**d\n",
      "/Users/ENVasquez/Desktop/ML_Project_1/utils_features_manipulation.py:46: RuntimeWarning: invalid value encountered in sqrt\n",
      "  coltmp=tx[:,i]**d\n"
     ]
    },
    {
     "data": {
      "text/plain": [
       "(250000, 200)"
      ]
     },
     "execution_count": 6,
     "metadata": {},
     "output_type": "execute_result"
    }
   ],
   "source": [
    "#RUN CELL TO BUILD POLY\n",
    "index_list = list(range(31))\n",
    "index_list.remove(0)\n",
    "index_list.remove(23)\n",
    "\n",
    "degree = [1/5, 1/4, 1/3, 1/2, 1, 2, 3, 4, 5]\n",
    "\n",
    "X_nans = build_poly_index(X_nans, index_list, degree)\n",
    "X_nans.shape"
   ]
  },
  {
   "cell_type": "code",
   "execution_count": null,
   "metadata": {},
   "outputs": [],
   "source": [
    "#RUN CELL TO STANDARDIZE DATA\n",
    "X_nans = standardize_data(X_nans)\n",
    "X_nans"
   ]
  },
  {
   "cell_type": "markdown",
   "metadata": {},
   "source": [
    "### Cleaned Data names in the cell below!"
   ]
  },
  {
   "cell_type": "code",
   "execution_count": null,
   "metadata": {},
   "outputs": [],
   "source": [
    "'''import matplotlib.pyplot as plt\n",
    "\n",
    "for i in range(X_nans.shape[1]):\n",
    "    col = X_nans[:,i]\n",
    "    print(i)\n",
    "    plt.hist(col, bins=100)\n",
    "    plt.show()'''"
   ]
  },
  {
   "cell_type": "code",
   "execution_count": 9,
   "metadata": {
    "scrolled": true
   },
   "outputs": [
    {
     "name": "stdout",
     "output_type": "stream",
     "text": [
      "(250000, 200) (250000,)\n"
     ]
    }
   ],
   "source": [
    "print(X_nans.shape, Y_nans.shape)\n"
   ]
  },
  {
   "cell_type": "markdown",
   "metadata": {},
   "source": [
    "# LPM"
   ]
  },
  {
   "cell_type": "markdown",
   "metadata": {},
   "source": [
    "## Least Squares"
   ]
  },
  {
   "cell_type": "code",
   "execution_count": 20,
   "metadata": {},
   "outputs": [],
   "source": [
    "meanacc_dtest_ls = []\n",
    "meanacc_dtrain_ls = []\n",
    "\n",
    "# Execute for data originally with no NaNs\n",
    "dtmp_tr,dtmp_te=cross_validation(Y_nans,X_nans,k_fold=4,seed=1, function_name='least_squares')\n",
    "meanacc_dtest_ls.append(dtmp_te)\n",
    "meanacc_dtrain_ls.append(dtmp_tr)\n"
   ]
  },
  {
   "cell_type": "code",
   "execution_count": 21,
   "metadata": {
    "scrolled": false
   },
   "outputs": [
    {
     "name": "stdout",
     "output_type": "stream",
     "text": [
      "No NaNs accuracy:\n",
      "Test: 0.657332 Data: 0.657332\n"
     ]
    }
   ],
   "source": [
    "print(\"No NaNs accuracy:\")\n",
    "print(\"Test:\",meanacc_dtest_ls[0],\"Data:\", meanacc_dtrain_ls[0])"
   ]
  },
  {
   "cell_type": "markdown",
   "metadata": {},
   "source": [
    "<b>Comment: </b>same result we got in the other notebook. Fine accuracy."
   ]
  },
  {
   "cell_type": "markdown",
   "metadata": {},
   "source": [
    "## Gradient Descent"
   ]
  },
  {
   "cell_type": "code",
   "execution_count": null,
   "metadata": {},
   "outputs": [],
   "source": [
    "meanacc_dtest_gd = []\n",
    "meanacc_dtrain_gd = []\n",
    "\n",
    "from time import time\n",
    "\n",
    "start = time()\n",
    "# Execute for data originally with no NaNs\n",
    "dtmp_tr,dtmp_te=cross_validation(Y_nans,X_nans,k_fold=4,seed=1, function_name='gd', gamma=0.000002, max_iters=1000)\n",
    "meanacc_dtest_gd.append(dtmp_te)\n",
    "meanacc_dtrain_gd.append(dtmp_tr)\n",
    "\n",
    "end = time()\n",
    "print(end - start)"
   ]
  },
  {
   "cell_type": "code",
   "execution_count": null,
   "metadata": {},
   "outputs": [],
   "source": [
    "print(\"No NaNs accuracy:\")\n",
    "print(\"Test:\",meanacc_dtest_gd[0],\"Data:\", meanacc_dtrain_gd[0])"
   ]
  },
  {
   "cell_type": "markdown",
   "metadata": {},
   "source": [
    "<b>Comment:</b> Apparently, GD is not converging fast enough. We get higher error than with Least Squares"
   ]
  },
  {
   "cell_type": "markdown",
   "metadata": {},
   "source": [
    "## Stochastic Gradient Descent"
   ]
  },
  {
   "cell_type": "code",
   "execution_count": null,
   "metadata": {},
   "outputs": [],
   "source": [
    "from time import time\n",
    "\n",
    "meanacc_dtest_sgd = []\n",
    "meanacc_dtrain_sgd = []\n",
    "\n",
    "now = time()\n",
    "# Execute for data originally with no NaNs\n",
    "dtmp_tr,dtmp_te=cross_validation(Y_nans,X_nans,k_fold=4,seed=1, function_name='sgd', gamma=0.0000001, max_iters=1000)\n",
    "meanacc_dtest_sgd.append(dtmp_te)\n",
    "meanacc_dtrain_sgd.append(dtmp_tr)\n",
    "\n",
    "final = time()\n",
    "print(final - now)"
   ]
  },
  {
   "cell_type": "code",
   "execution_count": null,
   "metadata": {
    "scrolled": true
   },
   "outputs": [],
   "source": [
    "print(\"No NaNs accuracy:\")\n",
    "print(\"Test:\",meanacc_dtest_sgd[0],\"Data:\", meanacc_dtrain_sgd[0])"
   ]
  },
  {
   "cell_type": "markdown",
   "metadata": {},
   "source": [
    "<b>Comment: </b>same result we had with GD. Apparently is not even faster. Might be worth measuring with time()."
   ]
  },
  {
   "cell_type": "markdown",
   "metadata": {},
   "source": [
    "## Ridge Regression"
   ]
  },
  {
   "cell_type": "code",
   "execution_count": null,
   "metadata": {},
   "outputs": [],
   "source": [
    "meanacc_dtest_rr = []\n",
    "meanacc_dtrain_rr = []\n",
    "\n",
    "for lambda_ in np.logspace(-5,0,15):\n",
    "    # Execute for data originally with no NaNs\n",
    "    dtmp_tr,dtmp_te=cross_validation(Y_nans,X_nans,k_fold=4,seed=1, function_name='ridge_regression', lambda_=lambda_)\n",
    "    meanacc_dtest_rr.append(dtmp_te)\n",
    "    meanacc_dtrain_rr.append(dtmp_tr)"
   ]
  },
  {
   "cell_type": "code",
   "execution_count": null,
   "metadata": {},
   "outputs": [],
   "source": [
    "\"\"\"\n",
    "import matplotlib.pyplot as plt\n",
    "\n",
    "plt.figure()\n",
    "plt.plot(np.logspace(-5,0,15), meanacc_dtrain_rr[1::2])\n",
    "\n",
    "plt.plot(np.logspace(-5,0,15), meanacc_dtrain_rr[::2])\n",
    "plt.show()\n",
    "\n",
    "print(meanacc_dtest_rr[::2])\n",
    "\"\"\""
   ]
  },
  {
   "cell_type": "code",
   "execution_count": null,
   "metadata": {
    "scrolled": true
   },
   "outputs": [],
   "source": [
    "print(\"No NaNs accuracy:\")\n",
    "print(\"Test:\\n\",meanacc_dtest_rr[::2],\"\\n\\n Data:\\n\", meanacc_dtrain_rr[::2])"
   ]
  },
  {
   "cell_type": "markdown",
   "metadata": {},
   "source": [
    "# Logit"
   ]
  },
  {
   "cell_type": "markdown",
   "metadata": {},
   "source": [
    "## Logistic Regression"
   ]
  },
  {
   "cell_type": "code",
   "execution_count": null,
   "metadata": {},
   "outputs": [],
   "source": [
    "meanacc_dtest_lr = []\n",
    "meanacc_dtrain_lr = []\n",
    "\n",
    "gamma = 5e-11\n",
    "\n",
    "# Execute for data originally with no NaNs\n",
    "dtmp_tr,dtmp_te=cross_validation(Y_nans,X_nans,k_fold=3,seed=1, function_name='logistic_regression', max_iters=10000,gamma=gamma)\n",
    "meanacc_dtest_lr.append(dtmp_te)\n",
    "meanacc_dtrain_lr.append(dtmp_tr)\n"
   ]
  },
  {
   "cell_type": "code",
   "execution_count": null,
   "metadata": {},
   "outputs": [],
   "source": [
    "print(\"No NaNs accuracy:\")\n",
    "print(\"Test:\",meanacc_dtest_lr[0],\"Data:\", meanacc_dtrain_lr[0])\n"
   ]
  },
  {
   "cell_type": "markdown",
   "metadata": {},
   "source": [
    "## Reg Logistic Regression"
   ]
  },
  {
   "cell_type": "code",
   "execution_count": null,
   "metadata": {},
   "outputs": [],
   "source": [
    "meanacc_dtest_rlr = []\n",
    "meanacc_dtrain_rlr = []\n",
    "\n",
    "gamma = 0.0000000005\n",
    "\n",
    "for lambda_ in np.logspace(-5,0,5):\n",
    "    # Execute for data originally with no NaNs\n",
    "    dtmp_tr,dtmp_te=cross_validation(Y_no_nans,X_no_nans,k_fold=3,seed=1, function_name='reg_logistic_regression', max_iters=10000,gamma=gamma,lambda_=lambda_)\n",
    "    meanacc_dtest_rlr.append(dtmp_te)\n",
    "    meanacc_dtrain_rlr.append(dtmp_tr)\n",
    "\n",
    "    # Execute for data originally with NaNs\n",
    "    dtmp_tr,dtmp_te=cross_validation(Y_cleaned,X_cleaned,k_fold=3,seed=1, function_name='reg_logistic_regression', max_iters=10000,gamma=gamma,lambda_=lambda_)\n",
    "    meanacc_dtest_rlr.append(dtmp_te)\n",
    "    meanacc_dtrain_rlr.append(dtmp_tr)"
   ]
  },
  {
   "cell_type": "code",
   "execution_count": null,
   "metadata": {},
   "outputs": [],
   "source": [
    "print(\"No NaNs accuracy:\")\n",
    "print(\"Test:\",meanacc_dtest_rlr[::2],\"Data:\", meanacc_dtrain_rlr[::2])\n",
    "print(\"\\nCleaned NaNs accuracy:\", )\n",
    "print(\"Test:\",meanacc_dtest_rlr[1::2],\"Data:\", meanacc_dtrain_rlr[1::2])"
   ]
  },
  {
   "cell_type": "markdown",
   "metadata": {},
   "source": [
    "Too slow! Find good lambda before running."
   ]
  },
  {
   "cell_type": "markdown",
   "metadata": {},
   "source": [
    "TODO:\n",
    "\n",
    "Try with polynomial expansion and standardization"
   ]
  }
 ],
 "metadata": {
  "kernelspec": {
   "display_name": "Python 3",
   "language": "python",
   "name": "python3"
  },
  "language_info": {
   "codemirror_mode": {
    "name": "ipython",
    "version": 3
   },
   "file_extension": ".py",
   "mimetype": "text/x-python",
   "name": "python",
   "nbconvert_exporter": "python",
   "pygments_lexer": "ipython3",
   "version": "3.7.3"
  }
 },
 "nbformat": 4,
 "nbformat_minor": 4
}
