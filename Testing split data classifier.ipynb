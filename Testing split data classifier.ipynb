{
 "cells": [
  {
   "cell_type": "code",
   "execution_count": 2,
   "metadata": {},
   "outputs": [],
   "source": [
    "import csv\n",
    "import numpy as np\n",
    "from matplotlib import pyplot as plt \n",
    "import itertools"
   ]
  },
  {
   "cell_type": "code",
   "execution_count": 3,
   "metadata": {},
   "outputs": [],
   "source": [
    "data_path = \"Data/train.csv\"\n",
    "\n",
    "dtypes = \"i8,S5,f8,f8,f8,f8,f8,f8,f8,f8,f8,f8,f8,f8,f8,f8,f8,f8,f8,f8,f8,f8,f8,f8,i8,f8,f8,f8,f8,f8,f8,f8\"\n",
    "with open(data_path, 'r') as f:\n",
    "    reader = csv.reader(f, delimiter=',')\n",
    "    headers = next(reader)\n",
    "data = np.genfromtxt(data_path, delimiter=\",\",names=True, dtype=dtypes)\n",
    "\n",
    "# REMOVING -999.0 values, turining to np.nan\n",
    "data2 = data.copy()\n",
    "nan_ind = []\n",
    "for col in headers[2:]:\n",
    "    for i in range(len(data2[col])):\n",
    "        if data2[col][i] == -999.0:\n",
    "            data2[col][i] = np.nan\n",
    "            nan_ind.append(i)\n",
    "\n",
    "nan_ind.sort()\n",
    "nan_ind = list(set(nan_ind))"
   ]
  },
  {
   "cell_type": "code",
   "execution_count": 4,
   "metadata": {},
   "outputs": [],
   "source": [
    "def split_by_thresholds(data2):\n",
    "    #Identifiers\n",
    "    split_d = {}\n",
    "\n",
    "    split_d[\"PRI_jet_num\"] = [\"J0\",\"J1\",\"J2\",\"J3\"]\n",
    "    split_d[\"DER_met_phi_centrality\"] = [\"p+\",\"p-\"]\n",
    "    split_d[\"DER_lep_eta_centrality\"] = [\"e+\",\"e-\"] \n",
    "\n",
    "    # Expand jet_num to include combinations\n",
    "    comb = list(itertools.combinations(split_d[\"PRI_jet_num\"],1)) \n",
    "    comb = list(itertools.combinations(split_d[\"PRI_jet_num\"],2)) + comb\n",
    "    comb = list(itertools.combinations(split_d[\"PRI_jet_num\"],3)) + comb\n",
    "    split_d[\"PRI_jet_num\"] = comb\n",
    "\n",
    "    comb = split_d[\"PRI_jet_num\"] + split_d[\"DER_met_phi_centrality\"] + split_d[\"DER_lep_eta_centrality\"]\n",
    "\n",
    "    # Prepare combinations of 2 sets of features\n",
    "    comb2 = list(itertools.product(*list(split_d.values())[0:2]))\n",
    "    comb2 = list(itertools.product(*list(split_d.values())[1:3])) + comb2\n",
    "    comb2 = list(itertools.product(*[list(split_d.values())[0],list(split_d.values())[-1]])) + comb2\n",
    "\n",
    "    # Prepare combinations of 3 sets of features\n",
    "    comb3 = list(itertools.product(*list(split_d.values())[0:3]))\n",
    "\n",
    "    combination_names = comb+comb2+comb3\n",
    "    \n",
    "    #ACTUALLY GENERATING TRUTH TABLES\n",
    "    # Select which header to split and how\n",
    "    split_d = {}\n",
    "\n",
    "    split_d[\"PRI_jet_num\"] = [data2[\"PRI_jet_num\"] == 0,\n",
    "                              data2[\"PRI_jet_num\"] == 1,\n",
    "                              data2[\"PRI_jet_num\"] == 2,\n",
    "                              data2[\"PRI_jet_num\"] == 3]\n",
    "\n",
    "    split_d[\"DER_met_phi_centrality\"] = [data2[\"DER_met_phi_centrality\"] > 0,\n",
    "                                         data2[\"DER_met_phi_centrality\"] < 0]\n",
    "\n",
    "    split_d[\"DER_lep_eta_centrality\"] = [data2[\"DER_lep_eta_centrality\"] > 0.5,\n",
    "                                         data2[\"DER_lep_eta_centrality\"] < 0.5]   \n",
    "\n",
    "\n",
    "    # Expand jet_num to include combinations\n",
    "    comb = list(itertools.combinations(split_d[\"PRI_jet_num\"],1)) \n",
    "    comb = list(itertools.combinations(split_d[\"PRI_jet_num\"],2)) + comb\n",
    "    comb = list(itertools.combinations(split_d[\"PRI_jet_num\"],3)) + comb\n",
    "    comb = [np.logical_or.reduce(tup) for tup in comb]\n",
    "    split_d[\"PRI_jet_num\"] =  comb\n",
    "\n",
    "    # Combinations of 1 set of features\n",
    "    comb = split_d[\"PRI_jet_num\"] + split_d[\"DER_met_phi_centrality\"] + split_d[\"DER_lep_eta_centrality\"]\n",
    "\n",
    "    # Combinations of 2 sets of features\n",
    "    comb2 = list(itertools.product(*list(split_d.values())[0:2]))\n",
    "    comb2 = list(itertools.product(*list(split_d.values())[1:3])) + comb2\n",
    "    comb2 = list(itertools.product(*[list(split_d.values())[0],list(split_d.values())[-1]])) + comb2\n",
    "    comb2 = [np.logical_or.reduce(tup) for tup in comb2]\n",
    "\n",
    "    # Combinations of 3 sets of features\n",
    "    comb3 = list(itertools.product(*list(split_d.values())[0:3]))\n",
    "    comb3 = [np.logical_or.reduce(tup) for tup in comb3]\n",
    "\n",
    "    # All outputs\n",
    "    combination = comb+comb2+comb3\n",
    "    return combination, combination_names"
   ]
  },
  {
   "cell_type": "code",
   "execution_count": 5,
   "metadata": {},
   "outputs": [],
   "source": [
    "def get_as_list_of_lists_training(xinput, extra_params=False):\n",
    "    xlist=[]\n",
    "    for i in xinput:\n",
    "        sublist=[]\n",
    "        for x in i:\n",
    "            sublist.append(x)\n",
    "        if extra_params:\n",
    "            sublist=sublist[2:]       # Should be 1: if prediction is removed from the input data\n",
    "        xlist.append(sublist)\n",
    "        \n",
    "    return xlist"
   ]
  },
  {
   "cell_type": "code",
   "execution_count": 6,
   "metadata": {},
   "outputs": [],
   "source": [
    "def add_fake_feature(listx):\n",
    "    for x in listx:\n",
    "        x.insert(0,1)"
   ]
  },
  {
   "cell_type": "code",
   "execution_count": 7,
   "metadata": {},
   "outputs": [],
   "source": [
    "def split_data(x, y, ratio, seed=1):\n",
    "    \"\"\"split the dataset based on the split ratio.\"\"\"\n",
    "    # set seed\n",
    "    np.random.seed(seed)\n",
    "\n",
    "    # split the data based on the given ratio   \n",
    "    p = np.random.permutation(len(y))\n",
    "    y = y[p]\n",
    "    x = x[p]\n",
    "    \n",
    "    limit = int(len(y)*ratio)\n",
    "        \n",
    "    return x[:limit],x[limit:],y[:limit],y[limit:]"
   ]
  },
  {
   "cell_type": "code",
   "execution_count": 8,
   "metadata": {},
   "outputs": [],
   "source": [
    "def least_squares(y, tx):\n",
    "    \"\"\"calculate the least squares.\"\"\"\n",
    "    XX = np.dot(tx.transpose(),tx)\n",
    "    B = np.dot(tx.transpose(),y)\n",
    "    if len(XX.shape)==0:\n",
    "        w_s = B/XX\n",
    "    else:\n",
    "        w_s = np.linalg.solve(XX,B)    \n",
    "    \n",
    "    loss = compute_loss(y, tx, w_s)\n",
    "    \n",
    "    return w_s, loss "
   ]
  },
  {
   "cell_type": "code",
   "execution_count": 9,
   "metadata": {},
   "outputs": [],
   "source": [
    "def compute_loss(y, tx, w):\n",
    "    \"\"\"Calculate the loss using MSE.\"\"\"\n",
    "    e = y - tx.dot(w)\n",
    "    lv = 0.5*np.mean(np.square(e))\n",
    "    return lv"
   ]
  },
  {
   "cell_type": "code",
   "execution_count": 12,
   "metadata": {},
   "outputs": [],
   "source": [
    "# defining a function that executes the model\n",
    "\n",
    "def execute_LPM(xtrainInput, ytrainInput, xtestInput, ytestInput):\n",
    "\n",
    "    xlist = get_as_list_of_lists_training(xtestInput)\n",
    "    add_fake_feature(xlist)\n",
    "\n",
    "    trainxlist = get_as_list_of_lists_training(xtrainInput)\n",
    "    add_fake_feature(trainxlist)\n",
    "\n",
    "    # formatting y to array of 0,1\n",
    "    #y=(ytrainInput==b's').astype(int)\n",
    "    Ytrain=np.array(ytrainInput)\n",
    "    Xtrain=np.array(trainxlist)\n",
    "        \n",
    "    weights,MSE=least_squares(Ytrain, Xtrain)\n",
    "    \n",
    "    #applying predictions\n",
    "    xtest=np.array(xlist)\n",
    "\n",
    "    if (len(weights.shape) == 0):\n",
    "        return 0,0\n",
    "    \n",
    "    Ypred=np.dot(xtest,weights)\n",
    "    Ypredclass=(Ypred>0.5).astype(int)\n",
    "    \n",
    "    for i in range(Ypredclass.size):\n",
    "        if Ypredclass[i]==0:\n",
    "            Ypredclass[i]=-1\n",
    "            \n",
    "    Ytest=np.array(ytestInput)\n",
    "    n=len(Ytest)\n",
    "\n",
    "    #test accuracy\n",
    "    acctest=(Ypredclass==Ytest).sum()/n\n",
    "    #train accuracy\n",
    "    nt=Ytrain.size\n",
    "    ypredtrain=np.dot(Xtrain,weights)\n",
    "    ypredtrainclass=(ypredtrain>0.5).astype(int)\n",
    "    acctrain=(Ytrain==ypredtrainclass).sum()/nt\n",
    "\n",
    "    '''\n",
    "    idcolumn=xtrainInput[['Id']]\n",
    "    idlist=[i[0] for i in idcolumn]\n",
    "\n",
    "    a=np.append(np.array(idlist).reshape(-1,1).astype(int),Ypredclass.reshape(-1,1).astype(int),axis=1)\n",
    "\n",
    "    np.savetxt(\"submission.csv\", a, delimiter=',', header=\"Id,Prediction\", comments=\"\", fmt='%d')\n",
    "    '''\n",
    "    \n",
    "    return acctrain,acctest"
   ]
  },
  {
   "cell_type": "code",
   "execution_count": 13,
   "metadata": {},
   "outputs": [
    {
     "name": "stderr",
     "output_type": "stream",
     "text": [
      "<ipython-input-4-1a3a3ecc6c31>:39: RuntimeWarning: invalid value encountered in greater\n",
      "  split_d[\"DER_lep_eta_centrality\"] = [data2[\"DER_lep_eta_centrality\"] > 0.5,\n",
      "<ipython-input-4-1a3a3ecc6c31>:40: RuntimeWarning: invalid value encountered in less\n",
      "  data2[\"DER_lep_eta_centrality\"] < 0.5]\n"
     ]
    }
   ],
   "source": [
    "comb, comb_n = split_by_thresholds(data2)"
   ]
  },
  {
   "cell_type": "code",
   "execution_count": 14,
   "metadata": {},
   "outputs": [
    {
     "ename": "KeyboardInterrupt",
     "evalue": "",
     "output_type": "error",
     "traceback": [
      "\u001b[1;31m---------------------------------------------------------------------------\u001b[0m",
      "\u001b[1;31mKeyboardInterrupt\u001b[0m                         Traceback (most recent call last)",
      "\u001b[1;32m<ipython-input-14-8189c378f23e>\u001b[0m in \u001b[0;36m<module>\u001b[1;34m\u001b[0m\n\u001b[0;32m      4\u001b[0m     \u001b[0mdata_s\u001b[0m \u001b[1;33m=\u001b[0m \u001b[0mdata2\u001b[0m\u001b[1;33m[\u001b[0m\u001b[0mc_tr\u001b[0m\u001b[1;33m]\u001b[0m\u001b[1;33m\u001b[0m\u001b[1;33m\u001b[0m\u001b[0m\n\u001b[0;32m      5\u001b[0m     \u001b[0mylist\u001b[0m \u001b[1;33m=\u001b[0m \u001b[1;33m(\u001b[0m\u001b[0mdata_s\u001b[0m\u001b[1;33m[\u001b[0m\u001b[1;34m'Prediction'\u001b[0m\u001b[1;33m]\u001b[0m\u001b[1;33m==\u001b[0m\u001b[1;34mb'b'\u001b[0m\u001b[1;33m)\u001b[0m\u001b[1;33m.\u001b[0m\u001b[0mastype\u001b[0m\u001b[1;33m(\u001b[0m\u001b[0mint\u001b[0m\u001b[1;33m)\u001b[0m\u001b[1;33m\u001b[0m\u001b[1;33m\u001b[0m\u001b[0m\n\u001b[1;32m----> 6\u001b[1;33m     \u001b[0mxlist\u001b[0m \u001b[1;33m=\u001b[0m \u001b[0mget_as_list_of_lists_training\u001b[0m\u001b[1;33m(\u001b[0m\u001b[0mdata_s\u001b[0m\u001b[1;33m,\u001b[0m \u001b[1;32mTrue\u001b[0m\u001b[1;33m)\u001b[0m\u001b[1;33m\u001b[0m\u001b[1;33m\u001b[0m\u001b[0m\n\u001b[0m\u001b[0;32m      7\u001b[0m \u001b[1;33m\u001b[0m\u001b[0m\n\u001b[0;32m      8\u001b[0m     \u001b[0mXtrain\u001b[0m\u001b[1;33m,\u001b[0m \u001b[0mXtest\u001b[0m\u001b[1;33m,\u001b[0m \u001b[0mYtrain\u001b[0m\u001b[1;33m,\u001b[0m \u001b[0mYtest\u001b[0m \u001b[1;33m=\u001b[0m \u001b[0msplit_data\u001b[0m\u001b[1;33m(\u001b[0m\u001b[0mnp\u001b[0m\u001b[1;33m.\u001b[0m\u001b[0marray\u001b[0m\u001b[1;33m(\u001b[0m\u001b[0mxlist\u001b[0m\u001b[1;33m)\u001b[0m\u001b[1;33m,\u001b[0m \u001b[0mylist\u001b[0m\u001b[1;33m,\u001b[0m \u001b[0mratio\u001b[0m\u001b[1;33m,\u001b[0m \u001b[0mseed\u001b[0m\u001b[1;33m=\u001b[0m\u001b[1;36m1\u001b[0m\u001b[1;33m)\u001b[0m\u001b[1;33m\u001b[0m\u001b[1;33m\u001b[0m\u001b[0m\n",
      "\u001b[1;32m<ipython-input-5-b75d8392b65c>\u001b[0m in \u001b[0;36mget_as_list_of_lists_training\u001b[1;34m(xinput, extra_params)\u001b[0m\n\u001b[0;32m      4\u001b[0m         \u001b[0msublist\u001b[0m\u001b[1;33m=\u001b[0m\u001b[1;33m[\u001b[0m\u001b[1;33m]\u001b[0m\u001b[1;33m\u001b[0m\u001b[1;33m\u001b[0m\u001b[0m\n\u001b[0;32m      5\u001b[0m         \u001b[1;32mfor\u001b[0m \u001b[0mx\u001b[0m \u001b[1;32min\u001b[0m \u001b[0mi\u001b[0m\u001b[1;33m:\u001b[0m\u001b[1;33m\u001b[0m\u001b[1;33m\u001b[0m\u001b[0m\n\u001b[1;32m----> 6\u001b[1;33m             \u001b[0msublist\u001b[0m\u001b[1;33m.\u001b[0m\u001b[0mappend\u001b[0m\u001b[1;33m(\u001b[0m\u001b[0mx\u001b[0m\u001b[1;33m)\u001b[0m\u001b[1;33m\u001b[0m\u001b[1;33m\u001b[0m\u001b[0m\n\u001b[0m\u001b[0;32m      7\u001b[0m         \u001b[1;32mif\u001b[0m \u001b[0mextra_params\u001b[0m\u001b[1;33m:\u001b[0m\u001b[1;33m\u001b[0m\u001b[1;33m\u001b[0m\u001b[0m\n\u001b[0;32m      8\u001b[0m             \u001b[0msublist\u001b[0m\u001b[1;33m=\u001b[0m\u001b[0msublist\u001b[0m\u001b[1;33m[\u001b[0m\u001b[1;36m2\u001b[0m\u001b[1;33m:\u001b[0m\u001b[1;33m]\u001b[0m       \u001b[1;31m# Should be 1: if prediction is removed from the input data\u001b[0m\u001b[1;33m\u001b[0m\u001b[1;33m\u001b[0m\u001b[0m\n",
      "\u001b[1;31mKeyboardInterrupt\u001b[0m: "
     ]
    }
   ],
   "source": [
    "ratio = 0.8 # Ratio of train data\n",
    "\n",
    "for c_tr,c_n in zip(comb,comb_n):\n",
    "    data_s = data2[c_tr]\n",
    "    ylist = (data_s['Prediction']==b'b').astype(int)\n",
    "    xlist = get_as_list_of_lists_training(data_s, True)\n",
    "    \n",
    "    Xtrain, Xtest, Ytrain, Ytest = split_data(np.array(xlist), ylist, ratio, seed=1)\n",
    "    \n",
    "    nans = {}\n",
    "    \n",
    "    for point in Xtrain:\n",
    "        for i,feat in enumerate(point):\n",
    "            if np.isnan(feat):\n",
    "                if i in nans:\n",
    "                    nans[i] += 1\n",
    "                else:\n",
    "                    nans[i] = 1\n",
    "                \n",
    "    print(c_n, nans)"
   ]
  },
  {
   "cell_type": "code",
   "execution_count": 17,
   "metadata": {},
   "outputs": [],
   "source": [
    "# Deletes all points that contain NaNs\n",
    "# Issue: causes matrix to shrink considerably, making it singular\n",
    "\n",
    "def delete_nan_points(x,y):\n",
    "    ret_x, ret_y = zip(*[(x_point,y_point) for x_point,y_point in zip(x,y) if not np.isnan(x_point).any()])\n",
    "    return ret_x, ret_y"
   ]
  },
  {
   "cell_type": "code",
   "execution_count": 113,
   "metadata": {},
   "outputs": [],
   "source": [
    "#b = np.concatenate(data2).reshape(len(data2),*np.shape(a[data2]))\n",
    "#b = np.concatenate(data2).reshape(len(data2),*np.shape(np.array(list(data2[0]))))\n",
    "\n",
    "#np.apply_along_axis(lambda p: np.array(list(p)), 0, data2)[0]\n",
    "\n",
    "#z = np.zeros(shape=(data2.shape[0], len(data2[0])))\n",
    "#z = np.apply_along_axis(lambda p: np.array(list(p)), 0, z)\n",
    "\n",
    "d = np.array(get_as_list_of_lists_training(data2, True))"
   ]
  },
  {
   "cell_type": "code",
   "execution_count": 154,
   "metadata": {},
   "outputs": [],
   "source": [
    "#np.apply_along_axis(lambda f: np.apply_along_axis(lambda p: np.median(f), 0, f), 1, d)\n",
    "\n",
    "for col in range(d.shape[1]):\n",
    "    m = np.nanmedian(d[:,col])\n",
    "    thingy = lambda p: p if not np.isnan(p) else m\n",
    "    vfunc = np.vectorize(thingy)\n",
    "    d[:,col] = vfunc(d[:,col])"
   ]
  },
  {
   "cell_type": "code",
   "execution_count": 156,
   "metadata": {},
   "outputs": [],
   "source": [
    "def replace_nans_with_median(x):\n",
    "    for col in range(x.shape[1]):\n",
    "        m = np.nanmedian(x[:,col])\n",
    "        nan_to_median = lambda p: p if not np.isnan(p) else m\n",
    "        vfunc = np.vectorize(nan_to_median)\n",
    "        x[:,col] = vfunc(x[:,col])"
   ]
  },
  {
   "cell_type": "code",
   "execution_count": 25,
   "metadata": {},
   "outputs": [
    {
     "name": "stdout",
     "output_type": "stream",
     "text": [
      "182268 182268\n",
      "45568 45568\n",
      "30\n"
     ]
    },
    {
     "ename": "LinAlgError",
     "evalue": "Singular matrix",
     "output_type": "error",
     "traceback": [
      "\u001b[1;31m---------------------------------------------------------------------------\u001b[0m",
      "\u001b[1;31mLinAlgError\u001b[0m                               Traceback (most recent call last)",
      "\u001b[1;32m<ipython-input-25-be67562e1cd2>\u001b[0m in \u001b[0;36m<module>\u001b[1;34m\u001b[0m\n\u001b[0;32m     20\u001b[0m         \u001b[1;32mcontinue\u001b[0m\u001b[1;33m\u001b[0m\u001b[1;33m\u001b[0m\u001b[0m\n\u001b[0;32m     21\u001b[0m \u001b[1;33m\u001b[0m\u001b[0m\n\u001b[1;32m---> 22\u001b[1;33m     \u001b[0macctrain\u001b[0m\u001b[1;33m,\u001b[0m\u001b[0macctest\u001b[0m \u001b[1;33m=\u001b[0m \u001b[0mexecute_LPM\u001b[0m\u001b[1;33m(\u001b[0m\u001b[0mXtrain\u001b[0m\u001b[1;33m,\u001b[0m \u001b[0mYtrain\u001b[0m\u001b[1;33m,\u001b[0m \u001b[0mXtest\u001b[0m\u001b[1;33m,\u001b[0m \u001b[0mYtest\u001b[0m\u001b[1;33m)\u001b[0m\u001b[1;33m\u001b[0m\u001b[1;33m\u001b[0m\u001b[0m\n\u001b[0m\u001b[0;32m     23\u001b[0m \u001b[1;33m\u001b[0m\u001b[0m\n\u001b[0;32m     24\u001b[0m     \u001b[0mprint\u001b[0m\u001b[1;33m(\u001b[0m\u001b[0mc_n\u001b[0m\u001b[1;33m,\u001b[0m \u001b[0macctest\u001b[0m\u001b[1;33m,\u001b[0m \u001b[0macctrain\u001b[0m\u001b[1;33m)\u001b[0m\u001b[1;33m\u001b[0m\u001b[1;33m\u001b[0m\u001b[0m\n",
      "\u001b[1;32m<ipython-input-9-472435b68278>\u001b[0m in \u001b[0;36mexecute_LPM\u001b[1;34m(xtrainInput, ytrainInput, xtestInput, ytestInput)\u001b[0m\n\u001b[0;32m     14\u001b[0m     \u001b[0mXtrain\u001b[0m\u001b[1;33m=\u001b[0m\u001b[0mnp\u001b[0m\u001b[1;33m.\u001b[0m\u001b[0marray\u001b[0m\u001b[1;33m(\u001b[0m\u001b[0mtrainxlist\u001b[0m\u001b[1;33m)\u001b[0m\u001b[1;33m\u001b[0m\u001b[1;33m\u001b[0m\u001b[0m\n\u001b[0;32m     15\u001b[0m \u001b[1;33m\u001b[0m\u001b[0m\n\u001b[1;32m---> 16\u001b[1;33m     \u001b[0mweights\u001b[0m\u001b[1;33m,\u001b[0m\u001b[0mMSE\u001b[0m\u001b[1;33m=\u001b[0m\u001b[0mleast_squares\u001b[0m\u001b[1;33m(\u001b[0m\u001b[0mYtrain\u001b[0m\u001b[1;33m,\u001b[0m \u001b[0mXtrain\u001b[0m\u001b[1;33m)\u001b[0m\u001b[1;33m\u001b[0m\u001b[1;33m\u001b[0m\u001b[0m\n\u001b[0m\u001b[0;32m     17\u001b[0m \u001b[1;33m\u001b[0m\u001b[0m\n\u001b[0;32m     18\u001b[0m     \u001b[1;31m#applying predictions\u001b[0m\u001b[1;33m\u001b[0m\u001b[1;33m\u001b[0m\u001b[1;33m\u001b[0m\u001b[0m\n",
      "\u001b[1;32m<ipython-input-7-c18151c741e1>\u001b[0m in \u001b[0;36mleast_squares\u001b[1;34m(y, tx)\u001b[0m\n\u001b[0;32m      6\u001b[0m         \u001b[0mw_s\u001b[0m \u001b[1;33m=\u001b[0m \u001b[0mB\u001b[0m\u001b[1;33m/\u001b[0m\u001b[0mXX\u001b[0m\u001b[1;33m\u001b[0m\u001b[1;33m\u001b[0m\u001b[0m\n\u001b[0;32m      7\u001b[0m     \u001b[1;32melse\u001b[0m\u001b[1;33m:\u001b[0m\u001b[1;33m\u001b[0m\u001b[1;33m\u001b[0m\u001b[0m\n\u001b[1;32m----> 8\u001b[1;33m         \u001b[0mw_s\u001b[0m \u001b[1;33m=\u001b[0m \u001b[0mnp\u001b[0m\u001b[1;33m.\u001b[0m\u001b[0mlinalg\u001b[0m\u001b[1;33m.\u001b[0m\u001b[0msolve\u001b[0m\u001b[1;33m(\u001b[0m\u001b[0mXX\u001b[0m\u001b[1;33m,\u001b[0m\u001b[0mB\u001b[0m\u001b[1;33m)\u001b[0m\u001b[1;33m\u001b[0m\u001b[1;33m\u001b[0m\u001b[0m\n\u001b[0m\u001b[0;32m      9\u001b[0m \u001b[1;33m\u001b[0m\u001b[0m\n\u001b[0;32m     10\u001b[0m     \u001b[0mloss\u001b[0m \u001b[1;33m=\u001b[0m \u001b[0mcompute_loss\u001b[0m\u001b[1;33m(\u001b[0m\u001b[0my\u001b[0m\u001b[1;33m,\u001b[0m \u001b[0mtx\u001b[0m\u001b[1;33m,\u001b[0m \u001b[0mw_s\u001b[0m\u001b[1;33m)\u001b[0m\u001b[1;33m\u001b[0m\u001b[1;33m\u001b[0m\u001b[0m\n",
      "\u001b[1;32m<__array_function__ internals>\u001b[0m in \u001b[0;36msolve\u001b[1;34m(*args, **kwargs)\u001b[0m\n",
      "\u001b[1;32m~\\anaconda3\\lib\\site-packages\\numpy\\linalg\\linalg.py\u001b[0m in \u001b[0;36msolve\u001b[1;34m(a, b)\u001b[0m\n\u001b[0;32m    397\u001b[0m     \u001b[0msignature\u001b[0m \u001b[1;33m=\u001b[0m \u001b[1;34m'DD->D'\u001b[0m \u001b[1;32mif\u001b[0m \u001b[0misComplexType\u001b[0m\u001b[1;33m(\u001b[0m\u001b[0mt\u001b[0m\u001b[1;33m)\u001b[0m \u001b[1;32melse\u001b[0m \u001b[1;34m'dd->d'\u001b[0m\u001b[1;33m\u001b[0m\u001b[1;33m\u001b[0m\u001b[0m\n\u001b[0;32m    398\u001b[0m     \u001b[0mextobj\u001b[0m \u001b[1;33m=\u001b[0m \u001b[0mget_linalg_error_extobj\u001b[0m\u001b[1;33m(\u001b[0m\u001b[0m_raise_linalgerror_singular\u001b[0m\u001b[1;33m)\u001b[0m\u001b[1;33m\u001b[0m\u001b[1;33m\u001b[0m\u001b[0m\n\u001b[1;32m--> 399\u001b[1;33m     \u001b[0mr\u001b[0m \u001b[1;33m=\u001b[0m \u001b[0mgufunc\u001b[0m\u001b[1;33m(\u001b[0m\u001b[0ma\u001b[0m\u001b[1;33m,\u001b[0m \u001b[0mb\u001b[0m\u001b[1;33m,\u001b[0m \u001b[0msignature\u001b[0m\u001b[1;33m=\u001b[0m\u001b[0msignature\u001b[0m\u001b[1;33m,\u001b[0m \u001b[0mextobj\u001b[0m\u001b[1;33m=\u001b[0m\u001b[0mextobj\u001b[0m\u001b[1;33m)\u001b[0m\u001b[1;33m\u001b[0m\u001b[1;33m\u001b[0m\u001b[0m\n\u001b[0m\u001b[0;32m    400\u001b[0m \u001b[1;33m\u001b[0m\u001b[0m\n\u001b[0;32m    401\u001b[0m     \u001b[1;32mreturn\u001b[0m \u001b[0mwrap\u001b[0m\u001b[1;33m(\u001b[0m\u001b[0mr\u001b[0m\u001b[1;33m.\u001b[0m\u001b[0mastype\u001b[0m\u001b[1;33m(\u001b[0m\u001b[0mresult_t\u001b[0m\u001b[1;33m,\u001b[0m \u001b[0mcopy\u001b[0m\u001b[1;33m=\u001b[0m\u001b[1;32mFalse\u001b[0m\u001b[1;33m)\u001b[0m\u001b[1;33m)\u001b[0m\u001b[1;33m\u001b[0m\u001b[1;33m\u001b[0m\u001b[0m\n",
      "\u001b[1;32m~\\anaconda3\\lib\\site-packages\\numpy\\linalg\\linalg.py\u001b[0m in \u001b[0;36m_raise_linalgerror_singular\u001b[1;34m(err, flag)\u001b[0m\n\u001b[0;32m     95\u001b[0m \u001b[1;33m\u001b[0m\u001b[0m\n\u001b[0;32m     96\u001b[0m \u001b[1;32mdef\u001b[0m \u001b[0m_raise_linalgerror_singular\u001b[0m\u001b[1;33m(\u001b[0m\u001b[0merr\u001b[0m\u001b[1;33m,\u001b[0m \u001b[0mflag\u001b[0m\u001b[1;33m)\u001b[0m\u001b[1;33m:\u001b[0m\u001b[1;33m\u001b[0m\u001b[1;33m\u001b[0m\u001b[0m\n\u001b[1;32m---> 97\u001b[1;33m     \u001b[1;32mraise\u001b[0m \u001b[0mLinAlgError\u001b[0m\u001b[1;33m(\u001b[0m\u001b[1;34m\"Singular matrix\"\u001b[0m\u001b[1;33m)\u001b[0m\u001b[1;33m\u001b[0m\u001b[1;33m\u001b[0m\u001b[0m\n\u001b[0m\u001b[0;32m     98\u001b[0m \u001b[1;33m\u001b[0m\u001b[0m\n\u001b[0;32m     99\u001b[0m \u001b[1;32mdef\u001b[0m \u001b[0m_raise_linalgerror_nonposdef\u001b[0m\u001b[1;33m(\u001b[0m\u001b[0merr\u001b[0m\u001b[1;33m,\u001b[0m \u001b[0mflag\u001b[0m\u001b[1;33m)\u001b[0m\u001b[1;33m:\u001b[0m\u001b[1;33m\u001b[0m\u001b[1;33m\u001b[0m\u001b[0m\n",
      "\u001b[1;31mLinAlgError\u001b[0m: Singular matrix"
     ]
    }
   ],
   "source": [
    "ratio = 0.8 # Ratio of train data\n",
    "\n",
    "for c_tr,c_n in zip(comb,comb_n):\n",
    "    data_s = data2[c_tr]\n",
    "    ylist = (data_s['Prediction']==b'b').astype(int)\n",
    "    xlist = get_as_list_of_lists_training(data_s, True)\n",
    "    \n",
    "    Xtrain, Xtest, Ytrain, Ytest = split_data(np.array(xlist), ylist, ratio, seed=1)\n",
    "    \n",
    "    Xtest, Ytest = delete_nan_points(Xtest,Ytest)\n",
    "    Xtrain, Ytrain = delete_nan_points(Xtrain,Ytrain)\n",
    "                \n",
    "    if len(Xtrain) == 0 or len(Xtest) == 0:\n",
    "        print(c_n, \"No operation can be performed, as all points have NaNs\")\n",
    "        continue\n",
    "    \n",
    "    acctrain,acctest = execute_LPM(Xtrain, Ytrain, Xtest, Ytest)\n",
    "    \n",
    "    print(c_n, acctest, acctrain)"
   ]
  },
  {
   "cell_type": "code",
   "execution_count": null,
   "metadata": {},
   "outputs": [],
   "source": [
    "data2[comb[0]]"
   ]
  },
  {
   "cell_type": "code",
   "execution_count": null,
   "metadata": {},
   "outputs": [],
   "source": [
    "data2[comb[0]][2000]"
   ]
  },
  {
   "cell_type": "code",
   "execution_count": null,
   "metadata": {},
   "outputs": [],
   "source": [
    "Xtrain.shape"
   ]
  },
  {
   "cell_type": "code",
   "execution_count": null,
   "metadata": {},
   "outputs": [],
   "source": [
    "Ytrain.shape"
   ]
  },
  {
   "cell_type": "code",
   "execution_count": null,
   "metadata": {},
   "outputs": [],
   "source": [
    "Ytest.shape"
   ]
  },
  {
   "cell_type": "code",
   "execution_count": null,
   "metadata": {},
   "outputs": [],
   "source": []
  }
 ],
 "metadata": {
  "kernelspec": {
   "display_name": "Python 3",
   "language": "python",
   "name": "python3"
  },
  "language_info": {
   "codemirror_mode": {
    "name": "ipython",
    "version": 3
   },
   "file_extension": ".py",
   "mimetype": "text/x-python",
   "name": "python",
   "nbconvert_exporter": "python",
   "pygments_lexer": "ipython3",
   "version": "3.8.3"
  }
 },
 "nbformat": 4,
 "nbformat_minor": 2
}
