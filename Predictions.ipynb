{
 "cells": [
  {
   "cell_type": "markdown",
   "metadata": {},
   "source": [
    "# Build prediction for AICROWD"
   ]
  },
  {
   "cell_type": "code",
   "execution_count": null,
   "metadata": {},
   "outputs": [],
   "source": [
    "import numpy as np\n",
    "from utils_predictions_manipulation import*\n",
    "from utils_nans_manipulation import*\n",
    "from cross_validation import*\n",
    "from utils_data_loading import*\n",
    "from utils_features_manipulation import*\n",
    "from time import time\n",
    "from logistic_regression import*\n",
    "#from standardization import*\n",
    "from least_squares import*"
   ]
  },
  {
   "cell_type": "markdown",
   "metadata": {},
   "source": [
    "# Load data"
   ]
  },
  {
   "cell_type": "code",
   "execution_count": null,
   "metadata": {},
   "outputs": [],
   "source": [
    "traindata,_ = load_data('Data/train.csv')"
   ]
  },
  {
   "cell_type": "code",
   "execution_count": null,
   "metadata": {},
   "outputs": [],
   "source": [
    "testdata,_ = load_data('Data/test.csv')"
   ]
  },
  {
   "cell_type": "code",
   "execution_count": null,
   "metadata": {},
   "outputs": [],
   "source": [
    "X_train, Y_train = structure_data(traindata)"
   ]
  },
  {
   "cell_type": "code",
   "execution_count": null,
   "metadata": {},
   "outputs": [],
   "source": [
    "X_test,_ = structure_data(testdata)"
   ]
  },
  {
   "cell_type": "markdown",
   "metadata": {},
   "source": [
    "# Data preparation"
   ]
  },
  {
   "cell_type": "code",
   "execution_count": null,
   "metadata": {},
   "outputs": [],
   "source": [
    "X_nans = replace_bad_data_with_nans(X_train, -999)\n",
    "X_nans_test = replace_bad_data_with_nans(X_test, -999)"
   ]
  },
  {
   "cell_type": "code",
   "execution_count": null,
   "metadata": {},
   "outputs": [],
   "source": [
    "X_clean,del_indexes = replace_nans_with_median(X_nans, 0.5)"
   ]
  },
  {
   "cell_type": "code",
   "execution_count": null,
   "metadata": {},
   "outputs": [],
   "source": [
    "X_test_del = delete_nans_indexes(X_nans_test, del_indexes)"
   ]
  },
  {
   "cell_type": "code",
   "execution_count": null,
   "metadata": {},
   "outputs": [],
   "source": [
    "X_test_clean = replace_test_nans_with_median(X_test_del, X_clean)"
   ]
  },
  {
   "cell_type": "markdown",
   "metadata": {},
   "source": [
    "# Logit fine tuned"
   ]
  },
  {
   "cell_type": "markdown",
   "metadata": {},
   "source": [
    "## Prepping data"
   ]
  },
  {
   "cell_type": "code",
   "execution_count": null,
   "metadata": {},
   "outputs": [],
   "source": [
    "X_train_poly = build_poly_multi(X_clean, 4)\n",
    "X_train_final,_,_=standardize(X_train_poly)"
   ]
  },
  {
   "cell_type": "code",
   "execution_count": null,
   "metadata": {},
   "outputs": [],
   "source": [
    "X_test_poly = build_poly_multi(X_test_clean, 4)\n",
    "X_test_final,_,_=standardize(X_test_poly)"
   ]
  },
  {
   "cell_type": "code",
   "execution_count": null,
   "metadata": {},
   "outputs": [],
   "source": [
    "X_train_final.shape"
   ]
  },
  {
   "cell_type": "code",
   "execution_count": null,
   "metadata": {},
   "outputs": [],
   "source": [
    "X_test_final.shape"
   ]
  },
  {
   "cell_type": "markdown",
   "metadata": {},
   "source": [
    "## Building prediction"
   ]
  },
  {
   "cell_type": "code",
   "execution_count": null,
   "metadata": {},
   "outputs": [],
   "source": [
    "initial_w = np.ones((X_train_final.shape[1]))*(-0.01)\n",
    "\n",
    "ws,loss = logistic_regression(Y_train, X_train_final, initial_w, max_iters=10000, gamma=0.45)\n",
    "\n",
    "Y_test = sigmoid(X_test_final.dot(ws))"
   ]
  },
  {
   "cell_type": "code",
   "execution_count": null,
   "metadata": {},
   "outputs": [],
   "source": [
    "Y_pred_logit = probability_to_prediction(Y_test)"
   ]
  },
  {
   "cell_type": "markdown",
   "metadata": {},
   "source": [
    "## Outputting"
   ]
  },
  {
   "cell_type": "code",
   "execution_count": null,
   "metadata": {},
   "outputs": [],
   "source": [
    "ids = testdata[['Id']]\n",
    "\n",
    "\n",
    "\n",
    "Y_final = np.c_[np.array(ids, dtype=np.int64), Y_pred]\n",
    "\n",
    "np.savetxt(\"submission.csv\", Y_final, delimiter=',', header=\"Id,Prediction\", comments=\"\", fmt='%d')"
   ]
  },
  {
   "cell_type": "code",
   "execution_count": null,
   "metadata": {
    "scrolled": false
   },
   "outputs": [],
   "source": [
    "Y_final"
   ]
  },
  {
   "cell_type": "markdown",
   "metadata": {},
   "source": [
    "# Manu's thing"
   ]
  },
  {
   "cell_type": "code",
   "execution_count": null,
   "metadata": {},
   "outputs": [],
   "source": [
    "X_test_clean"
   ]
  },
  {
   "cell_type": "code",
   "execution_count": null,
   "metadata": {},
   "outputs": [],
   "source": [
    "X_s = standardize_data(X_clean)\n",
    "X_s_test = standardize_data(X_test_clean)\n",
    "\n",
    "#Obtained from genetic algorithm\n",
    "index = (1, 3, 5, 7, 13, 16, 18, 20, 23)\n",
    "degree = [(1, 0.25, 0.3333333333333333, 2), (1, 0.03333333333333333, 0.1, 0.2, 0.3333333333333333, 0.5, 2), (1, 0.1, 0.3333333333333333, 20), (1, 0.03333333333333333, 0.05, 0.2, 0.3333333333333333, 30), (1, 0.05, 10), (1, 0.2, 0.25, 0.3333333333333333, 3, 4, 5), (1, 3, 10, 20), (1, 0.1, 0.3333333333333333, 4), (1, 0.03333333333333333, 0.2), (1, 0.1, 2, 5), (1, 0.05, 0.1), (1, 0.2, 0.3333333333333333, 0.5, 2, 4, 10), (1, 0.1, 0.25, 0.3333333333333333, 5, 30), (1, 3, 30), (1, 0.1, 5, 10), (1, 0.25, 3, 30), (1, 0.1, 10, 30), (1, 0.2, 1, 3), (1, 0.05, 0.5, 30), (1, 3, 4), (1, 0.3333333333333333, 3, 5), (1, 2, 10), (1, 0.25, 0.3333333333333333), (1, 0.05, 0.2, 30)]\n",
    "\n",
    "X_poly = build_poly_index(X_s, index, degree)\n",
    "X_poly_test = build_poly_index(X_s_test, index, degree)"
   ]
  },
  {
   "cell_type": "code",
   "execution_count": null,
   "metadata": {},
   "outputs": [],
   "source": [
    "meanacc_dtest_ls = []\n",
    "meanacc_dtrain_ls = []\n",
    "\n",
    "dtmp_tr,dtmp_te=cross_validation(Y_train,X_poly,k_fold=4,seed=1, function_name='least_squares')\n",
    "meanacc_dtest_ls.append(dtmp_te)\n",
    "meanacc_dtrain_ls.append(dtmp_tr)"
   ]
  },
  {
   "cell_type": "code",
   "execution_count": null,
   "metadata": {},
   "outputs": [],
   "source": [
    "meanacc_dtest_ls"
   ]
  },
  {
   "cell_type": "code",
   "execution_count": null,
   "metadata": {},
   "outputs": [],
   "source": [
    "ws,loss = least_squares(Y_train, X_poly)\n",
    "\n",
    "Y_test = X_poly_test.dot(ws)\n",
    "\n",
    "Y_pred = probability_to_prediction(Y_test)"
   ]
  },
  {
   "cell_type": "code",
   "execution_count": null,
   "metadata": {},
   "outputs": [],
   "source": [
    "ids = testdata[['Id']]\n",
    "\n",
    "\n",
    "\n",
    "Y_final = np.c_[np.array(ids, dtype=np.int64), Y_pred]\n",
    "\n",
    "np.savetxt(\"submission.csv\", Y_final, delimiter=',', header=\"Id,Prediction\", comments=\"\", fmt='%d')"
   ]
  },
  {
   "cell_type": "code",
   "execution_count": null,
   "metadata": {},
   "outputs": [],
   "source": [
    "Y_final"
   ]
  }
 ],
 "metadata": {
  "kernelspec": {
   "display_name": "Python 3",
   "language": "python",
   "name": "python3"
  },
  "language_info": {
   "codemirror_mode": {
    "name": "ipython",
    "version": 3
   },
   "file_extension": ".py",
   "mimetype": "text/x-python",
   "name": "python",
   "nbconvert_exporter": "python",
   "pygments_lexer": "ipython3",
   "version": "3.7.3"
  }
 },
 "nbformat": 4,
 "nbformat_minor": 4
}
