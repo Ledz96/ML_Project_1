{
 "cells": [
  {
   "cell_type": "code",
   "execution_count": 1,
   "metadata": {},
   "outputs": [],
   "source": [
    "import csv\n",
    "import numpy as np\n",
    "from matplotlib import pyplot as plt \n",
    "import itertools"
   ]
  },
  {
   "cell_type": "code",
   "execution_count": 2,
   "metadata": {},
   "outputs": [],
   "source": [
    "data_path = \"Data/train.csv\"\n",
    "\n",
    "dtypes = \"i8,S5,f8,f8,f8,f8,f8,f8,f8,f8,f8,f8,f8,f8,f8,f8,f8,f8,f8,f8,f8,f8,f8,f8,i8,f8,f8,f8,f8,f8,f8,f8\"\n",
    "with open(data_path, 'r') as f:\n",
    "    reader = csv.reader(f, delimiter=',')\n",
    "    headers = next(reader)\n",
    "data = np.genfromtxt(data_path, delimiter=\",\",names=True, dtype=dtypes)\n",
    "\n",
    "# REMOVING -999.0 values, turining to np.nan\n",
    "data2 = data.copy()\n",
    "nan_ind = []\n",
    "for col in headers[2:]:\n",
    "    for i in range(len(data2[col])):\n",
    "        if data2[col][i] == -999.0:\n",
    "            data2[col][i] = np.nan\n",
    "            nan_ind.append(i)\n",
    "\n",
    "nan_ind.sort()\n",
    "nan_ind = list(set(nan_ind))"
   ]
  },
  {
   "cell_type": "code",
   "execution_count": 3,
   "metadata": {},
   "outputs": [],
   "source": [
    "def split_by_thresholds(data2):\n",
    "    #Identifiers\n",
    "    split_d = {}\n",
    "\n",
    "    split_d[\"PRI_jet_num\"] = [\"J0\",\"J1\",\"J2\",\"J3\"]\n",
    "    split_d[\"DER_met_phi_centrality\"] = [\"p+\",\"p-\"]\n",
    "    split_d[\"DER_lep_eta_centrality\"] = [\"e+\",\"e-\"] \n",
    "\n",
    "    # Expand jet_num to include combinations\n",
    "    comb = list(itertools.combinations(split_d[\"PRI_jet_num\"],1)) \n",
    "    comb = list(itertools.combinations(split_d[\"PRI_jet_num\"],2)) + comb\n",
    "    comb = list(itertools.combinations(split_d[\"PRI_jet_num\"],3)) + comb\n",
    "    split_d[\"PRI_jet_num\"] = comb\n",
    "\n",
    "    comb = split_d[\"PRI_jet_num\"] + split_d[\"DER_met_phi_centrality\"] + split_d[\"DER_lep_eta_centrality\"]\n",
    "\n",
    "    # Prepare combinations of 2 sets of features\n",
    "    comb2 = list(itertools.product(*list(split_d.values())[0:2]))\n",
    "    comb2 = list(itertools.product(*list(split_d.values())[1:3])) + comb2\n",
    "    comb2 = list(itertools.product(*[list(split_d.values())[0],list(split_d.values())[-1]])) + comb2\n",
    "\n",
    "    # Prepare combinations of 3 sets of features\n",
    "    comb3 = list(itertools.product(*list(split_d.values())[0:3]))\n",
    "\n",
    "    combination_names = comb+comb2+comb3\n",
    "    \n",
    "    #ACTUALLY GENERATING TRUTH TABLES\n",
    "    # Select which header to split and how\n",
    "    split_d = {}\n",
    "\n",
    "    split_d[\"PRI_jet_num\"] = [data2[\"PRI_jet_num\"] == 0,\n",
    "                              data2[\"PRI_jet_num\"] == 1,\n",
    "                              data2[\"PRI_jet_num\"] == 2,\n",
    "                              data2[\"PRI_jet_num\"] == 3]\n",
    "\n",
    "    split_d[\"DER_met_phi_centrality\"] = [data2[\"DER_met_phi_centrality\"] > 0,\n",
    "                                         data2[\"DER_met_phi_centrality\"] < 0]\n",
    "\n",
    "    split_d[\"DER_lep_eta_centrality\"] = [data2[\"DER_lep_eta_centrality\"] > 0.5,\n",
    "                                         data2[\"DER_lep_eta_centrality\"] < 0.5]   \n",
    "\n",
    "\n",
    "    # Expand jet_num to include combinations\n",
    "    comb = list(itertools.combinations(split_d[\"PRI_jet_num\"],1)) \n",
    "    comb = list(itertools.combinations(split_d[\"PRI_jet_num\"],2)) + comb\n",
    "    comb = list(itertools.combinations(split_d[\"PRI_jet_num\"],3)) + comb\n",
    "    comb = [np.logical_or.reduce(tup) for tup in comb]\n",
    "    split_d[\"PRI_jet_num\"] =  comb\n",
    "\n",
    "    # Combinations of 1 set of features\n",
    "    comb = split_d[\"PRI_jet_num\"] + split_d[\"DER_met_phi_centrality\"] + split_d[\"DER_lep_eta_centrality\"]\n",
    "\n",
    "    # Combinations of 2 sets of features\n",
    "    comb2 = list(itertools.product(*list(split_d.values())[0:2]))\n",
    "    comb2 = list(itertools.product(*list(split_d.values())[1:3])) + comb2\n",
    "    comb2 = list(itertools.product(*[list(split_d.values())[0],list(split_d.values())[-1]])) + comb2\n",
    "    comb2 = [np.logical_or.reduce(tup) for tup in comb2]\n",
    "\n",
    "    # Combinations of 3 sets of features\n",
    "    comb3 = list(itertools.product(*list(split_d.values())[0:3]))\n",
    "    comb3 = [np.logical_or.reduce(tup) for tup in comb3]\n",
    "\n",
    "    # All outputs\n",
    "    combination = comb+comb2+comb3\n",
    "    return combination, combination_names"
   ]
  },
  {
   "cell_type": "code",
   "execution_count": 4,
   "metadata": {},
   "outputs": [],
   "source": [
    "def get_as_list_of_lists_training(xinput, extra_params=False):\n",
    "    xlist=[]\n",
    "    for i in xinput:\n",
    "        sublist=[]\n",
    "        for x in i:\n",
    "            sublist.append(x)\n",
    "        if extra_params:\n",
    "            sublist=sublist[2:]       # Should be 1: if prediction is removed from the input data\n",
    "        xlist.append(sublist)\n",
    "        \n",
    "    return xlist"
   ]
  },
  {
   "cell_type": "code",
   "execution_count": 5,
   "metadata": {},
   "outputs": [],
   "source": [
    "def add_fake_feature(listx):\n",
    "    for x in listx:\n",
    "        x.insert(0,1)"
   ]
  },
  {
   "cell_type": "code",
   "execution_count": 6,
   "metadata": {},
   "outputs": [],
   "source": [
    "def split_data(x, y, ratio, seed=1):\n",
    "    \"\"\"split the dataset based on the split ratio.\"\"\"\n",
    "    # set seed\n",
    "    np.random.seed(seed)\n",
    "\n",
    "    # split the data based on the given ratio: TODO    \n",
    "    p = np.random.permutation(len(y))\n",
    "    y = y[p]\n",
    "    x = x[p]\n",
    "    \n",
    "    limit = int(len(y)*ratio)\n",
    "        \n",
    "    return x[:limit],x[limit:],y[:limit],y[limit:]"
   ]
  },
  {
   "cell_type": "code",
   "execution_count": 7,
   "metadata": {},
   "outputs": [],
   "source": [
    "def least_squares(y, tx):\n",
    "    \"\"\"calculate the least squares solution.\"\"\"\n",
    "    XX = np.dot(tx.transpose(),tx)\n",
    "    B = np.dot(tx.transpose(),y)\n",
    "    if len(XX.shape)==0:\n",
    "        w_s = B/XX\n",
    "    else:\n",
    "        w_s = np.linalg.solve(XX,B)    \n",
    "    \n",
    "    loss = compute_loss(y, tx, w_s)\n",
    "    \n",
    "    return w_s, loss "
   ]
  },
  {
   "cell_type": "code",
   "execution_count": 8,
   "metadata": {},
   "outputs": [],
   "source": [
    "def compute_loss(y, tx, w):\n",
    "    \"\"\"Calculate the loss using MSE.\"\"\"\n",
    "    e = y - tx.dot(w)\n",
    "    lv = 0.5*np.mean(np.square(e))\n",
    "    return lv"
   ]
  },
  {
   "cell_type": "code",
   "execution_count": 9,
   "metadata": {},
   "outputs": [],
   "source": [
    "# defining a function that executes the model\n",
    "\n",
    "def execute_LPM(xtrainInput, ytrainInput, xtestInput, ytestInput):\n",
    "\n",
    "    xlist = get_as_list_of_lists_training(xtestInput)\n",
    "    add_fake_feature(xlist)\n",
    "\n",
    "    trainxlist = get_as_list_of_lists_training(xtrainInput)\n",
    "    add_fake_feature(trainxlist)\n",
    "\n",
    "    # formatting y to array of 0,1\n",
    "    #y=(ytrainInput==b's').astype(int)\n",
    "    Ytrain=np.array(ytrainInput)\n",
    "    Xtrain=np.array(trainxlist)\n",
    "        \n",
    "    MSE,weights=least_squares(Ytrain, Xtrain)\n",
    "\n",
    "    #applying predictions\n",
    "    xtest=np.array(xlist)\n",
    "\n",
    "    if (len(weights.shape) == 0):\n",
    "        return 0,0\n",
    "    \n",
    "    Ypred=np.dot(xtest,weights)\n",
    "    Ypredclass=(Ypred>0.5).astype(int)\n",
    "    \n",
    "    for i in range(Ypredclass.size):\n",
    "        if Ypredclass[i]==0:\n",
    "            Ypredclass[i]=-1\n",
    "            \n",
    "    n=len(Ytest)\n",
    "    Ytest=np.array(ytestInput)\n",
    "\n",
    "    #test accuracy\n",
    "    acctest=(Ypredclass==Ytest).sum()/n\n",
    "    #train accuracy\n",
    "    nt=Ytrain.size\n",
    "    ypredtrain=np.dot(Xtrain,weights)\n",
    "    ypredtrainclass=(ypredtrain>0.5).astype(int)\n",
    "    acctrain=(Ytrain==ypredtrainclass).sum()/nt\n",
    "\n",
    "    '''\n",
    "    idcolumn=xtrainInput[['Id']]\n",
    "    idlist=[i[0] for i in idcolumn]\n",
    "\n",
    "    a=np.append(np.array(idlist).reshape(-1,1).astype(int),Ypredclass.reshape(-1,1).astype(int),axis=1)\n",
    "\n",
    "    np.savetxt(\"submission.csv\", a, delimiter=',', header=\"Id,Prediction\", comments=\"\", fmt='%d')\n",
    "    '''\n",
    "    \n",
    "    return acctrain,acctest"
   ]
  },
  {
   "cell_type": "code",
   "execution_count": 10,
   "metadata": {},
   "outputs": [],
   "source": [
    "## "
   ]
  },
  {
   "cell_type": "code",
   "execution_count": 11,
   "metadata": {},
   "outputs": [],
   "source": [
    "comb, comb_n = split_by_thresholds(data2)"
   ]
  },
  {
   "cell_type": "code",
   "execution_count": 12,
   "metadata": {},
   "outputs": [
    {
     "name": "stdout",
     "output_type": "stream",
     "text": [
      "('J0', 'J1', 'J2') 0 0\n",
      "('J0', 'J1', 'J3') 0 0\n",
      "('J0', 'J2', 'J3') 0 0\n",
      "('J1', 'J2', 'J3') 0 0\n",
      "('J0', 'J1') 0 0\n",
      "('J0', 'J2') 0 0\n",
      "('J0', 'J3') 0 0\n",
      "('J1', 'J2') 0 0\n",
      "('J1', 'J3') 0 0\n",
      "('J2', 'J3') 0 0\n",
      "('J0',) 0 0\n",
      "('J1',) 0 0\n",
      "('J2',) 0 0\n",
      "('J3',) 0 0\n",
      "p+ 0 0\n",
      "p- 0 0\n",
      "e+ 0 0\n",
      "e- 0 0\n",
      "(('J0', 'J1', 'J2'), 'e+') 0 0\n",
      "(('J0', 'J1', 'J2'), 'e-') 0 0\n",
      "(('J0', 'J1', 'J3'), 'e+') 0 0\n",
      "(('J0', 'J1', 'J3'), 'e-') 0 0\n",
      "(('J0', 'J2', 'J3'), 'e+') 0 0\n",
      "(('J0', 'J2', 'J3'), 'e-') 0 0\n"
     ]
    },
    {
     "ename": "KeyboardInterrupt",
     "evalue": "",
     "output_type": "error",
     "traceback": [
      "\u001b[0;31m---------------------------------------------------------------------------\u001b[0m",
      "\u001b[0;31mKeyboardInterrupt\u001b[0m                         Traceback (most recent call last)",
      "\u001b[0;32m<ipython-input-12-3f11d41b0efc>\u001b[0m in \u001b[0;36m<module>\u001b[0;34m()\u001b[0m\n\u001b[1;32m      5\u001b[0m     \u001b[0mdata_s\u001b[0m \u001b[0;34m=\u001b[0m \u001b[0mdata2\u001b[0m\u001b[0;34m[\u001b[0m\u001b[0mc_tr\u001b[0m\u001b[0;34m]\u001b[0m\u001b[0;34m\u001b[0m\u001b[0m\n\u001b[1;32m      6\u001b[0m     \u001b[0mylist\u001b[0m \u001b[0;34m=\u001b[0m \u001b[0;34m(\u001b[0m\u001b[0mdata_s\u001b[0m\u001b[0;34m[\u001b[0m\u001b[0;34m'Prediction'\u001b[0m\u001b[0;34m]\u001b[0m\u001b[0;34m==\u001b[0m\u001b[0;34mb'b'\u001b[0m\u001b[0;34m)\u001b[0m\u001b[0;34m.\u001b[0m\u001b[0mastype\u001b[0m\u001b[0;34m(\u001b[0m\u001b[0mint\u001b[0m\u001b[0;34m)\u001b[0m\u001b[0;34m\u001b[0m\u001b[0m\n\u001b[0;32m----> 7\u001b[0;31m     \u001b[0mxlist\u001b[0m \u001b[0;34m=\u001b[0m \u001b[0mget_as_list_of_lists_training\u001b[0m\u001b[0;34m(\u001b[0m\u001b[0mdata_s\u001b[0m\u001b[0;34m,\u001b[0m \u001b[0;32mTrue\u001b[0m\u001b[0;34m)\u001b[0m\u001b[0;34m\u001b[0m\u001b[0m\n\u001b[0m\u001b[1;32m      8\u001b[0m \u001b[0;34m\u001b[0m\u001b[0m\n\u001b[1;32m      9\u001b[0m     \u001b[0mXtest\u001b[0m\u001b[0;34m,\u001b[0m \u001b[0mXtrain\u001b[0m\u001b[0;34m,\u001b[0m \u001b[0mYtest\u001b[0m\u001b[0;34m,\u001b[0m \u001b[0mYtrain\u001b[0m\u001b[0;34m=\u001b[0m \u001b[0msplit_data\u001b[0m\u001b[0;34m(\u001b[0m\u001b[0mnp\u001b[0m\u001b[0;34m.\u001b[0m\u001b[0marray\u001b[0m\u001b[0;34m(\u001b[0m\u001b[0mxlist\u001b[0m\u001b[0;34m)\u001b[0m\u001b[0;34m,\u001b[0m \u001b[0mylist\u001b[0m\u001b[0;34m,\u001b[0m \u001b[0mratio\u001b[0m\u001b[0;34m,\u001b[0m \u001b[0mseed\u001b[0m\u001b[0;34m=\u001b[0m\u001b[0;36m1\u001b[0m\u001b[0;34m)\u001b[0m\u001b[0;34m\u001b[0m\u001b[0m\n",
      "\u001b[0;32m<ipython-input-4-b75d8392b65c>\u001b[0m in \u001b[0;36mget_as_list_of_lists_training\u001b[0;34m(xinput, extra_params)\u001b[0m\n\u001b[1;32m      3\u001b[0m     \u001b[0;32mfor\u001b[0m \u001b[0mi\u001b[0m \u001b[0;32min\u001b[0m \u001b[0mxinput\u001b[0m\u001b[0;34m:\u001b[0m\u001b[0;34m\u001b[0m\u001b[0m\n\u001b[1;32m      4\u001b[0m         \u001b[0msublist\u001b[0m\u001b[0;34m=\u001b[0m\u001b[0;34m[\u001b[0m\u001b[0;34m]\u001b[0m\u001b[0;34m\u001b[0m\u001b[0m\n\u001b[0;32m----> 5\u001b[0;31m         \u001b[0;32mfor\u001b[0m \u001b[0mx\u001b[0m \u001b[0;32min\u001b[0m \u001b[0mi\u001b[0m\u001b[0;34m:\u001b[0m\u001b[0;34m\u001b[0m\u001b[0m\n\u001b[0m\u001b[1;32m      6\u001b[0m             \u001b[0msublist\u001b[0m\u001b[0;34m.\u001b[0m\u001b[0mappend\u001b[0m\u001b[0;34m(\u001b[0m\u001b[0mx\u001b[0m\u001b[0;34m)\u001b[0m\u001b[0;34m\u001b[0m\u001b[0m\n\u001b[1;32m      7\u001b[0m         \u001b[0;32mif\u001b[0m \u001b[0mextra_params\u001b[0m\u001b[0;34m:\u001b[0m\u001b[0;34m\u001b[0m\u001b[0m\n",
      "\u001b[0;31mKeyboardInterrupt\u001b[0m: "
     ]
    }
   ],
   "source": [
    "ratio = 0.2\n",
    "#THESE RATIO FIX??? CAREFUL represents percentage of test data\n",
    "\n",
    "for c_tr,c_n in zip(comb,comb_n):\n",
    "    data_s = data2[c_tr]\n",
    "    ylist = (data_s['Prediction']==b'b').astype(int)\n",
    "    xlist = get_as_list_of_lists_training(data_s, True)\n",
    "    \n",
    "    Xtest, Xtrain, Ytest, Ytrain= split_data(np.array(xlist), ylist, ratio, seed=1)\n",
    "    \n",
    "    acctrain,acctest = execute_LPM(Xtrain, Ytrain, Xtest, Ytest)\n",
    "    \n",
    "    print(c_n, acctest, acctrain)"
   ]
  },
  {
   "cell_type": "code",
   "execution_count": 13,
   "metadata": {},
   "outputs": [
    {
     "data": {
      "text/plain": [
       "array([(100000, b's', 138.47 ,  51.655,  97.827, 27.98 , 0.91, 124.711, 2.666, 3.064, 41.928, 197.76 , 1.582,  1.396, 0.2, 32.638,  1.017,  0.381,  51.626,  2.273, -2.414, 16.824, -0.277, 258.733, 2, 67.435, 2.15 ,  0.444, 46.062, 1.24, -2.475, 113.497),\n",
       "       (100001, b'b', 160.937,  68.768, 103.235, 48.146,  nan,     nan,   nan, 3.473,  2.078, 125.157, 0.879,  1.414, nan, 42.014,  2.039, -3.011,  36.918,  0.501,  0.103, 44.704, -1.916, 164.546, 1, 46.226, 0.725,  1.158,    nan,  nan,    nan,  46.226),\n",
       "       (100002, b'b',     nan, 162.172, 125.953, 35.635,  nan,     nan,   nan, 3.148,  9.336, 197.814, 3.776,  1.414, nan, 32.154, -0.705, -2.093, 121.409, -0.953,  1.052, 54.283, -2.186, 260.414, 1, 44.251, 2.053, -2.028,    nan,  nan,    nan,  44.251),\n",
       "       ...,\n",
       "       (349997, b's', 105.457,  60.526,  75.839, 39.757,  nan,     nan,   nan, 2.39 , 22.183, 120.462, 1.202,  0.529, nan, 35.636, -0.266, -3.132,  42.834,  0.381,  0.851, 23.419, -2.89 , 198.907, 1, 41.992, 1.8  , -0.166,    nan,  nan,    nan,  41.992),\n",
       "       (349998, b'b',  94.951,  19.362,  68.812, 13.504,  nan,     nan,   nan, 3.365, 13.504,  55.859, 0.999,  1.414, nan, 27.944, -2.211,  2.792,  27.915, -0.874, -0.296, 12.15 ,  0.811, 112.718, 0,    nan,   nan,    nan,    nan,  nan,    nan,   0.   ),\n",
       "       (349999, b'b',     nan,  72.756,  70.831,  7.479,  nan,     nan,   nan, 2.025,  7.479,  83.24 , 0.936, -1.411, nan, 43.003,  1.685,  2.653,  40.236,  1.49 ,  0.637, 40.729, -1.596,  99.405, 0,    nan,   nan,    nan,    nan,  nan,    nan,   0.   )],\n",
       "      dtype=[('Id', '<i8'), ('Prediction', 'S5'), ('DER_mass_MMC', '<f8'), ('DER_mass_transverse_met_lep', '<f8'), ('DER_mass_vis', '<f8'), ('DER_pt_h', '<f8'), ('DER_deltaeta_jet_jet', '<f8'), ('DER_mass_jet_jet', '<f8'), ('DER_prodeta_jet_jet', '<f8'), ('DER_deltar_tau_lep', '<f8'), ('DER_pt_tot', '<f8'), ('DER_sum_pt', '<f8'), ('DER_pt_ratio_lep_tau', '<f8'), ('DER_met_phi_centrality', '<f8'), ('DER_lep_eta_centrality', '<f8'), ('PRI_tau_pt', '<f8'), ('PRI_tau_eta', '<f8'), ('PRI_tau_phi', '<f8'), ('PRI_lep_pt', '<f8'), ('PRI_lep_eta', '<f8'), ('PRI_lep_phi', '<f8'), ('PRI_met', '<f8'), ('PRI_met_phi', '<f8'), ('PRI_met_sumet', '<f8'), ('PRI_jet_num', '<i8'), ('PRI_jet_leading_pt', '<f8'), ('PRI_jet_leading_eta', '<f8'), ('PRI_jet_leading_phi', '<f8'), ('PRI_jet_subleading_pt', '<f8'), ('PRI_jet_subleading_eta', '<f8'), ('PRI_jet_subleading_phi', '<f8'), ('PRI_jet_all_pt', '<f8')])"
      ]
     },
     "execution_count": 13,
     "metadata": {},
     "output_type": "execute_result"
    }
   ],
   "source": [
    "data2[comb[0]]"
   ]
  },
  {
   "cell_type": "code",
   "execution_count": 24,
   "metadata": {},
   "outputs": [
    {
     "data": {
      "text/plain": [
       "(102208, b'b', 106.903, 8.881, 71.607, 16.087, nan, nan, nan, 2.925, 16.087, 72.017, 0.683, 1.39, nan, 42.786, -0.955, 1.944, 29.231, -1.35, -1.44, 13.072, -1.899, 239.301, 0, nan, nan, nan, nan, nan, nan, 0.)"
      ]
     },
     "execution_count": 24,
     "metadata": {},
     "output_type": "execute_result"
    }
   ],
   "source": [
    "data2[comb[0]][2000]"
   ]
  },
  {
   "cell_type": "code",
   "execution_count": null,
   "metadata": {},
   "outputs": [],
   "source": [
    "Xtrain.shape"
   ]
  },
  {
   "cell_type": "code",
   "execution_count": null,
   "metadata": {},
   "outputs": [],
   "source": [
    "Ytrain.shape"
   ]
  },
  {
   "cell_type": "code",
   "execution_count": null,
   "metadata": {},
   "outputs": [],
   "source": [
    "Ytest.shape"
   ]
  },
  {
   "cell_type": "code",
   "execution_count": null,
   "metadata": {},
   "outputs": [],
   "source": []
  }
 ],
 "metadata": {
  "kernelspec": {
   "display_name": "Python 3",
   "language": "python",
   "name": "python3"
  },
  "language_info": {
   "codemirror_mode": {
    "name": "ipython",
    "version": 3
   },
   "file_extension": ".py",
   "mimetype": "text/x-python",
   "name": "python",
   "nbconvert_exporter": "python",
   "pygments_lexer": "ipython3",
   "version": "3.6.2"
  }
 },
 "nbformat": 4,
 "nbformat_minor": 2
}
