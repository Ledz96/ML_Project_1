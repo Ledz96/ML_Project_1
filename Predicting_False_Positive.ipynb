{
 "cells": [
  {
   "cell_type": "code",
   "execution_count": 3,
   "metadata": {},
   "outputs": [],
   "source": [
    "\n",
    "import numpy as np\n",
    "from utils_predictions_manipulation import*\n",
    "from utils_nans_manipulation import*\n",
    "from cross_validation import*\n",
    "from utils_data_loading import*\n",
    "from utils_features_manipulation import*\n",
    "import random\n",
    "\n",
    "\n",
    "from least_squares import *"
   ]
  },
  {
   "cell_type": "code",
   "execution_count": 4,
   "metadata": {},
   "outputs": [],
   "source": [
    "traindata,_ = load_data('Data/train.csv')\n",
    "X_total, Y_total = structure_data(traindata)\n",
    "\n",
    "# Replacing undefined data with NaNs\n",
    "X_nans = replace_bad_data_with_nans(X_total, -999)\n",
    "\n",
    "X_nans, col = replace_nans_with_median(X_nans, threshold=0.5)"
   ]
  },
  {
   "cell_type": "code",
   "execution_count": 5,
   "metadata": {},
   "outputs": [],
   "source": [
    "ind_v = (1, 3, 5, 7, 13, 16, 18, 20, 23) \n",
    "deg_v = [(0.25, 0.3333333333333333, 2), (0.03333333333333333, 0.1, 0.2, 0.3333333333333333, 0.5, 2), (0.1, 0.3333333333333333, 20), (0.03333333333333333, 0.05, 0.2, 0.3333333333333333, 30), (0.05, 10), [0.25, 3, 4, 0.3333333333333333], (3, 10, 20), (0.1, 0.3333333333333333, 4), (0.03333333333333333, 0.2, 1), (0.1, 2, 5), (0.05, 0.1, 1), (0.2, 0.3333333333333333, 0.5, 2, 4, 10), (0.1, 0.25, 0.3333333333333333, 1, 5, 30), (1, 3, 30), (0.1, 5, 10), (0.25, 3, 30), (0.1, 10, 30), (0.2, 1, 3), (0.05, 0.5, 30), (1, 3, 4), (0.3333333333333333, 3, 5), (2, 10), (0.25, 0.3333333333333333, 1), (0.05, 0.2, 30)]"
   ]
  },
  {
   "cell_type": "code",
   "execution_count": 6,
   "metadata": {},
   "outputs": [],
   "source": [
    "X_poly = build_poly_index(X_nans, ind_v, deg_v)"
   ]
  },
  {
   "cell_type": "code",
   "execution_count": 147,
   "metadata": {},
   "outputs": [
    {
     "name": "stdout",
     "output_type": "stream",
     "text": [
      "\n",
      " 4 62500\n",
      "0.7655024 0.7666192\n",
      "0.7843823999999999 0.7532808\n",
      "True False\n",
      "\n",
      " 5 50000\n",
      "0.7964180000000001 0.7960860000000001\n",
      "0.795816 0.7961579999999999\n",
      "False True\n",
      "\n",
      " 6 41666\n",
      "0.7959871357941728 0.795808332933327\n",
      "0.7829501272020352 0.7925832813325013\n",
      "False False\n",
      "\n",
      " 7 35714\n",
      "0.7958447667581341 0.7957887663101305\n",
      "0.7623984991879935 0.7887203897631181\n",
      "False False\n",
      "\n",
      " 8 31250\n",
      "0.7954432 0.7960906666666666\n",
      "0.7948416 0.7952469333333333\n",
      "False False\n",
      "\n",
      " 9 27777\n",
      "0.7954386722828238 0.7959385719943016\n",
      "0.7949742592792597 0.7955579899094317\n",
      "False False\n",
      "\n",
      " 10 25000\n",
      "0.7954959999999999 0.7957925\n",
      "0.7956240000000001 0.7956835000000001\n",
      "True False\n",
      "\n",
      " 11 22727\n",
      "0.7964007568090816 0.7959040397373658\n",
      "0.7948959387512651 0.7958952396317645\n",
      "False False\n",
      "\n",
      " 12 20833\n",
      "0.7961263380214083 0.7948019968319493\n",
      "0.7961263380214083 0.7948576777228435\n",
      "False True\n",
      "\n",
      " 13 19230\n",
      "0.797223088923557 0.7961239540490711\n",
      "0.7971294851794071 0.7961490095967475\n",
      "False True\n",
      "\n",
      " 14 17857\n",
      "0.7968751750013999 0.7956258983405201\n",
      "0.7967463739709918 0.7956436318157212\n",
      "False True\n",
      "\n",
      " 15 16666\n",
      "0.7968198727949118 0.795674288510002\n",
      "0.7966698667946718 0.7957582918701365\n",
      "False True\n",
      "\n",
      " 16 15625\n",
      "0.7960896 0.7954642285714286\n",
      "0.7958912 0.7954267428571429\n",
      "False False\n",
      "\n",
      " 17 14705\n",
      "0.7967834070044202 0.7953893233594016\n",
      "0.795212512750765 0.7955008500510031\n",
      "False True\n",
      "\n",
      " 18 13888\n",
      "0.7956005184331797 0.7951473394297236\n",
      "0.7954709101382488 0.7951756912442396\n",
      "False True\n",
      "\n",
      " 19 13157\n",
      "0.7957209090218134 0.7953006451497526\n",
      "0.7956069012692863 0.795411076188475\n",
      "False True\n",
      "\n",
      " 20 12500\n",
      "0.7964079999999999 0.7952480000000001\n",
      "0.7964 0.7953271111111111\n",
      "False True\n",
      "\n",
      " 21 11904\n",
      "0.7961441532258065 0.7953867784380305\n",
      "0.7963121639784947 0.7955521363893605\n",
      "True True\n",
      "\n",
      " 22 11363\n",
      "0.7953445392942003 0.795064683622283\n",
      "0.7954149432368213 0.7951003256182346\n",
      "True True\n",
      "\n",
      " 23 10869\n",
      "0.795399760787561 0.795185082957647\n",
      "0.7954549636581102 0.7952556199589045\n",
      "True True\n",
      "\n",
      " 24 10416\n",
      "0.7954781105990782 0.7948876728110599\n",
      "0.7955741167434717 0.794916474654378\n",
      "True True\n",
      "\n",
      " 25 10000\n",
      "0.79511 0.7948960869565218\n",
      "0.79527 0.7949773913043479\n",
      "True True\n",
      "\n",
      " 26 9615\n",
      "0.7942069682787312 0.7940635292078351\n",
      "0.7942277691107645 0.7941692667706708\n",
      "True True\n",
      "\n",
      " 27 9259\n",
      "0.7959282859920077 0.7948784965979047\n",
      "0.7961334917377687 0.7948517118479318\n",
      "True False\n",
      "\n",
      " 28 8928\n",
      "0.7891241039426522 0.7880944995864351\n",
      "0.7897177419354838 0.7882961124896608\n",
      "True True\n",
      "\n",
      " 29 8620\n",
      "0.796322505800464 0.7950867921285554\n",
      "0.7963457076566125 0.7951508120649652\n",
      "True True\n"
     ]
    }
   ],
   "source": [
    "\n",
    "pr1_s = []\n",
    "pr2_s = []\n",
    "pr1f_s = []\n",
    "pr2f_s = []\n",
    "\n",
    "tr_s = []\n",
    "for split_size in range(4,30):\n",
    "    pr1 = []\n",
    "    pr2 = []\n",
    "    pr1f = []\n",
    "    pr2f = []\n",
    "    for seed in range(10):\n",
    "\n",
    "        split = build_k_indices(Y_total,split_size,seed)\n",
    "        tr = split[0]\n",
    "        ts1 = split[1]\n",
    "        ts2 = np.ndarray.flatten(split[2:])\n",
    "\n",
    "        w, l = least_squares(Y_total[tr], X_poly[tr])\n",
    "\n",
    "        pred_y1 = probability_to_prediction(X_poly[ts1].dot(w))\n",
    "        pred_y1[pred_y1 == -1]=0\n",
    "\n",
    "        pred_y2 = probability_to_prediction(X_poly[ts2].dot(w))\n",
    "        pred_y2[pred_y2 == -1]=0\n",
    "\n",
    "        pr1.append(get_prediction_accuracy(Y_total[ts1], pred_y1))\n",
    "        pr2.append(get_prediction_accuracy(Y_total[ts2], pred_y2))\n",
    "\n",
    "        Y_fix1 = np.logical_xor(Y_total[ts1], pred_y1)\n",
    "        Y_fix2 = np.logical_xor(Y_total[ts2], pred_y2)\n",
    "\n",
    "        wf1, lf = least_squares(Y_fix1, X_poly[ts1])\n",
    "        wf2, lf = least_squares(Y_fix2, X_poly[ts2])\n",
    "\n",
    "        fix_y1 = probability_to_prediction(X_poly[ts1].dot(wf2))\n",
    "        fix_y1[fix_y1 == -1]=0\n",
    "        fix_y2 = probability_to_prediction(X_poly[ts2].dot(wf1))\n",
    "        fix_y2[fix_y2 == -1]=0\n",
    "\n",
    "        pred_y1_fixed = pred_y1.copy()\n",
    "        for i,s in enumerate(fix_y1):\n",
    "            if s == 1:\n",
    "                if pred_y1_fixed[i] == 1:\n",
    "                    pred_y1_fixed[i] = 0\n",
    "                else:\n",
    "                    pred_y1_fixed[i] = 1\n",
    "\n",
    "        pred_y2_fixed = pred_y2.copy()\n",
    "        for i,s in enumerate(fix_y2):\n",
    "            if s == 1:\n",
    "                if pred_y2_fixed[i] == 1:\n",
    "                    pred_y2_fixed[i] = 0\n",
    "                else:\n",
    "                    pred_y2_fixed[i] = 1\n",
    "\n",
    "        pr1f.append(get_prediction_accuracy(Y_total[ts1], pred_y1_fixed))\n",
    "        pr2f.append(get_prediction_accuracy(Y_total[ts2], pred_y2_fixed))\n",
    "\n",
    "    print(\"\\n\", split_size, len(tr))\n",
    "    print(np.mean(pr1), np.mean(pr2))\n",
    "    print(np.mean(pr1f), np.mean(pr2f))\n",
    "    print(np.mean(pr1)<np.mean(pr1f), np.mean(pr2)<np.mean(pr2f))\n",
    "    pr1_s.append(np.mean(pr1))\n",
    "    pr2_s.append(np.mean(pr2))\n",
    "    pr1f_s.append(np.mean(pr1f))\n",
    "    pr2f_s.append(np.mean(pr2f))\n",
    "    tr_s.append(len(tr))"
   ]
  },
  {
   "cell_type": "code",
   "execution_count": 148,
   "metadata": {},
   "outputs": [],
   "source": [
    "import matplotlib.pyplot as plt"
   ]
  },
  {
   "cell_type": "code",
   "execution_count": 155,
   "metadata": {},
   "outputs": [
    {
     "data": {
      "image/png": "[encoded data removed]",
      "text/plain": [
       "<Figure size 432x288 with 1 Axes>"
      ]
     },
     "metadata": {
      "needs_background": "light"
     },
     "output_type": "display_data"
    }
   ],
   "source": [
    "plt.figure()\n",
    "plt.plot(tr_s, pr1_s)\n",
    "plt.plot(tr_s, pr2_s)\n",
    "plt.plot(tr_s, pr1f_s)\n",
    "plt.plot(tr_s, pr2f_s)\n",
    "plt.xlabel(\"Training set size\")\n",
    "plt.ylabel(\"Accuracy\")\n",
    "plt.legend([\"Test1\", \"Test2\", \"Test1 fixed using T2\", \"Test2 fixed using T1\"])\n",
    "plt.show()"
   ]
  },
  {
   "cell_type": "code",
   "execution_count": 125,
   "metadata": {},
   "outputs": [],
   "source": []
  },
  {
   "cell_type": "code",
   "execution_count": 126,
   "metadata": {},
   "outputs": [],
   "source": []
  },
  {
   "cell_type": "code",
   "execution_count": 127,
   "metadata": {},
   "outputs": [],
   "source": []
  },
  {
   "cell_type": "code",
   "execution_count": 129,
   "metadata": {},
   "outputs": [],
   "source": []
  },
  {
   "cell_type": "code",
   "execution_count": 130,
   "metadata": {},
   "outputs": [],
   "source": []
  },
  {
   "cell_type": "code",
   "execution_count": 121,
   "metadata": {},
   "outputs": [
    {
     "name": "stdout",
     "output_type": "stream",
     "text": [
      "0.7937431749726999\n",
      "0.7937311749246997\n"
     ]
    }
   ],
   "source": []
  },
  {
   "cell_type": "code",
   "execution_count": null,
   "metadata": {},
   "outputs": [],
   "source": []
  }
 ],
 "metadata": {
  "kernelspec": {
   "display_name": "Python 3",
   "language": "python",
   "name": "python3"
  },
  "language_info": {
   "codemirror_mode": {
    "name": "ipython",
    "version": 3
   },
   "file_extension": ".py",
   "mimetype": "text/x-python",
   "name": "python",
   "nbconvert_exporter": "python",
   "pygments_lexer": "ipython3",
   "version": "3.7.3"
  }
 },
 "nbformat": 4,
 "nbformat_minor": 4
}
