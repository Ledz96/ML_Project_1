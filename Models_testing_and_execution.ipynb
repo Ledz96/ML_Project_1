{
 "cells": [
  {
   "cell_type": "code",
   "execution_count": 1,
   "metadata": {},
   "outputs": [],
   "source": [
    "import numpy as np\n",
    "from utils_predictions_manipulation import*\n",
    "from utils_nans_manipulation import*\n",
    "from cross_validation import*\n",
    "from utils_data_loading import*\n",
    "from utils_features_manipulation import*"
   ]
  },
  {
   "cell_type": "markdown",
   "metadata": {},
   "source": [
    "# Model testing on training data"
   ]
  },
  {
   "cell_type": "markdown",
   "metadata": {},
   "source": [
    "## Loading and cleaning data"
   ]
  },
  {
   "cell_type": "markdown",
   "metadata": {},
   "source": [
    "### Loading training data"
   ]
  },
  {
   "cell_type": "code",
   "execution_count": 2,
   "metadata": {},
   "outputs": [],
   "source": [
    "traindata,_ = load_data('Data/train.csv')"
   ]
  },
  {
   "cell_type": "markdown",
   "metadata": {},
   "source": [
    "### Format training data, add fake feature"
   ]
  },
  {
   "cell_type": "code",
   "execution_count": 3,
   "metadata": {},
   "outputs": [],
   "source": [
    "X_total, Y_total = structure_data(traindata)"
   ]
  },
  {
   "cell_type": "markdown",
   "metadata": {},
   "source": [
    "### Separating data points with and without NaNs"
   ]
  },
  {
   "cell_type": "code",
   "execution_count": 19,
   "metadata": {},
   "outputs": [
    {
     "data": {
      "text/plain": [
       "(250000, 31)"
      ]
     },
     "execution_count": 19,
     "metadata": {},
     "output_type": "execute_result"
    }
   ],
   "source": [
    "# Replacing undefined data with NaNs\n",
    "\n",
    "X_nans = replace_bad_data_with_nans(X_total, -999)\n",
    "X_nans.shape"
   ]
  },
  {
   "cell_type": "code",
   "execution_count": 20,
   "metadata": {},
   "outputs": [
    {
     "data": {
      "text/plain": [
       "'import matplotlib.pyplot as plt\\n\\nfor i in range(X_nans.shape[1]):\\n    col = X_nans[:,i]\\n    print(i)\\n    plt.hist(col, bins=100)\\n    plt.show()'"
      ]
     },
     "execution_count": 20,
     "metadata": {},
     "output_type": "execute_result"
    }
   ],
   "source": [
    "'''import matplotlib.pyplot as plt\n",
    "\n",
    "for i in range(X_nans.shape[1]):\n",
    "    col = X_nans[:,i]\n",
    "    print(i)\n",
    "    plt.hist(col, bins=100)\n",
    "    plt.show()'''"
   ]
  },
  {
   "cell_type": "code",
   "execution_count": 21,
   "metadata": {},
   "outputs": [
    {
     "name": "stderr",
     "output_type": "stream",
     "text": [
      "/Users/ENVasquez/Desktop/ML_Project_1/utils_features_manipulation.py:46: RuntimeWarning: invalid value encountered in power\n",
      "  coltmp=tx[:,i]**d\n",
      "/Users/ENVasquez/Desktop/ML_Project_1/utils_features_manipulation.py:46: RuntimeWarning: invalid value encountered in sqrt\n",
      "  coltmp=tx[:,i]**d\n"
     ]
    },
    {
     "data": {
      "text/plain": [
       "(250000, 263)"
      ]
     },
     "execution_count": 21,
     "metadata": {},
     "output_type": "execute_result"
    }
   ],
   "source": [
    "#RUN CELL TO BUILD POLY\n",
    "index_list = list(range(31))\n",
    "index_list.remove(0)\n",
    "index_list.remove(23)\n",
    "\n",
    "degree = [1/5, 1/4, 1/3, 1/2, 1, 2, 3, 4, 5]\n",
    "\n",
    "X_nans = build_poly_index(X_nans, index_list, degree)\n",
    "X_nans.shape"
   ]
  },
  {
   "cell_type": "code",
   "execution_count": 25,
   "metadata": {},
   "outputs": [
    {
     "data": {
      "text/plain": [
       "array([[1.00000000e+00, 2.68084150e+00, 3.43035387e+00, ...,\n",
       "        1.46201944e+06, 1.65934820e+08, 1.88331043e+10],\n",
       "       [1.00000000e+00, 2.76268380e+00, 3.56175445e+00, ...,\n",
       "        9.87777080e+04, 4.56609833e+06, 2.11072461e+08],\n",
       "       [1.00000000e+00,            nan,            nan, ...,\n",
       "        8.66501399e+04, 3.83435534e+06, 1.69674058e+08],\n",
       "       ...,\n",
       "       [1.00000000e+00, 2.53872163e+00, 3.20456329e+00, ...,\n",
       "        7.40456721e+04, 3.10932586e+06, 1.30566812e+08],\n",
       "       [1.00000000e+00, 2.48599304e+00, 3.12158299e+00, ...,\n",
       "        0.00000000e+00, 0.00000000e+00, 0.00000000e+00],\n",
       "       [1.00000000e+00,            nan,            nan, ...,\n",
       "        0.00000000e+00, 0.00000000e+00, 0.00000000e+00]])"
      ]
     },
     "execution_count": 25,
     "metadata": {},
     "output_type": "execute_result"
    }
   ],
   "source": [
    "X_nans"
   ]
  },
  {
   "cell_type": "code",
   "execution_count": null,
   "metadata": {},
   "outputs": [],
   "source": [
    "#RUN CELL TO STANDARDIZE DATA\n",
    "X_nans = standardize_data(X_nans)\n",
    "X_nans"
   ]
  },
  {
   "cell_type": "code",
   "execution_count": 22,
   "metadata": {},
   "outputs": [
    {
     "ename": "ValueError",
     "evalue": "not enough values to unpack (expected 2, got 0)",
     "output_type": "error",
     "traceback": [
      "\u001b[0;31m---------------------------------------------------------------------------\u001b[0m",
      "\u001b[0;31mValueError\u001b[0m                                Traceback (most recent call last)",
      "\u001b[0;32m<ipython-input-22-e2c2b6759396>\u001b[0m in \u001b[0;36m<module>\u001b[0;34m\u001b[0m\n\u001b[1;32m      1\u001b[0m \u001b[0;31m# Splitting the dataset based on presence of NaNs\u001b[0m\u001b[0;34m\u001b[0m\u001b[0;34m\u001b[0m\u001b[0;34m\u001b[0m\u001b[0m\n\u001b[1;32m      2\u001b[0m \u001b[0;34m\u001b[0m\u001b[0m\n\u001b[0;32m----> 3\u001b[0;31m \u001b[0mX_no_nans\u001b[0m\u001b[0;34m,\u001b[0m \u001b[0mY_no_nans\u001b[0m \u001b[0;34m=\u001b[0m \u001b[0mdelete_nan_points\u001b[0m\u001b[0;34m(\u001b[0m\u001b[0mX_nans\u001b[0m\u001b[0;34m,\u001b[0m \u001b[0mY_total\u001b[0m\u001b[0;34m)\u001b[0m\u001b[0;34m\u001b[0m\u001b[0;34m\u001b[0m\u001b[0m\n\u001b[0m\u001b[1;32m      4\u001b[0m \u001b[0mX_with_nans\u001b[0m\u001b[0;34m,\u001b[0m \u001b[0mY_with_nans\u001b[0m \u001b[0;34m=\u001b[0m \u001b[0mstore_nan_points\u001b[0m\u001b[0;34m(\u001b[0m\u001b[0mX_nans\u001b[0m\u001b[0;34m,\u001b[0m \u001b[0mY_total\u001b[0m\u001b[0;34m)\u001b[0m\u001b[0;34m\u001b[0m\u001b[0;34m\u001b[0m\u001b[0m\n",
      "\u001b[0;32m~/Desktop/ML_Project_1/utils_nans_manipulation.py\u001b[0m in \u001b[0;36mdelete_nan_points\u001b[0;34m(x, y)\u001b[0m\n\u001b[1;32m     14\u001b[0m     \u001b[0;34m\"\"\"given a dataset x and related labels y, returns points (x,y) whom's features contain no nans\"\"\"\u001b[0m\u001b[0;34m\u001b[0m\u001b[0;34m\u001b[0m\u001b[0m\n\u001b[1;32m     15\u001b[0m \u001b[0;34m\u001b[0m\u001b[0m\n\u001b[0;32m---> 16\u001b[0;31m     \u001b[0mret_x\u001b[0m\u001b[0;34m,\u001b[0m \u001b[0mret_y\u001b[0m \u001b[0;34m=\u001b[0m \u001b[0mzip\u001b[0m\u001b[0;34m(\u001b[0m\u001b[0;34m*\u001b[0m\u001b[0;34m[\u001b[0m\u001b[0;34m(\u001b[0m\u001b[0mx_point\u001b[0m\u001b[0;34m,\u001b[0m\u001b[0my_point\u001b[0m\u001b[0;34m)\u001b[0m \u001b[0;32mfor\u001b[0m \u001b[0mx_point\u001b[0m\u001b[0;34m,\u001b[0m\u001b[0my_point\u001b[0m \u001b[0;32min\u001b[0m \u001b[0mzip\u001b[0m\u001b[0;34m(\u001b[0m\u001b[0mx\u001b[0m\u001b[0;34m,\u001b[0m\u001b[0my\u001b[0m\u001b[0;34m)\u001b[0m \u001b[0;32mif\u001b[0m \u001b[0;32mnot\u001b[0m \u001b[0mnp\u001b[0m\u001b[0;34m.\u001b[0m\u001b[0misnan\u001b[0m\u001b[0;34m(\u001b[0m\u001b[0mx_point\u001b[0m\u001b[0;34m)\u001b[0m\u001b[0;34m.\u001b[0m\u001b[0many\u001b[0m\u001b[0;34m(\u001b[0m\u001b[0;34m)\u001b[0m\u001b[0;34m]\u001b[0m\u001b[0;34m)\u001b[0m\u001b[0;34m\u001b[0m\u001b[0;34m\u001b[0m\u001b[0m\n\u001b[0m\u001b[1;32m     17\u001b[0m     \u001b[0;32mreturn\u001b[0m \u001b[0mnp\u001b[0m\u001b[0;34m.\u001b[0m\u001b[0marray\u001b[0m\u001b[0;34m(\u001b[0m\u001b[0mret_x\u001b[0m\u001b[0;34m)\u001b[0m\u001b[0;34m,\u001b[0m \u001b[0mnp\u001b[0m\u001b[0;34m.\u001b[0m\u001b[0marray\u001b[0m\u001b[0;34m(\u001b[0m\u001b[0mret_y\u001b[0m\u001b[0;34m)\u001b[0m\u001b[0;34m\u001b[0m\u001b[0;34m\u001b[0m\u001b[0m\n\u001b[1;32m     18\u001b[0m \u001b[0;34m\u001b[0m\u001b[0m\n",
      "\u001b[0;31mValueError\u001b[0m: not enough values to unpack (expected 2, got 0)"
     ]
    }
   ],
   "source": [
    "# Splitting the dataset based on presence of NaNs\n",
    "\n",
    "X_no_nans, Y_no_nans = delete_nan_points(X_nans, Y_total)\n",
    "X_with_nans, Y_with_nans = store_nan_points(X_nans, Y_total)"
   ]
  },
  {
   "cell_type": "code",
   "execution_count": 23,
   "metadata": {},
   "outputs": [
    {
     "ename": "NameError",
     "evalue": "name 'X_with_nans' is not defined",
     "output_type": "error",
     "traceback": [
      "\u001b[0;31m---------------------------------------------------------------------------\u001b[0m",
      "\u001b[0;31mNameError\u001b[0m                                 Traceback (most recent call last)",
      "\u001b[0;32m<ipython-input-23-76542516721b>\u001b[0m in \u001b[0;36m<module>\u001b[0;34m\u001b[0m\n\u001b[1;32m      1\u001b[0m \u001b[0;31m# Replacing NaNs with median\u001b[0m\u001b[0;34m\u001b[0m\u001b[0;34m\u001b[0m\u001b[0;34m\u001b[0m\u001b[0m\n\u001b[1;32m      2\u001b[0m \u001b[0;34m\u001b[0m\u001b[0m\n\u001b[0;32m----> 3\u001b[0;31m \u001b[0mX_cleaned\u001b[0m \u001b[0;34m=\u001b[0m \u001b[0mreplace_nans_with_median\u001b[0m\u001b[0;34m(\u001b[0m\u001b[0mX_with_nans\u001b[0m\u001b[0;34m,\u001b[0m \u001b[0mthreshold\u001b[0m\u001b[0;34m=\u001b[0m\u001b[0;36m0.5\u001b[0m\u001b[0;34m)\u001b[0m\u001b[0;34m\u001b[0m\u001b[0;34m\u001b[0m\u001b[0m\n\u001b[0m\u001b[1;32m      4\u001b[0m \u001b[0mY_cleaned\u001b[0m \u001b[0;34m=\u001b[0m \u001b[0mY_with_nans\u001b[0m  \u001b[0;31m# As we do not delete any data point, Y is the same for the cleaned data\u001b[0m\u001b[0;34m\u001b[0m\u001b[0;34m\u001b[0m\u001b[0m\n",
      "\u001b[0;31mNameError\u001b[0m: name 'X_with_nans' is not defined"
     ]
    }
   ],
   "source": [
    "# Replacing NaNs with median\n",
    "\n",
    "X_cleaned = replace_nans_with_median(X_with_nans, threshold=0.5)\n",
    "Y_cleaned = Y_with_nans  # As we do not delete any data point, Y is the same for the cleaned data"
   ]
  },
  {
   "cell_type": "markdown",
   "metadata": {},
   "source": [
    "### Cleaned Data names in the cell below!"
   ]
  },
  {
   "cell_type": "code",
   "execution_count": null,
   "metadata": {
    "scrolled": true
   },
   "outputs": [],
   "source": [
    "print(X_no_nans.shape, Y_no_nans.shape)\n",
    "print(X_cleaned.shape, Y_cleaned.shape)"
   ]
  },
  {
   "cell_type": "markdown",
   "metadata": {},
   "source": [
    "# LPM"
   ]
  },
  {
   "cell_type": "markdown",
   "metadata": {},
   "source": [
    "## Gradient Descent"
   ]
  },
  {
   "cell_type": "code",
   "execution_count": null,
   "metadata": {},
   "outputs": [],
   "source": [
    "meanacc_dtest_gd = []\n",
    "meanacc_dtrain_gd = []\n",
    "\n",
    "from time import time\n",
    "\n",
    "start = time()\n",
    "# Execute for data originally with no NaNs\n",
    "dtmp_tr,dtmp_te=cross_validation(Y_no_nans,X_no_nans,k_fold=4,seed=1, function_name='gd', gamma=0.000002, max_iters=1000)\n",
    "meanacc_dtest_gd.append(dtmp_te)\n",
    "meanacc_dtrain_gd.append(dtmp_tr)\n",
    "\n",
    "# Execute for data originally with NaNs\n",
    "dtmp_tr,dtmp_te=cross_validation(Y_cleaned,X_cleaned,k_fold=4,seed=1, function_name='gd', gamma=0.000002, max_iters=1000)\n",
    "meanacc_dtest_gd.append(dtmp_te)\n",
    "meanacc_dtrain_gd.append(dtmp_tr)\n",
    "end = time()\n",
    "\n",
    "print(end - start)"
   ]
  },
  {
   "cell_type": "code",
   "execution_count": null,
   "metadata": {},
   "outputs": [],
   "source": [
    "print(\"No NaNs accuracy:\")\n",
    "print(\"Test:\",meanacc_dtest_gd[0],\"Data:\", meanacc_dtrain_gd[0])\n",
    "print(\"\\nCleaned NaNs accuracy:\", )\n",
    "print(\"Test:\",meanacc_dtest_gd[1],\"Data:\", meanacc_dtrain_gd[1])"
   ]
  },
  {
   "cell_type": "markdown",
   "metadata": {},
   "source": [
    "<b>Comment:</b> Apparently, GD is not converging fast enough. We get higher error than with Least Squares"
   ]
  },
  {
   "cell_type": "markdown",
   "metadata": {},
   "source": [
    "## Stochastic Gradient Descent"
   ]
  },
  {
   "cell_type": "code",
   "execution_count": null,
   "metadata": {},
   "outputs": [],
   "source": [
    "from time import time\n",
    "\n",
    "meanacc_dtest_sgd = []\n",
    "meanacc_dtrain_sgd = []\n",
    "\n",
    "now = time()\n",
    "# Execute for data originally with no NaNs\n",
    "dtmp_tr,dtmp_te=cross_validation(Y_no_nans,X_no_nans,k_fold=4,seed=1, function_name='sgd', gamma=0.0000001, max_iters=1000)\n",
    "meanacc_dtest_sgd.append(dtmp_te)\n",
    "meanacc_dtrain_sgd.append(dtmp_tr)\n",
    "\n",
    "# Execute for data originally with NaNs\n",
    "dtmp_tr,dtmp_te=cross_validation(Y_cleaned,X_cleaned,k_fold=4,seed=1, function_name='sgd', gamma=0.0000001, max_iters=1000)\n",
    "meanacc_dtest_sgd.append(dtmp_te)\n",
    "meanacc_dtrain_sgd.append(dtmp_tr)\n",
    "final = time()\n",
    "print(final - now)"
   ]
  },
  {
   "cell_type": "code",
   "execution_count": null,
   "metadata": {
    "scrolled": true
   },
   "outputs": [],
   "source": [
    "print(\"No NaNs accuracy:\")\n",
    "print(\"Test:\",meanacc_dtest_sgd[0],\"Data:\", meanacc_dtrain_sgd[0])\n",
    "print(\"\\nCleaned NaNs accuracy:\", )\n",
    "print(\"Test:\",meanacc_dtest_sgd[1],\"Data:\", meanacc_dtrain_sgd[1])"
   ]
  },
  {
   "cell_type": "markdown",
   "metadata": {},
   "source": [
    "<b>Comment: </b>same result we had with GD. Apparently is not even faster. Might be worth measuring with time()."
   ]
  },
  {
   "cell_type": "markdown",
   "metadata": {},
   "source": [
    "## Least Squares"
   ]
  },
  {
   "cell_type": "code",
   "execution_count": null,
   "metadata": {},
   "outputs": [],
   "source": [
    "meanacc_dtest_ls = []\n",
    "meanacc_dtrain_ls = []\n",
    "\n",
    "# Execute for data originally with no NaNs\n",
    "dtmp_tr,dtmp_te=cross_validation(Y_no_nans,X_no_nans,k_fold=4,seed=1, function_name='least_squares')\n",
    "meanacc_dtest_ls.append(dtmp_te)\n",
    "meanacc_dtrain_ls.append(dtmp_tr)\n",
    "\n",
    "# Execute for data originally with NaNs\n",
    "dtmp_tr,dtmp_te=cross_validation(Y_cleaned,X_cleaned,k_fold=4,seed=1, function_name='least_squares')\n",
    "meanacc_dtest_ls.append(dtmp_te)\n",
    "meanacc_dtrain_ls.append(dtmp_tr)"
   ]
  },
  {
   "cell_type": "code",
   "execution_count": null,
   "metadata": {
    "scrolled": false
   },
   "outputs": [],
   "source": [
    "print(\"No NaNs accuracy:\")\n",
    "print(\"Test:\",meanacc_dtest_ls[0],\"Data:\", meanacc_dtrain_ls[0])\n",
    "print(\"\\nCleaned NaNs accuracy:\", )\n",
    "print(\"Test:\",meanacc_dtest_ls[1],\"Data:\", meanacc_dtrain_ls[1])"
   ]
  },
  {
   "cell_type": "markdown",
   "metadata": {},
   "source": [
    "<b>Comment: </b>same result we got in the other notebook. Fine accuracy."
   ]
  },
  {
   "cell_type": "markdown",
   "metadata": {},
   "source": [
    "## Ridge Regression"
   ]
  },
  {
   "cell_type": "code",
   "execution_count": null,
   "metadata": {},
   "outputs": [],
   "source": [
    "meanacc_dtest_rr = []\n",
    "meanacc_dtrain_rr = []\n",
    "\n",
    "for lambda_ in np.logspace(-5,0,15):\n",
    "    # Execute for data originally with no NaNs\n",
    "    dtmp_tr,dtmp_te=cross_validation(Y_no_nans,X_no_nans,k_fold=4,seed=1, function_name='ridge_regression', lambda_=lambda_)\n",
    "    meanacc_dtest_rr.append(dtmp_te)\n",
    "    meanacc_dtrain_rr.append(dtmp_tr)\n",
    "    \n",
    "    # Execute for data originally with NaNs\n",
    "    dtmp_tr,dtmp_te=cross_validation(Y_cleaned,X_cleaned,k_fold=4,seed=1, function_name='ridge_regression', lambda_=lambda_)\n",
    "    meanacc_dtest_rr.append(dtmp_te)\n",
    "    meanacc_dtrain_rr.append(dtmp_tr)"
   ]
  },
  {
   "cell_type": "code",
   "execution_count": null,
   "metadata": {},
   "outputs": [],
   "source": [
    "\"\"\"\n",
    "import matplotlib.pyplot as plt\n",
    "\n",
    "plt.figure()\n",
    "plt.plot(np.logspace(-5,0,15), meanacc_dtrain_rr[1::2])\n",
    "\n",
    "plt.plot(np.logspace(-5,0,15), meanacc_dtrain_rr[::2])\n",
    "plt.show()\n",
    "\n",
    "print(meanacc_dtest_rr[::2])\n",
    "\"\"\""
   ]
  },
  {
   "cell_type": "code",
   "execution_count": null,
   "metadata": {
    "scrolled": true
   },
   "outputs": [],
   "source": [
    "print(\"No NaNs accuracy:\")\n",
    "print(\"Test:\",meanacc_dtest_rr[::2],\"Data:\", meanacc_dtrain_rr[::2])\n",
    "print(\"\\nCleaned NaNs accuracy:\", )\n",
    "print(\"Test:\",meanacc_dtest_rr[1::2],\"Data:\", meanacc_dtrain_rr[1::2])"
   ]
  },
  {
   "cell_type": "markdown",
   "metadata": {},
   "source": [
    "# Logit"
   ]
  },
  {
   "cell_type": "markdown",
   "metadata": {},
   "source": [
    "## Logistic Regression"
   ]
  },
  {
   "cell_type": "code",
   "execution_count": null,
   "metadata": {},
   "outputs": [],
   "source": [
    "meanacc_dtest_lr = []\n",
    "meanacc_dtrain_lr = []\n",
    "\n",
    "gamma = 0.0000000005\n",
    "\n",
    "# Execute for data originally with no NaNs\n",
    "dtmp_tr,dtmp_te=cross_validation(Y_no_nans,X_no_nans,k_fold=3,seed=1, function_name='logistic_regression', max_iters=10000,gamma=gamma)\n",
    "meanacc_dtest_lr.append(dtmp_te)\n",
    "meanacc_dtrain_lr.append(dtmp_tr)\n",
    "\n",
    "# Execute for data originally with NaNs\n",
    "dtmp_tr,dtmp_te=cross_validation(Y_cleaned,X_cleaned,k_fold=3,seed=1, function_name='logistic_regression', max_iters=10000,gamma=gamma)\n",
    "meanacc_dtest_lr.append(dtmp_te)\n",
    "meanacc_dtrain_lr.append(dtmp_tr)"
   ]
  },
  {
   "cell_type": "code",
   "execution_count": null,
   "metadata": {},
   "outputs": [],
   "source": [
    "print(\"No NaNs accuracy:\")\n",
    "print(\"Test:\",meanacc_dtest_lr[0],\"Data:\", meanacc_dtrain_lr[0])\n",
    "print(\"\\nCleaned NaNs accuracy:\", )\n",
    "print(\"Test:\",meanacc_dtest_lr[1],\"Data:\", meanacc_dtrain_lr[1])"
   ]
  },
  {
   "cell_type": "markdown",
   "metadata": {},
   "source": [
    "## Reg Logistic Regression"
   ]
  },
  {
   "cell_type": "code",
   "execution_count": null,
   "metadata": {},
   "outputs": [],
   "source": [
    "meanacc_dtest_rlr = []\n",
    "meanacc_dtrain_rlr = []\n",
    "\n",
    "gamma = 0.0000000005\n",
    "\n",
    "for lambda_ in np.logspace(-5,0,5):\n",
    "    # Execute for data originally with no NaNs\n",
    "    dtmp_tr,dtmp_te=cross_validation(Y_no_nans,X_no_nans,k_fold=3,seed=1, function_name='reg_logistic_regression', max_iters=10000,gamma=gamma,lambda_=lambda_)\n",
    "    meanacc_dtest_rlr.append(dtmp_te)\n",
    "    meanacc_dtrain_rlr.append(dtmp_tr)\n",
    "\n",
    "    # Execute for data originally with NaNs\n",
    "    dtmp_tr,dtmp_te=cross_validation(Y_cleaned,X_cleaned,k_fold=3,seed=1, function_name='reg_logistic_regression', max_iters=10000,gamma=gamma,lambda_=lambda_)\n",
    "    meanacc_dtest_rlr.append(dtmp_te)\n",
    "    meanacc_dtrain_rlr.append(dtmp_tr)"
   ]
  },
  {
   "cell_type": "code",
   "execution_count": null,
   "metadata": {},
   "outputs": [],
   "source": [
    "print(\"No NaNs accuracy:\")\n",
    "print(\"Test:\",meanacc_dtest_rlr[::2],\"Data:\", meanacc_dtrain_rlr[::2])\n",
    "print(\"\\nCleaned NaNs accuracy:\", )\n",
    "print(\"Test:\",meanacc_dtest_rlr[1::2],\"Data:\", meanacc_dtrain_rlr[1::2])"
   ]
  },
  {
   "cell_type": "markdown",
   "metadata": {},
   "source": [
    "Too slow! Find good lambda before running."
   ]
  },
  {
   "cell_type": "markdown",
   "metadata": {},
   "source": [
    "TODO:\n",
    "\n",
    "Try with polynomial expansion and standardization"
   ]
  }
 ],
 "metadata": {
  "kernelspec": {
   "display_name": "Python 3",
   "language": "python",
   "name": "python3"
  },
  "language_info": {
   "codemirror_mode": {
    "name": "ipython",
    "version": 3
   },
   "file_extension": ".py",
   "mimetype": "text/x-python",
   "name": "python",
   "nbconvert_exporter": "python",
   "pygments_lexer": "ipython3",
   "version": "3.7.3"
  }
 },
 "nbformat": 4,
 "nbformat_minor": 4
}
