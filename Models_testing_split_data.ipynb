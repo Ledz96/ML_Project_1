{
 "cells": [
  {
   "cell_type": "code",
   "execution_count": 1,
   "metadata": {},
   "outputs": [],
   "source": [
    "import numpy as np\n",
    "from utils_predictions_manipulation import*\n",
    "from utils_nans_manipulation import*\n",
    "from cross_validation import*\n",
    "from utils_data_loading import*\n",
    "from utils_features_manipulation import*\n",
    "import random"
   ]
  },
  {
   "cell_type": "markdown",
   "metadata": {},
   "source": [
    "### Loading data"
   ]
  },
  {
   "cell_type": "code",
   "execution_count": 42,
   "metadata": {},
   "outputs": [],
   "source": [
    "traindata,_ = load_data('Data/train.csv')\n",
    "\n",
    "X_total, Y_total = structure_data(traindata)\n",
    "\n",
    "X_total = replace_bad_data_with_nans(X_total, -999)\n",
    "\n",
    "X_total, col = replace_nans_with_median(X_total, threshold=0.5)\n",
    "\n",
    "X_total = X_total + np.random.rand(X_total.shape[0], X_total.shape[1])/10000\n",
    "\n",
    "degree_test = [1/30, 1/20, 1/10, 1/5, 1/4, 1/3, 1/2, 1, 2, 3, 4, 5, 10, 20, 30]\n",
    "degree = [degree_test for i in index_list]\n",
    "\n",
    "X_poly = build_poly_index(X_nans, index, degree)"
   ]
  },
  {
   "cell_type": "code",
   "execution_count": 43,
   "metadata": {},
   "outputs": [],
   "source": [
    "thresh = [[23, 0.5],\n",
    "          [23, 1.5],\n",
    "          [23, 2.5],\n",
    "          [12, 0],\n",
    "          [13, 0.5]]\n",
    "\n",
    "X_sets, Y_sets, thresholds = split_data_set(X_total, Y_total, thresh)"
   ]
  },
  {
   "cell_type": "code",
   "execution_count": 44,
   "metadata": {},
   "outputs": [
    {
     "name": "stdout",
     "output_type": "stream",
     "text": [
      "([23, 0.5],)\n",
      "150087 \t 0.6921990352069507 0.6919391807254605 \t 1.0931331600814955\n",
      "99913 \t 0.816682013505218 0.8166386420049644 \t 1.0718239870221349\n",
      "TOTAL: 0.7419489064498098\n",
      "ARTIF: 0.7419489064498098 \n",
      "\n",
      "([23, 1.5],)\n",
      "150087 \t 0.6921990352069507 0.6919391807254605 \t 1.0931331600814955\n",
      "99913 \t 0.816682013505218 0.8166386420049644 \t 1.0718239870221349\n",
      "TOTAL: 0.7419489064498098\n",
      "ARTIF: 0.7419489064498098 \n",
      "\n",
      "([23, 2.5],)\n",
      "150087 \t 0.6921990352069507 0.6919391807254605 \t 1.0931331600814955\n",
      "99913 \t 0.816682013505218 0.8166386420049644 \t 1.0718239870221349\n",
      "TOTAL: 0.7419489064498098\n",
      "ARTIF: 0.7419489064498098 \n",
      "\n",
      "([12, 0],)\n",
      "123934 \t 0.7343597026326265 0.7339186005228674 \t 1.074040500476666\n",
      "126066 \t 0.7338706265600542 0.7336908237085924 \t 1.0794753098213503\n",
      "TOTAL: 0.7341130791759669\n",
      "ARTIF: 0.7341130791759669 \n",
      "\n",
      "([13, 0.5],)\n",
      "250000 \t 0.7338933333333333 0.7339079999999999 \t 1.0765613333335933\n",
      "TOTAL: 0.7338933333333333\n",
      "ARTIF: 0.7338933333333333 \n",
      "\n",
      "([23, 0.5], [23, 1.5])\n",
      "150087 \t 0.6921990352069507 0.6919391807254605 \t 1.0931331600814955\n",
      "99913 \t 0.816682013505218 0.8166386420049644 \t 1.0718239870221349\n",
      "TOTAL: 0.7419489064498098\n",
      "ARTIF: 0.7419489064498098 \n",
      "\n",
      "([23, 0.5], [23, 2.5])\n",
      "150087 \t 0.6921990352069507 0.6919391807254605 \t 1.0931331600814955\n",
      "99913 \t 0.816682013505218 0.8166386420049644 \t 1.0718239870221349\n",
      "TOTAL: 0.7419489064498098\n",
      "ARTIF: 0.7419489064498098 \n",
      "\n",
      "([23, 0.5], [12, 0])\n",
      "74676 \t 0.6904895816594354 0.6906770582248647 \t 1.0881943328511683\n",
      "75411 \t 0.694090812645873 0.6938521111818374 \t 1.0982228358252886\n",
      "49258 \t 0.8188782415678632 0.8180323209355206 \t 1.0705936989555134\n",
      "50655 \t 0.8141369870225591 0.8135710337202875 \t 1.0726109777441457\n",
      "TOTAL: 0.741925983092862\n",
      "ARTIF: 0.741925983092862 \n",
      "\n",
      "([23, 0.5], [13, 0.5])\n",
      "150087 \t 0.6921990352069507 0.6919391807254605 \t 1.0931331600814955\n",
      "99913 \t 0.816682013505218 0.8166386420049644 \t 1.0718239870221349\n",
      "TOTAL: 0.7419489064498098\n",
      "ARTIF: 0.7419489064498098 \n",
      "\n",
      "([23, 1.5], [23, 2.5])\n",
      "150087 \t 0.6921990352069507 0.6919391807254605 \t 1.0931331600814955\n",
      "99913 \t 0.816682013505218 0.8166386420049644 \t 1.0718239870221349\n",
      "TOTAL: 0.7419489064498098\n",
      "ARTIF: 0.7419489064498098 \n",
      "\n",
      "([23, 1.5], [12, 0])\n",
      "74676 \t 0.6904895816594354 0.6906770582248647 \t 1.0881943328511683\n",
      "75411 \t 0.694090812645873 0.6938521111818374 \t 1.0982228358252886\n",
      "49258 \t 0.8188782415678632 0.8180323209355206 \t 1.0705936989555134\n",
      "50655 \t 0.8141369870225591 0.8135710337202875 \t 1.0726109777441457\n",
      "TOTAL: 0.741925983092862\n",
      "ARTIF: 0.741925983092862 \n",
      "\n",
      "([23, 1.5], [13, 0.5])\n",
      "150087 \t 0.6921990352069507 0.6919391807254605 \t 1.0931331600814955\n",
      "99913 \t 0.816682013505218 0.8166386420049644 \t 1.0718239870221349\n",
      "TOTAL: 0.7419489064498098\n",
      "ARTIF: 0.7419489064498098 \n",
      "\n",
      "([23, 2.5], [12, 0])\n",
      "74676 \t 0.6904895816594354 0.6906770582248647 \t 1.0881943328511683\n",
      "75411 \t 0.694090812645873 0.6938521111818374 \t 1.0982228358252886\n",
      "49258 \t 0.8188782415678632 0.8180323209355206 \t 1.0705936989555134\n",
      "50655 \t 0.8141369870225591 0.8135710337202875 \t 1.0726109777441457\n",
      "TOTAL: 0.741925983092862\n",
      "ARTIF: 0.741925983092862 \n",
      "\n",
      "([23, 2.5], [13, 0.5])\n",
      "150087 \t 0.6921990352069507 0.6919391807254605 \t 1.0931331600814955\n",
      "99913 \t 0.816682013505218 0.8166386420049644 \t 1.0718239870221349\n",
      "TOTAL: 0.7419489064498098\n",
      "ARTIF: 0.7419489064498098 \n",
      "\n",
      "([12, 0], [13, 0.5])\n",
      "123934 \t 0.7343597026326265 0.7339186005228674 \t 1.074040500476666\n",
      "126066 \t 0.7338706265600542 0.7336908237085924 \t 1.0794753098213503\n",
      "TOTAL: 0.7341130791759669\n",
      "ARTIF: 0.7341130791759669 \n",
      "\n",
      "([23, 0.5], [23, 1.5], [23, 2.5])\n",
      "150087 \t 0.6921990352069507 0.6919391807254605 \t 1.0931331600814955\n",
      "99913 \t 0.816682013505218 0.8166386420049644 \t 1.0718239870221349\n",
      "TOTAL: 0.7419489064498098\n",
      "ARTIF: 0.7419489064498098 \n",
      "\n",
      "([23, 0.5], [23, 1.5], [12, 0])\n",
      "74676 \t 0.6904895816594354 0.6906770582248647 \t 1.0881943328511683\n",
      "75411 \t 0.694090812645873 0.6938521111818374 \t 1.0982228358252886\n",
      "49258 \t 0.8188782415678632 0.8180323209355206 \t 1.0705936989555134\n",
      "50655 \t 0.8141369870225591 0.8135710337202875 \t 1.0726109777441457\n",
      "TOTAL: 0.741925983092862\n",
      "ARTIF: 0.741925983092862 \n",
      "\n",
      "([23, 0.5], [23, 1.5], [13, 0.5])\n",
      "150087 \t 0.6921990352069507 0.6919391807254605 \t 1.0931331600814955\n",
      "99913 \t 0.816682013505218 0.8166386420049644 \t 1.0718239870221349\n",
      "TOTAL: 0.7419489064498098\n",
      "ARTIF: 0.7419489064498098 \n",
      "\n",
      "([23, 0.5], [23, 2.5], [12, 0])\n",
      "74676 \t 0.6904895816594354 0.6906770582248647 \t 1.0881943328511683\n",
      "75411 \t 0.694090812645873 0.6938521111818374 \t 1.0982228358252886\n",
      "49258 \t 0.8188782415678632 0.8180323209355206 \t 1.0705936989555134\n",
      "50655 \t 0.8141369870225591 0.8135710337202875 \t 1.0726109777441457\n",
      "TOTAL: 0.741925983092862\n",
      "ARTIF: 0.741925983092862 \n",
      "\n",
      "([23, 0.5], [23, 2.5], [13, 0.5])\n",
      "150087 \t 0.6921990352069507 0.6919391807254605 \t 1.0931331600814955\n",
      "99913 \t 0.816682013505218 0.8166386420049644 \t 1.0718239870221349\n",
      "TOTAL: 0.7419489064498098\n",
      "ARTIF: 0.7419489064498098 \n",
      "\n",
      "([23, 0.5], [12, 0], [13, 0.5])\n",
      "74676 \t 0.6904895816594354 0.6906770582248647 \t 1.0881943328511683\n",
      "75411 \t 0.694090812645873 0.6938521111818374 \t 1.0982228358252886\n",
      "49258 \t 0.8188782415678632 0.8180323209355206 \t 1.0705936989555134\n",
      "50655 \t 0.8141369870225591 0.8135710337202875 \t 1.0726109777441457\n",
      "TOTAL: 0.741925983092862\n",
      "ARTIF: 0.741925983092862 \n",
      "\n",
      "([23, 1.5], [23, 2.5], [12, 0])\n",
      "74676 \t 0.6904895816594354 0.6906770582248647 \t 1.0881943328511683\n",
      "75411 \t 0.694090812645873 0.6938521111818374 \t 1.0982228358252886\n",
      "49258 \t 0.8188782415678632 0.8180323209355206 \t 1.0705936989555134\n",
      "50655 \t 0.8141369870225591 0.8135710337202875 \t 1.0726109777441457\n",
      "TOTAL: 0.741925983092862\n",
      "ARTIF: 0.741925983092862 \n",
      "\n",
      "([23, 1.5], [23, 2.5], [13, 0.5])\n",
      "150087 \t 0.6921990352069507 0.6919391807254605 \t 1.0931331600814955\n",
      "99913 \t 0.816682013505218 0.8166386420049644 \t 1.0718239870221349\n",
      "TOTAL: 0.7419489064498098\n",
      "ARTIF: 0.7419489064498098 \n",
      "\n",
      "([23, 1.5], [12, 0], [13, 0.5])\n",
      "74676 \t 0.6904895816594354 0.6906770582248647 \t 1.0881943328511683\n",
      "75411 \t 0.694090812645873 0.6938521111818374 \t 1.0982228358252886\n",
      "49258 \t 0.8188782415678632 0.8180323209355206 \t 1.0705936989555134\n",
      "50655 \t 0.8141369870225591 0.8135710337202875 \t 1.0726109777441457\n",
      "TOTAL: 0.741925983092862\n",
      "ARTIF: 0.741925983092862 \n",
      "\n",
      "([23, 2.5], [12, 0], [13, 0.5])\n",
      "74676 \t 0.6904895816594354 0.6906770582248647 \t 1.0881943328511683\n",
      "75411 \t 0.694090812645873 0.6938521111818374 \t 1.0982228358252886\n",
      "49258 \t 0.8188782415678632 0.8180323209355206 \t 1.0705936989555134\n",
      "50655 \t 0.8141369870225591 0.8135710337202875 \t 1.0726109777441457\n",
      "TOTAL: 0.741925983092862\n",
      "ARTIF: 0.741925983092862 \n",
      "\n",
      "([23, 0.5], [23, 1.5], [23, 2.5], [12, 0])\n",
      "74676 \t 0.6904895816594354 0.6906770582248647 \t 1.0881943328511683\n",
      "75411 \t 0.694090812645873 0.6938521111818374 \t 1.0982228358252886\n",
      "49258 \t 0.8188782415678632 0.8180323209355206 \t 1.0705936989555134\n",
      "50655 \t 0.8141369870225591 0.8135710337202875 \t 1.0726109777441457\n",
      "TOTAL: 0.741925983092862\n",
      "ARTIF: 0.741925983092862 \n",
      "\n",
      "([23, 0.5], [23, 1.5], [23, 2.5], [13, 0.5])\n",
      "150087 \t 0.6921990352069507 0.6919391807254605 \t 1.0931331600814955\n",
      "99913 \t 0.816682013505218 0.8166386420049644 \t 1.0718239870221349\n",
      "TOTAL: 0.7419489064498098\n",
      "ARTIF: 0.7419489064498098 \n",
      "\n",
      "([23, 0.5], [23, 1.5], [12, 0], [13, 0.5])\n",
      "74676 \t 0.6904895816594354 0.6906770582248647 \t 1.0881943328511683\n",
      "75411 \t 0.694090812645873 0.6938521111818374 \t 1.0982228358252886\n",
      "49258 \t 0.8188782415678632 0.8180323209355206 \t 1.0705936989555134\n",
      "50655 \t 0.8141369870225591 0.8135710337202875 \t 1.0726109777441457\n",
      "TOTAL: 0.741925983092862\n",
      "ARTIF: 0.741925983092862 \n",
      "\n",
      "([23, 0.5], [23, 2.5], [12, 0], [13, 0.5])\n",
      "74676 \t 0.6904895816594354 0.6906770582248647 \t 1.0881943328511683\n",
      "75411 \t 0.694090812645873 0.6938521111818374 \t 1.0982228358252886\n",
      "49258 \t 0.8188782415678632 0.8180323209355206 \t 1.0705936989555134\n",
      "50655 \t 0.8141369870225591 0.8135710337202875 \t 1.0726109777441457\n",
      "TOTAL: 0.741925983092862\n",
      "ARTIF: 0.741925983092862 \n",
      "\n",
      "([23, 1.5], [23, 2.5], [12, 0], [13, 0.5])\n",
      "74676 \t 0.6904895816594354 0.6906770582248647 \t 1.0881943328511683\n",
      "75411 \t 0.694090812645873 0.6938521111818374 \t 1.0982228358252886\n",
      "49258 \t 0.8188782415678632 0.8180323209355206 \t 1.0705936989555134\n",
      "50655 \t 0.8141369870225591 0.8135710337202875 \t 1.0726109777441457\n",
      "TOTAL: 0.741925983092862\n",
      "ARTIF: 0.741925983092862 \n",
      "\n",
      "([23, 0.5], [23, 1.5], [23, 2.5], [12, 0], [13, 0.5])\n",
      "74676 \t 0.6904895816594354 0.6906770582248647 \t 1.0881943328511683\n"
     ]
    },
    {
     "name": "stdout",
     "output_type": "stream",
     "text": [
      "75411 \t 0.694090812645873 0.6938521111818374 \t 1.0982228358252886\n",
      "49258 \t 0.8188782415678632 0.8180323209355206 \t 1.0705936989555134\n",
      "50655 \t 0.8141369870225591 0.8135710337202875 \t 1.0726109777441457\n",
      "TOTAL: 0.741925983092862\n",
      "ARTIF: 0.741925983092862 \n",
      "\n"
     ]
    }
   ],
   "source": [
    "points_x = []\n",
    "points_y = []\n",
    "for i in range(len(X_sets)):\n",
    "    X_set = X_sets[i]\n",
    "    Y_set = Y_sets[i]\n",
    "    \n",
    "    acc = 0\n",
    "    acc2 = 0\n",
    "    print(thresholds[i])\n",
    "    for j in range(len(X_set)):\n",
    "        X_split = X_set[j]\n",
    "        Y_split = Y_set[j]\n",
    "        \n",
    "        dtmp_tr,dtmp_te = cross_validation(Y_split, X_split, k_fold=4, seed=1, function_name='least_squares')\n",
    "        \n",
    "        acc = acc + dtmp_tr*(X_split.shape[0]/X_total.shape[0])\n",
    "        \n",
    "        if dtmp_tr>0.3:\n",
    "            acc2 = acc2 + dtmp_tr*(X_split.shape[0]/X_total.shape[0])\n",
    "        else:\n",
    "            select = max([sum(Y_split/Y_split.shape[0]), 1-sum(Y_split/Y_split.shape[0])])\n",
    "            acc2 = acc2 + select*(Y_split.shape[0]/Y_total.shape[0])\n",
    "            \n",
    "        print(X_split.shape[0], \"\\t\", dtmp_tr, dtmp_te, \"\\t\", sum(Y_split/Y_split.shape[0])+dtmp_tr)\n",
    "        points_x.append(sum(Y_split/Y_split.shape[0]))\n",
    "        points_y.append(dtmp_tr)\n",
    "    print(\"TOTAL:\", acc)\n",
    "    print(\"ARTIF:\", acc2, \"\\n\")"
   ]
  },
  {
   "cell_type": "code",
   "execution_count": 89,
   "metadata": {},
   "outputs": [
    {
     "data": {
      "text/plain": [
       "<matplotlib.collections.PathCollection at 0x7f870cc2b320>"
      ]
     },
     "execution_count": 89,
     "metadata": {},
     "output_type": "execute_result"
    },
    {
     "data": {
      "image/png": "[encoded data removed]",
      "text/plain": [
       "<Figure size 432x288 with 1 Axes>"
      ]
     },
     "metadata": {
      "needs_background": "light"
     },
     "output_type": "display_data"
    }
   ],
   "source": [
    "import matplotlib.pyplot as plt\n",
    "plt.scatter(points_x, points_y)"
   ]
  },
  {
   "cell_type": "code",
   "execution_count": 15,
   "metadata": {},
   "outputs": [
    {
     "data": {
      "text/plain": [
       "19"
      ]
     },
     "execution_count": 15,
     "metadata": {},
     "output_type": "execute_result"
    }
   ],
   "source": [
    "np.linalg.matrix_rank(X_sets[0][1])"
   ]
  },
  {
   "cell_type": "code",
   "execution_count": 16,
   "metadata": {},
   "outputs": [
    {
     "data": {
      "text/plain": [
       "(99913, 24)"
      ]
     },
     "execution_count": 16,
     "metadata": {},
     "output_type": "execute_result"
    }
   ],
   "source": [
    ".shape"
   ]
  },
  {
   "cell_type": "code",
   "execution_count": 23,
   "metadata": {},
   "outputs": [
    {
     "name": "stdout",
     "output_type": "stream",
     "text": [
      "[1. 1. 1. ... 1. 1. 1.]\n",
      "[138.47      160.937     112.9013159 ... 105.457      94.951\n",
      " 112.9013159]\n",
      "[ 51.655  68.768 162.172 ...  60.526  19.362  72.756]\n",
      "[ 97.827 103.235 125.953 ...  75.839  68.812  70.831]\n",
      "[27.98  48.146 35.635 ... 39.757 13.504  7.479]\n",
      "[3.064 3.473 3.148 ... 2.39  3.365 2.025]\n",
      "[41.928  2.078  9.336 ... 22.183 13.504  7.479]\n",
      "[197.76  125.157 197.814 ... 120.462  55.859  83.24 ]\n",
      "[1.582 0.879 3.776 ... 1.202 0.999 0.936]\n",
      "[ 1.396  1.414  1.414 ...  0.529  1.414 -1.411]\n",
      "[32.638 42.014 32.154 ... 35.636 27.944 43.003]\n",
      "[ 1.017  2.039 -0.705 ... -0.266 -2.211  1.685]\n",
      "[ 0.381 -3.011 -2.093 ... -3.132  2.792  2.653]\n",
      "[ 51.626  36.918 121.409 ...  42.834  27.915  40.236]\n",
      "[ 2.273  0.501 -0.953 ...  0.381 -0.874  1.49 ]\n",
      "[-2.414  0.103  1.052 ...  0.851 -0.296  0.637]\n",
      "[16.824 44.704 54.283 ... 23.419 12.15  40.729]\n",
      "[-0.277 -1.916 -2.186 ... -2.89   0.811 -1.596]\n",
      "[258.733 164.546 260.414 ... 198.907 112.718  99.405]\n",
      "[2. 1. 1. ... 1. 0. 0.]\n",
      "[67.435      46.226      44.251      ... 41.992      65.95534229\n",
      " 65.95534229]\n",
      "[2.15  0.725 2.053 ... 1.8   0.    0.   ]\n",
      "[ 0.444       1.158      -2.028      ... -0.166      -0.03287686\n",
      " -0.03287686]\n",
      "[113.497  46.226  44.251 ...  41.992   0.      0.   ]\n"
     ]
    }
   ],
   "source": [
    "test = X_total#X_sets[0][1]\n",
    "for i in range(test.shape[1]):\n",
    "    print(test[:,i])"
   ]
  },
  {
   "cell_type": "code",
   "execution_count": 26,
   "metadata": {},
   "outputs": [
    {
     "data": {
      "text/plain": [
       "array([-2.414,  0.103,  1.052, ...,  0.851, -0.296,  0.637])"
      ]
     },
     "execution_count": 26,
     "metadata": {},
     "output_type": "execute_result"
    }
   ],
   "source": [
    "X_total[:,19]"
   ]
  },
  {
   "cell_type": "code",
   "execution_count": 25,
   "metadata": {},
   "outputs": [
    {
     "name": "stdout",
     "output_type": "stream",
     "text": [
      "[1. 1. 1. ... 1. 1. 1.]\n",
      "[138.47  160.937     nan ... 105.457  94.951     nan]\n",
      "[ 51.655  68.768 162.172 ...  60.526  19.362  72.756]\n",
      "[ 97.827 103.235 125.953 ...  75.839  68.812  70.831]\n",
      "[27.98  48.146 35.635 ... 39.757 13.504  7.479]\n",
      "[0.91  nan  nan ...  nan  nan  nan]\n",
      "[124.711     nan     nan ...     nan     nan     nan]\n",
      "[2.666   nan   nan ...   nan   nan   nan]\n",
      "[3.064 3.473 3.148 ... 2.39  3.365 2.025]\n",
      "[41.928  2.078  9.336 ... 22.183 13.504  7.479]\n",
      "[197.76  125.157 197.814 ... 120.462  55.859  83.24 ]\n",
      "[1.582 0.879 3.776 ... 1.202 0.999 0.936]\n",
      "[ 1.396  1.414  1.414 ...  0.529  1.414 -1.411]\n",
      "[0.2 nan nan ... nan nan nan]\n",
      "[32.638 42.014 32.154 ... 35.636 27.944 43.003]\n",
      "[ 1.017  2.039 -0.705 ... -0.266 -2.211  1.685]\n",
      "[ 0.381 -3.011 -2.093 ... -3.132  2.792  2.653]\n",
      "[ 51.626  36.918 121.409 ...  42.834  27.915  40.236]\n",
      "[ 2.273  0.501 -0.953 ...  0.381 -0.874  1.49 ]\n",
      "[-2.414  0.103  1.052 ...  0.851 -0.296  0.637]\n",
      "[16.824 44.704 54.283 ... 23.419 12.15  40.729]\n",
      "[-0.277 -1.916 -2.186 ... -2.89   0.811 -1.596]\n",
      "[258.733 164.546 260.414 ... 198.907 112.718  99.405]\n",
      "[2. 1. 1. ... 1. 0. 0.]\n",
      "[67.435 46.226 44.251 ... 41.992    nan    nan]\n",
      "[2.15  0.725 2.053 ... 1.8     nan   nan]\n",
      "[ 0.444  1.158 -2.028 ... -0.166    nan    nan]\n",
      "[46.062    nan    nan ...    nan    nan    nan]\n",
      "[1.24  nan  nan ...  nan  nan  nan]\n",
      "[-2.475    nan    nan ...    nan    nan    nan]\n",
      "[113.497  46.226  44.251 ...  41.992   0.      0.   ]\n"
     ]
    }
   ],
   "source": [
    "test = X_total#X_sets[0][1]\n",
    "for i in range(test.shape[1]):\n",
    "    print(test[:,i])"
   ]
  },
  {
   "cell_type": "code",
   "execution_count": null,
   "metadata": {},
   "outputs": [],
   "source": []
  }
 ],
 "metadata": {
  "kernelspec": {
   "display_name": "Python 3",
   "language": "python",
   "name": "python3"
  },
  "language_info": {
   "codemirror_mode": {
    "name": "ipython",
    "version": 3
   },
   "file_extension": ".py",
   "mimetype": "text/x-python",
   "name": "python",
   "nbconvert_exporter": "python",
   "pygments_lexer": "ipython3",
   "version": "3.7.3"
  }
 },
 "nbformat": 4,
 "nbformat_minor": 4
}
