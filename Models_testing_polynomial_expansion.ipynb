{
 "cells": [
  {
   "cell_type": "code",
   "execution_count": 1,
   "metadata": {},
   "outputs": [],
   "source": [
    "import numpy as np\n",
    "from utils_predictions_manipulation import*\n",
    "from utils_nans_manipulation import*\n",
    "from cross_validation import*\n",
    "from utils_data_loading import*\n",
    "from utils_features_manipulation import*\n",
    "import random"
   ]
  },
  {
   "cell_type": "markdown",
   "metadata": {},
   "source": [
    "# Model testing on training data"
   ]
  },
  {
   "cell_type": "code",
   "execution_count": 2,
   "metadata": {},
   "outputs": [],
   "source": [
    "traindata,_ = load_data('Data/train.csv')\n",
    "X_total, Y_total = structure_data(traindata)\n",
    "\n",
    "# Replacing undefined data with NaNs\n",
    "X_nans = replace_bad_data_with_nans(X_total, -999)\n",
    "Y_nans = Y_total\n",
    "X_nans.shape\n",
    "\n",
    "X_nans, col = replace_nans_with_median(X_nans, threshold=0.5)\n",
    "X_nans.shape\n",
    "\n",
    "X_nans = X_nans + np.random.rand(X_nans.shape[0], X_nans.shape[1])/10000"
   ]
  },
  {
   "cell_type": "code",
   "execution_count": null,
   "metadata": {},
   "outputs": [],
   "source": []
  },
  {
   "cell_type": "code",
   "execution_count": 3,
   "metadata": {},
   "outputs": [
    {
     "name": "stdout",
     "output_type": "stream",
     "text": [
      "0 [0] \n",
      "Test: 0.7338880000000001 Data: 0.7339133333333334 (250000, 29)\n",
      "1 [1] \n",
      "Test: 0.771124 Data: 0.771284 (250000, 29)\n",
      "2 [2] \n",
      "Test: 0.732716 Data: 0.7328533333333334 (250000, 29)\n",
      "3 [3] \n",
      "Test: 0.7559119999999999 Data: 0.7559213333333333 (250000, 29)\n",
      "4 [4] \n",
      "Test: 0.740136 Data: 0.7401133333333332 (250000, 29)\n",
      "5 [5] \n",
      "Test: 0.744924 Data: 0.7451013333333334 (250000, 29)\n",
      "6 [6] \n",
      "Test: 0.734708 Data: 0.734656 (250000, 29)\n",
      "7 [7] \n",
      "Test: 0.742956 Data: 0.7429373333333333 (250000, 29)\n",
      "8 [8] \n",
      "Test: 0.7302559999999999 Data: 0.7305333333333334 (250000, 27)\n"
     ]
    },
    {
     "name": "stderr",
     "output_type": "stream",
     "text": [
      "/Users/ENVasquez/Desktop/ML_Project_1/utils_features_manipulation.py:48: RuntimeWarning: invalid value encountered in power\n",
      "  coltmp=tx[:,i]**d\n"
     ]
    },
    {
     "name": "stdout",
     "output_type": "stream",
     "text": [
      "9 [9] \n",
      "Test: 0.657332 Data: 0.657332 (250000, 29)\n",
      "10 [10] \n",
      "Test: 0.749508 Data: 0.7495333333333333 (250000, 29)\n",
      "11 [11] \n",
      "Test: 0.657332 Data: 0.657332 (250000, 26)\n"
     ]
    },
    {
     "name": "stderr",
     "output_type": "stream",
     "text": [
      "/Users/ENVasquez/Desktop/ML_Project_1/utils_features_manipulation.py:48: RuntimeWarning: invalid value encountered in sqrt\n",
      "  coltmp=tx[:,i]**d\n"
     ]
    },
    {
     "name": "stdout",
     "output_type": "stream",
     "text": [
      "12 [12] \n",
      "Test: 0.657332 Data: 0.657332 (250000, 28)\n",
      "13 [13] \n",
      "Test: 0.735004 Data: 0.7349266666666667 (250000, 29)\n",
      "14 [14] \n",
      "Test: 0.657332 Data: 0.657332 (250000, 29)\n",
      "15 [15] \n",
      "Test: 0.657332 Data: 0.657332 (250000, 27)\n",
      "16 [16] \n",
      "Test: 0.7348480000000001 Data: 0.7347520000000001 (250000, 26)\n",
      "17 [17] \n",
      "Test: 0.657332 Data: 0.657332 (250000, 28)\n",
      "18 [18] \n",
      "Test: 0.740728 Data: 0.7408693333333334 (250000, 28)\n",
      "19 [19] \n",
      "Test: 0.736212 Data: 0.7363919999999999 (250000, 29)\n",
      "20 [20] \n",
      "Test: 0.7397360000000001 Data: 0.7399479999999999 (250000, 29)\n",
      "21 [21] \n",
      "Test: 0.657332 Data: 0.657332 (250000, 27)\n",
      "22 [22] \n",
      "Test: 0.657332 Data: 0.657332 (250000, 26)\n",
      "23 [23] \n",
      "Test: 0.7392040000000001 Data: 0.7392933333333334 (250000, 29)\n",
      "0.771124 0.771124\n",
      "0 [1, 0] \n",
      "Test: 0.78314 Data: 0.783244 (250000, 34)\n",
      "2 [1, 2] \n",
      "Test: 0.768896 Data: 0.7690706666666667 (250000, 34)\n",
      "3 [1, 3] \n",
      "Test: 0.7756560000000001 Data: 0.775744 (250000, 34)\n",
      "4 [1, 4] \n",
      "Test: 0.772592 Data: 0.7728386666666667 (250000, 34)\n",
      "5 [1, 5] \n",
      "Test: 0.7871600000000001 Data: 0.7871746666666667 (250000, 34)\n",
      "6 [1, 6] \n",
      "Test: 0.7716 Data: 0.77198 (250000, 34)\n",
      "7 [1, 7] \n",
      "Test: 0.77424 Data: 0.7742626666666668 (250000, 34)\n",
      "8 [1, 8] \n",
      "Test: 0.768764 Data: 0.7688933333333333 (250000, 32)\n",
      "9 [1, 9] \n",
      "Test: 0.657332 Data: 0.657332 (250000, 34)\n",
      "10 [1, 10] \n",
      "Test: 0.7740079999999999 Data: 0.774176 (250000, 34)\n",
      "11 [1, 11] \n",
      "Test: 0.657332 Data: 0.657332 (250000, 31)\n",
      "12 [1, 12] \n",
      "Test: 0.657332 Data: 0.657332 (250000, 33)\n",
      "13 [1, 13] \n",
      "Test: 0.770988 Data: 0.7712853333333334 (250000, 34)\n",
      "14 [1, 14] \n",
      "Test: 0.657332 Data: 0.657332 (250000, 34)\n",
      "15 [1, 15] \n",
      "Test: 0.657332 Data: 0.657332 (250000, 32)\n",
      "16 [1, 16] \n",
      "Test: 0.7743720000000001 Data: 0.7745040000000001 (250000, 31)\n",
      "17 [1, 17] \n",
      "Test: 0.657332 Data: 0.657332 (250000, 33)\n",
      "18 [1, 18] \n",
      "Test: 0.774184 Data: 0.7740573333333334 (250000, 33)\n",
      "19 [1, 19] \n",
      "Test: 0.77208 Data: 0.7721680000000001 (250000, 34)\n",
      "20 [1, 20] \n",
      "Test: 0.773544 Data: 0.773792 (250000, 34)\n",
      "21 [1, 21] \n",
      "Test: 0.657332 Data: 0.657332 (250000, 32)\n",
      "22 [1, 22] \n",
      "Test: 0.657332 Data: 0.657332 (250000, 31)\n",
      "23 [1, 23] \n",
      "Test: 0.7731279999999999 Data: 0.7731306666666666 (250000, 34)\n",
      "0.7871600000000001 0.7871600000000001\n",
      "0 [1, 5, 0] \n",
      "Test: 0.788284 Data: 0.788568 (250000, 39)\n",
      "2 [1, 5, 2] \n",
      "Test: 0.784944 Data: 0.7851386666666667 (250000, 39)\n",
      "3 [1, 5, 3] \n",
      "Test: 0.787728 Data: 0.7878293333333333 (250000, 39)\n",
      "4 [1, 5, 4] \n",
      "Test: 0.786748 Data: 0.78694 (250000, 39)\n",
      "6 [1, 5, 6] \n",
      "Test: 0.7692239999999999 Data: 0.768848 (250000, 39)\n",
      "7 [1, 5, 7] \n",
      "Test: 0.786128 Data: 0.786284 (250000, 39)\n",
      "8 [1, 5, 8] \n",
      "Test: 0.784152 Data: 0.784308 (250000, 37)\n",
      "9 [1, 5, 9] \n",
      "Test: 0.657332 Data: 0.657332 (250000, 39)\n",
      "10 [1, 5, 10] \n",
      "Test: 0.787336 Data: 0.7873066666666666 (250000, 39)\n",
      "11 [1, 5, 11] \n",
      "Test: 0.657332 Data: 0.657332 (250000, 36)\n",
      "12 [1, 5, 12] \n",
      "Test: 0.657332 Data: 0.657332 (250000, 38)\n",
      "13 [1, 5, 13] \n",
      "Test: 0.7869 Data: 0.7871546666666667 (250000, 39)\n",
      "14 [1, 5, 14] \n",
      "Test: 0.657332 Data: 0.657332 (250000, 39)\n",
      "15 [1, 5, 15] \n",
      "Test: 0.657332 Data: 0.657332 (250000, 37)\n",
      "16 [1, 5, 16] \n",
      "Test: 0.7897120000000001 Data: 0.7897426666666666 (250000, 36)\n",
      "17 [1, 5, 17] \n",
      "Test: 0.657332 Data: 0.657332 (250000, 38)\n",
      "18 [1, 5, 18] \n",
      "Test: 0.7872399999999999 Data: 0.787208 (250000, 38)\n",
      "19 [1, 5, 19] \n",
      "Test: 0.787356 Data: 0.7875466666666666 (250000, 39)\n",
      "20 [1, 5, 20] \n",
      "Test: 0.7871759999999999 Data: 0.787496 (250000, 39)\n",
      "21 [1, 5, 21] \n",
      "Test: 0.657332 Data: 0.657332 (250000, 37)\n",
      "22 [1, 5, 22] \n",
      "Test: 0.657332 Data: 0.657332 (250000, 36)\n",
      "23 [1, 5, 23] \n",
      "Test: 0.786788 Data: 0.786984 (250000, 39)\n",
      "STOP 0.7871600000000001\n"
     ]
    }
   ],
   "source": [
    "index_list = list(range(X_nans.shape[1]))\n",
    "Y_poly = Y_nans\n",
    "\n",
    "degree_test = [1/30, 1/20, 1/10, 1/5, 1/4, 1/3, 1/2, 1, 2, 3, 4, 5, 10, 20, 30]\n",
    "degree = [degree_test for i in index_list]\n",
    "degree = [(0.1, 0.3333333333333333, 0.5, 1, 4, 30),\n",
    "   (0.03333333333333333, 0.1, 0.2, 0.3333333333333333, 0.5, 2),\n",
    "   (0.2, 0.25, 0.5, 5, 20, 30),\n",
    "   (0.05, 0.25, 0.3333333333333333, 0.5, 4, 30),\n",
    "   (0.05, 0.1, 0.2, 0.3333333333333333, 0.5, 20),\n",
    "   (0.03333333333333333, 0.1, 0.2, 0.25, 2, 3),\n",
    "   (0.05, 0.25, 3, 4, 10, 30),\n",
    "   (0.05, 0.2, 0.25, 0.5, 2, 3),\n",
    "   (3, 5, 20, 30),\n",
    "   (0.03333333333333333, 0.05, 0.2, 0.3333333333333333, 2, 20),\n",
    "   (0.03333333333333333, 0.3333333333333333, 1, 3, 4, 10),\n",
    "   (0.1, 0.25, 2),\n",
    "   (0.03333333333333333, 0.05, 0.1, 0.5, 2),\n",
    "   (0.05, 0.25, 1, 10, 20, 30),\n",
    "   (0.03333333333333333, 0.25, 0.5, 2, 5, 20),\n",
    "   (0.1, 0.5, 1, 30),\n",
    "   (0.05, 4, 20),\n",
    "   (0.1, 3, 10, 20, 30),\n",
    "   (0.03333333333333333, 0.05, 1, 3, 5),\n",
    "   (0.03333333333333333, 0.05, 0.3333333333333333, 0.5, 3, 20),\n",
    "   (0.1, 0.2, 0.25, 0.5, 2, 5),\n",
    "   (0.03333333333333333, 0.1, 3, 4),\n",
    "   (0.05, 0.2, 1),\n",
    "   (0.1, 0.25, 1, 2, 10, 20)]\n",
    "\n",
    "accuracy = 0\n",
    "index_keep = []\n",
    "\n",
    "go = True\n",
    "\n",
    "while go:\n",
    "    \n",
    "    test = list(set(index_list) - set(index_keep))\n",
    "    meanacc_dtest_ls = []\n",
    "    meanacc_dtrain_ls = []\n",
    "    \n",
    "    for i in test:\n",
    "        index = []\n",
    "        index = index_keep.copy()\n",
    "        index.append(i)\n",
    "\n",
    "        X_poly = build_poly_index(X_nans, index, degree)\n",
    "\n",
    "        dtmp_tr,dtmp_te = cross_validation(Y_poly, X_poly, k_fold=4, seed=1, function_name='least_squares')\n",
    "        meanacc_dtest_ls.append(dtmp_te)\n",
    "        meanacc_dtrain_ls.append(dtmp_tr)\n",
    "        print(i, index, \"\\nTest:\",dtmp_te, \"Data:\", dtmp_tr, X_poly.shape)\n",
    "\n",
    "        \n",
    "    max_acc = max(meanacc_dtest_ls)\n",
    "    if  max_acc - accuracy > 0.005 :\n",
    "        accuracy = max_acc\n",
    "        ind = test[meanacc_dtest_ls.index(max_acc)]\n",
    "        index_keep.append(ind)\n",
    "        \n",
    "        print(accuracy, max_acc)\n",
    "        go = True\n",
    "    else:\n",
    "        print(\"STOP\", accuracy)\n",
    "        go = False\n",
    "\n"
   ]
  },
  {
   "cell_type": "code",
   "execution_count": 9,
   "metadata": {},
   "outputs": [
    {
     "name": "stdout",
     "output_type": "stream",
     "text": [
      "0 [0] \n",
      "Test: 0.7339239999999999 Data: 0.7338880000000001 (250000, 24)\n",
      "BP: 1 [0.03333333333333333, 0.05, 0.1, 0.2, 0.25, 0.3333333333333333, 0.5, 1, 2, 3, 4, 5, 10, 20, 30]\n",
      "1 [1] \n",
      "Test: 0.793836 Data: 0.79396 (250000, 38)\n",
      "BP: 2 [0.03333333333333333, 0.05, 0.1, 0.2, 0.25, 0.3333333333333333, 0.5, 1, 2, 3, 4, 5, 10, 20, 30]\n",
      "2 [2] \n",
      "Test: 0.740644 Data: 0.7406826666666667 (250000, 38)\n",
      "BP: 3 [0.03333333333333333, 0.05, 0.1, 0.2, 0.25, 0.3333333333333333, 0.5, 1, 2, 3, 4, 5, 10, 20, 30]\n",
      "3 [3] \n",
      "Test: 0.776364 Data: 0.776416 (250000, 38)\n",
      "BP: 4 [0.03333333333333333, 0.05, 0.1, 0.2, 0.25, 0.3333333333333333, 0.5, 1, 2, 3, 4, 5, 10, 20, 30]\n",
      "4 [4] \n",
      "Test: 0.741156 Data: 0.741348 (250000, 38)\n",
      "BP: 5 [0.03333333333333333, 0.05, 0.1, 0.2, 0.25, 0.3333333333333333, 0.5, 1, 2, 3, 4, 5, 10, 20, 30]\n",
      "5 [5] \n",
      "Test: 0.7462880000000001 Data: 0.746316 (250000, 38)\n",
      "BP: 6 [0.03333333333333333, 0.05, 0.1, 0.2, 0.25, 0.3333333333333333, 0.5, 1, 2, 3, 4, 5, 10, 20, 30]\n",
      "6 [6] \n",
      "Test: 0.73504 Data: 0.7349466666666666 (250000, 38)\n",
      "BP: 7 [0.03333333333333333, 0.05, 0.1, 0.2, 0.25, 0.3333333333333333, 0.5, 1, 2, 3, 4, 5, 10, 20, 30]\n",
      "7 [7] \n",
      "Test: 0.742108 Data: 0.7425133333333334 (250000, 38)\n",
      "BP: 8 [0.03333333333333333, 0.05, 0.1, 0.2, 0.25, 0.3333333333333333, 0.5, 1, 2, 3, 4, 5, 10, 20, 30]\n",
      "8 [8] \n",
      "Test: 0.7387400000000001 Data: 0.7387079999999999 (250000, 38)\n",
      "BP: 9 [0.03333333333333333, 0.05, 0.1, 0.2, 0.25, 0.3333333333333333, 0.5, 1, 2, 3, 4, 5, 10, 20, 30]\n",
      "9 [9] \n",
      "Test: 0.657332 Data: 0.657332 (250000, 38)\n",
      "BP: 10 [0.03333333333333333, 0.05, 0.1, 0.2, 0.25, 0.3333333333333333, 0.5, 1, 2, 3, 4, 5, 10, 20, 30]\n",
      "10 [10] \n",
      "Test: 0.750016 Data: 0.7500933333333333 (250000, 38)\n",
      "BP: 11 [0.03333333333333333, 0.05, 0.1, 0.2, 0.25, 0.3333333333333333, 0.5, 1, 2, 3, 4, 5, 10, 20, 30]\n",
      "11 [11] \n",
      "Test: 0.657332 Data: 0.657332 (250000, 38)\n",
      "BP: 12 [0.03333333333333333, 0.05, 0.1, 0.2, 0.25, 0.3333333333333333, 0.5, 1, 2, 3, 4, 5, 10, 20, 30]\n",
      "12 [12] \n",
      "Test: 0.657332 Data: 0.657332 (250000, 38)\n",
      "BP: 13 [0.03333333333333333, 0.05, 0.1, 0.2, 0.25, 0.3333333333333333, 0.5, 1, 2, 3, 4, 5, 10, 20, 30]\n",
      "13 [13] \n",
      "Test: 0.73516 Data: 0.7352293333333333 (250000, 38)\n",
      "BP: 14 [0.03333333333333333, 0.05, 0.1, 0.2, 0.25, 0.3333333333333333, 0.5, 1, 2, 3, 4, 5, 10, 20, 30]\n",
      "14 [14] \n",
      "Test: 0.657332 Data: 0.657332 (250000, 38)\n",
      "BP: 15 [0.03333333333333333, 0.05, 0.1, 0.2, 0.25, 0.3333333333333333, 0.5, 1, 2, 3, 4, 5, 10, 20, 30]\n",
      "15 [15] \n",
      "Test: 0.657332 Data: 0.657332 (250000, 38)\n",
      "BP: 16 [0.03333333333333333, 0.05, 0.1, 0.2, 0.25, 0.3333333333333333, 0.5, 1, 2, 3, 4, 5, 10, 20, 30]\n",
      "16 [16] \n",
      "Test: 0.734704 Data: 0.73476 (250000, 38)\n",
      "BP: 17 [0.03333333333333333, 0.05, 0.1, 0.2, 0.25, 0.3333333333333333, 0.5, 1, 2, 3, 4, 5, 10, 20, 30]\n",
      "17 [17] \n",
      "Test: 0.657332 Data: 0.657332 (250000, 38)\n",
      "BP: 18 [0.03333333333333333, 0.05, 0.1, 0.2, 0.25, 0.3333333333333333, 0.5, 1, 2, 3, 4, 5, 10, 20, 30]\n",
      "18 [18] \n",
      "Test: 0.741516 Data: 0.741652 (250000, 38)\n",
      "BP: 19 [0.03333333333333333, 0.05, 0.1, 0.2, 0.25, 0.3333333333333333, 0.5, 1, 2, 3, 4, 5, 10, 20, 30]\n",
      "19 [19] \n",
      "Test: 0.7361719999999999 Data: 0.7364133333333334 (250000, 38)\n",
      "BP: 20 [0.03333333333333333, 0.05, 0.1, 0.2, 0.25, 0.3333333333333333, 0.5, 1, 2, 3, 4, 5, 10, 20, 30]\n",
      "20 [20] \n",
      "Test: 0.7397400000000001 Data: 0.7395293333333333 (250000, 38)\n",
      "BP: 21 [0.03333333333333333, 0.05, 0.1, 0.2, 0.25, 0.3333333333333333, 0.5, 1, 2, 3, 4, 5, 10, 20, 30]\n",
      "21 [21] \n",
      "Test: 0.657332 Data: 0.657332 (250000, 38)\n",
      "BP: 22 [0.03333333333333333, 0.05, 0.1, 0.2, 0.25, 0.3333333333333333, 0.5, 1, 2, 3, 4, 5, 10, 20, 30]\n",
      "22 [22] \n",
      "Test: 0.657332 Data: 0.657332 (250000, 38)\n",
      "BP: 23 [0.03333333333333333, 0.05, 0.1, 0.2, 0.25, 0.3333333333333333, 0.5, 1, 2, 3, 4, 5, 10, 20, 30]\n",
      "23 [23] \n",
      "Test: 0.7413240000000001 Data: 0.7417506666666667 (250000, 38)\n",
      "BP: 1 (0.03333333333333333, 0.05, 0.1, 0.2, 0.25, 0.3333333333333333, 0.5, 1, 2, 3, 4, 5, 10, 20)\n",
      "DEG 23 1 (0.03333333333333333, 0.05, 0.1, 0.2, 0.25, 0.3333333333333333, 0.5, 1, 2, 3, 4, 5, 10, 20) \n",
      "Test: 0.79388 Data: 0.7939853333333333 (250000, 37)\n",
      "BP: 1 (0.03333333333333333, 0.05, 0.1, 0.2, 0.25, 0.3333333333333333, 0.5, 1, 2, 3, 4, 5, 10, 30)\n",
      "DEG 23 1 (0.03333333333333333, 0.05, 0.1, 0.2, 0.25, 0.3333333333333333, 0.5, 1, 2, 3, 4, 5, 10, 30) \n",
      "Test: 0.7938240000000001 Data: 0.7940106666666666 (250000, 37)\n",
      "BP: 1 (0.03333333333333333, 0.05, 0.1, 0.2, 0.25, 0.3333333333333333, 0.5, 1, 2, 3, 4, 5, 20, 30)\n",
      "DEG 23 1 (0.03333333333333333, 0.05, 0.1, 0.2, 0.25, 0.3333333333333333, 0.5, 1, 2, 3, 4, 5, 20, 30) \n",
      "Test: 0.79342 Data: 0.7936173333333333 (250000, 37)\n",
      "BP: 1 (0.03333333333333333, 0.05, 0.1, 0.2, 0.25, 0.3333333333333333, 0.5, 1, 2, 3, 4, 10, 20, 30)\n",
      "DEG 23 1 (0.03333333333333333, 0.05, 0.1, 0.2, 0.25, 0.3333333333333333, 0.5, 1, 2, 3, 4, 10, 20, 30) \n",
      "Test: 0.792128 Data: 0.792236 (250000, 37)\n",
      "BP: 1 (0.03333333333333333, 0.05, 0.1, 0.2, 0.25, 0.3333333333333333, 0.5, 1, 2, 3, 5, 10, 20, 30)\n",
      "DEG 23 1 (0.03333333333333333, 0.05, 0.1, 0.2, 0.25, 0.3333333333333333, 0.5, 1, 2, 3, 5, 10, 20, 30) \n",
      "Test: 0.79148 Data: 0.7915813333333332 (250000, 37)\n",
      "BP: 1 (0.03333333333333333, 0.05, 0.1, 0.2, 0.25, 0.3333333333333333, 0.5, 1, 2, 4, 5, 10, 20, 30)\n",
      "DEG 23 1 (0.03333333333333333, 0.05, 0.1, 0.2, 0.25, 0.3333333333333333, 0.5, 1, 2, 4, 5, 10, 20, 30) \n",
      "Test: 0.7908 Data: 0.790856 (250000, 37)\n",
      "BP: 1 (0.03333333333333333, 0.05, 0.1, 0.2, 0.25, 0.3333333333333333, 0.5, 1, 3, 4, 5, 10, 20, 30)\n",
      "DEG 23 1 (0.03333333333333333, 0.05, 0.1, 0.2, 0.25, 0.3333333333333333, 0.5, 1, 3, 4, 5, 10, 20, 30) \n",
      "Test: 0.790016 Data: 0.7900253333333334 (250000, 37)\n",
      "BP: 1 (0.03333333333333333, 0.05, 0.1, 0.2, 0.25, 0.3333333333333333, 0.5, 2, 3, 4, 5, 10, 20, 30)\n",
      "DEG 23 1 (0.03333333333333333, 0.05, 0.1, 0.2, 0.25, 0.3333333333333333, 0.5, 2, 3, 4, 5, 10, 20, 30) \n",
      "Test: 0.7883720000000001 Data: 0.78838 (250000, 37)\n",
      "BP: 1 (0.03333333333333333, 0.05, 0.1, 0.2, 0.25, 0.3333333333333333, 1, 2, 3, 4, 5, 10, 20, 30)\n",
      "DEG 23 1 (0.03333333333333333, 0.05, 0.1, 0.2, 0.25, 0.3333333333333333, 1, 2, 3, 4, 5, 10, 20, 30) \n",
      "Test: 0.79232 Data: 0.7924546666666666 (250000, 37)\n",
      "BP: 1 (0.03333333333333333, 0.05, 0.1, 0.2, 0.25, 0.5, 1, 2, 3, 4, 5, 10, 20, 30)\n",
      "DEG 23 1 (0.03333333333333333, 0.05, 0.1, 0.2, 0.25, 0.5, 1, 2, 3, 4, 5, 10, 20, 30) \n",
      "Test: 0.7929879999999999 Data: 0.79312 (250000, 37)\n",
      "BP: 1 (0.03333333333333333, 0.05, 0.1, 0.2, 0.3333333333333333, 0.5, 1, 2, 3, 4, 5, 10, 20, 30)\n",
      "DEG 23 1 (0.03333333333333333, 0.05, 0.1, 0.2, 0.3333333333333333, 0.5, 1, 2, 3, 4, 5, 10, 20, 30) \n",
      "Test: 0.7939039999999999 Data: 0.7940133333333333 (250000, 37)\n",
      "BP: 1 (0.03333333333333333, 0.05, 0.1, 0.25, 0.3333333333333333, 0.5, 1, 2, 3, 4, 5, 10, 20, 30)\n",
      "DEG 23 1 (0.03333333333333333, 0.05, 0.1, 0.25, 0.3333333333333333, 0.5, 1, 2, 3, 4, 5, 10, 20, 30) \n",
      "Test: 0.793436 Data: 0.7936533333333334 (250000, 37)\n",
      "BP: 1 (0.03333333333333333, 0.05, 0.2, 0.25, 0.3333333333333333, 0.5, 1, 2, 3, 4, 5, 10, 20, 30)\n",
      "DEG 23 1 (0.03333333333333333, 0.05, 0.2, 0.25, 0.3333333333333333, 0.5, 1, 2, 3, 4, 5, 10, 20, 30) \n",
      "Test: 0.7942640000000001 Data: 0.79432 (250000, 37)\n",
      "BP: 1 (0.03333333333333333, 0.1, 0.2, 0.25, 0.3333333333333333, 0.5, 1, 2, 3, 4, 5, 10, 20, 30)\n",
      "DEG 23 1 (0.03333333333333333, 0.1, 0.2, 0.25, 0.3333333333333333, 0.5, 1, 2, 3, 4, 5, 10, 20, 30) \n",
      "Test: 0.7935319999999999 Data: 0.7936506666666667 (250000, 37)\n",
      "BP: 1 (0.05, 0.1, 0.2, 0.25, 0.3333333333333333, 0.5, 1, 2, 3, 4, 5, 10, 20, 30)\n",
      "DEG 23 1 (0.05, 0.1, 0.2, 0.25, 0.3333333333333333, 0.5, 1, 2, 3, 4, 5, 10, 20, 30) \n",
      "Test: 0.79436 Data: 0.794328 (250000, 37)\n",
      "STOP 0.793836\n",
      "0.793836 0.79436\n",
      "BP: 1 [0.03333333333333333, 0.05, 0.1, 0.2, 0.25, 0.3333333333333333, 0.5, 1, 2, 3, 4, 5, 10, 20, 30]\n",
      "0 [1, 0] \n",
      "Test: 0.793836 Data: 0.79396 (250000, 38)\n",
      "BP: 1 [0.03333333333333333, 0.05, 0.1, 0.2, 0.25, 0.3333333333333333, 0.5, 1, 2, 3, 4, 5, 10, 20, 30]\n",
      "BP: 2 [0.03333333333333333, 0.05, 0.1, 0.2, 0.25, 0.3333333333333333, 0.5, 1, 2, 3, 4, 5, 10, 20, 30]\n",
      "2 [1, 2] \n",
      "Test: 0.755112 Data: 0.754716 (250000, 52)\n",
      "BP: 1 [0.03333333333333333, 0.05, 0.1, 0.2, 0.25, 0.3333333333333333, 0.5, 1, 2, 3, 4, 5, 10, 20, 30]\n",
      "BP: 3 [0.03333333333333333, 0.05, 0.1, 0.2, 0.25, 0.3333333333333333, 0.5, 1, 2, 3, 4, 5, 10, 20, 30]\n",
      "3 [1, 3] \n",
      "Test: 0.6171840000000001 Data: 0.6172586666666666 (250000, 52)\n",
      "BP: 1 [0.03333333333333333, 0.05, 0.1, 0.2, 0.25, 0.3333333333333333, 0.5, 1, 2, 3, 4, 5, 10, 20, 30]\n"
     ]
    },
    {
     "name": "stdout",
     "output_type": "stream",
     "text": [
      "BP: 4 [0.03333333333333333, 0.05, 0.1, 0.2, 0.25, 0.3333333333333333, 0.5, 1, 2, 3, 4, 5, 10, 20, 30]\n",
      "4 [1, 4] \n",
      "Test: 0.7938200000000001 Data: 0.7940800000000001 (250000, 52)\n",
      "BP: 1 [0.03333333333333333, 0.05, 0.1, 0.2, 0.25, 0.3333333333333333, 0.5, 1, 2, 3, 4, 5, 10, 20, 30]\n",
      "BP: 5 [0.03333333333333333, 0.05, 0.1, 0.2, 0.25, 0.3333333333333333, 0.5, 1, 2, 3, 4, 5, 10, 20, 30]\n",
      "5 [1, 5] \n",
      "Test: 0.728024 Data: 0.7299173333333333 (250000, 52)\n",
      "BP: 1 [0.03333333333333333, 0.05, 0.1, 0.2, 0.25, 0.3333333333333333, 0.5, 1, 2, 3, 4, 5, 10, 20, 30]\n",
      "BP: 6 [0.03333333333333333, 0.05, 0.1, 0.2, 0.25, 0.3333333333333333, 0.5, 1, 2, 3, 4, 5, 10, 20, 30]\n",
      "6 [1, 6] \n",
      "Test: 0.7932440000000001 Data: 0.79322 (250000, 52)\n",
      "BP: 1 [0.03333333333333333, 0.05, 0.1, 0.2, 0.25, 0.3333333333333333, 0.5, 1, 2, 3, 4, 5, 10, 20, 30]\n",
      "BP: 7 [0.03333333333333333, 0.05, 0.1, 0.2, 0.25, 0.3333333333333333, 0.5, 1, 2, 3, 4, 5, 10, 20, 30]\n",
      "7 [1, 7] \n",
      "Test: 0.783876 Data: 0.7838973333333332 (250000, 52)\n",
      "BP: 1 [0.03333333333333333, 0.05, 0.1, 0.2, 0.25, 0.3333333333333333, 0.5, 1, 2, 3, 4, 5, 10, 20, 30]\n",
      "BP: 8 [0.03333333333333333, 0.05, 0.1, 0.2, 0.25, 0.3333333333333333, 0.5, 1, 2, 3, 4, 5, 10, 20, 30]\n",
      "8 [1, 8] \n",
      "Test: 0.7943439999999999 Data: 0.7946279999999999 (250000, 52)\n",
      "BP: 1 [0.03333333333333333, 0.05, 0.1, 0.2, 0.25, 0.3333333333333333, 0.5, 1, 2, 3, 4, 5, 10, 20, 30]\n",
      "BP: 9 [0.03333333333333333, 0.05, 0.1, 0.2, 0.25, 0.3333333333333333, 0.5, 1, 2, 3, 4, 5, 10, 20, 30]\n",
      "9 [1, 9] \n",
      "Test: 0.657332 Data: 0.657332 (250000, 52)\n",
      "BP: 1 [0.03333333333333333, 0.05, 0.1, 0.2, 0.25, 0.3333333333333333, 0.5, 1, 2, 3, 4, 5, 10, 20, 30]\n",
      "BP: 10 [0.03333333333333333, 0.05, 0.1, 0.2, 0.25, 0.3333333333333333, 0.5, 1, 2, 3, 4, 5, 10, 20, 30]\n",
      "10 [1, 10] \n",
      "Test: 0.7855439999999999 Data: 0.78598 (250000, 52)\n",
      "BP: 1 [0.03333333333333333, 0.05, 0.1, 0.2, 0.25, 0.3333333333333333, 0.5, 1, 2, 3, 4, 5, 10, 20, 30]\n",
      "BP: 11 [0.03333333333333333, 0.05, 0.1, 0.2, 0.25, 0.3333333333333333, 0.5, 1, 2, 3, 4, 5, 10, 20, 30]\n",
      "11 [1, 11] \n",
      "Test: 0.657332 Data: 0.657332 (250000, 52)\n",
      "BP: 1 [0.03333333333333333, 0.05, 0.1, 0.2, 0.25, 0.3333333333333333, 0.5, 1, 2, 3, 4, 5, 10, 20, 30]\n",
      "BP: 12 [0.03333333333333333, 0.05, 0.1, 0.2, 0.25, 0.3333333333333333, 0.5, 1, 2, 3, 4, 5, 10, 20, 30]\n",
      "12 [1, 12] \n",
      "Test: 0.657332 Data: 0.657332 (250000, 52)\n",
      "BP: 1 [0.03333333333333333, 0.05, 0.1, 0.2, 0.25, 0.3333333333333333, 0.5, 1, 2, 3, 4, 5, 10, 20, 30]\n",
      "BP: 13 [0.03333333333333333, 0.05, 0.1, 0.2, 0.25, 0.3333333333333333, 0.5, 1, 2, 3, 4, 5, 10, 20, 30]\n",
      "13 [1, 13] \n",
      "Test: 0.7866360000000001 Data: 0.786044 (250000, 52)\n",
      "BP: 1 [0.03333333333333333, 0.05, 0.1, 0.2, 0.25, 0.3333333333333333, 0.5, 1, 2, 3, 4, 5, 10, 20, 30]\n",
      "BP: 14 [0.03333333333333333, 0.05, 0.1, 0.2, 0.25, 0.3333333333333333, 0.5, 1, 2, 3, 4, 5, 10, 20, 30]\n",
      "14 [1, 14] \n",
      "Test: 0.657332 Data: 0.657332 (250000, 52)\n",
      "BP: 1 [0.03333333333333333, 0.05, 0.1, 0.2, 0.25, 0.3333333333333333, 0.5, 1, 2, 3, 4, 5, 10, 20, 30]\n",
      "BP: 15 [0.03333333333333333, 0.05, 0.1, 0.2, 0.25, 0.3333333333333333, 0.5, 1, 2, 3, 4, 5, 10, 20, 30]\n",
      "15 [1, 15] \n",
      "Test: 0.657332 Data: 0.657332 (250000, 52)\n",
      "BP: 1 [0.03333333333333333, 0.05, 0.1, 0.2, 0.25, 0.3333333333333333, 0.5, 1, 2, 3, 4, 5, 10, 20, 30]\n",
      "BP: 16 [0.03333333333333333, 0.05, 0.1, 0.2, 0.25, 0.3333333333333333, 0.5, 1, 2, 3, 4, 5, 10, 20, 30]\n",
      "16 [1, 16] \n",
      "Test: 0.7877799999999999 Data: 0.7878226666666667 (250000, 52)\n",
      "BP: 1 [0.03333333333333333, 0.05, 0.1, 0.2, 0.25, 0.3333333333333333, 0.5, 1, 2, 3, 4, 5, 10, 20, 30]\n",
      "BP: 17 [0.03333333333333333, 0.05, 0.1, 0.2, 0.25, 0.3333333333333333, 0.5, 1, 2, 3, 4, 5, 10, 20, 30]\n",
      "17 [1, 17] \n",
      "Test: 0.657332 Data: 0.657332 (250000, 52)\n",
      "BP: 1 [0.03333333333333333, 0.05, 0.1, 0.2, 0.25, 0.3333333333333333, 0.5, 1, 2, 3, 4, 5, 10, 20, 30]\n",
      "BP: 18 [0.03333333333333333, 0.05, 0.1, 0.2, 0.25, 0.3333333333333333, 0.5, 1, 2, 3, 4, 5, 10, 20, 30]\n",
      "18 [1, 18] \n",
      "Test: 0.79612 Data: 0.7959826666666667 (250000, 52)\n",
      "BP: 1 [0.03333333333333333, 0.05, 0.1, 0.2, 0.25, 0.3333333333333333, 0.5, 1, 2, 3, 4, 5, 10, 20, 30]\n",
      "BP: 19 [0.03333333333333333, 0.05, 0.1, 0.2, 0.25, 0.3333333333333333, 0.5, 1, 2, 3, 4, 5, 10, 20, 30]\n",
      "19 [1, 19] \n",
      "Test: 0.794968 Data: 0.794944 (250000, 52)\n",
      "BP: 1 [0.03333333333333333, 0.05, 0.1, 0.2, 0.25, 0.3333333333333333, 0.5, 1, 2, 3, 4, 5, 10, 20, 30]\n",
      "BP: 20 [0.03333333333333333, 0.05, 0.1, 0.2, 0.25, 0.3333333333333333, 0.5, 1, 2, 3, 4, 5, 10, 20, 30]\n",
      "20 [1, 20] \n",
      "Test: 0.7928280000000001 Data: 0.7932613333333334 (250000, 52)\n",
      "BP: 1 [0.03333333333333333, 0.05, 0.1, 0.2, 0.25, 0.3333333333333333, 0.5, 1, 2, 3, 4, 5, 10, 20, 30]\n",
      "BP: 21 [0.03333333333333333, 0.05, 0.1, 0.2, 0.25, 0.3333333333333333, 0.5, 1, 2, 3, 4, 5, 10, 20, 30]\n",
      "21 [1, 21] \n",
      "Test: 0.657332 Data: 0.657332 (250000, 52)\n",
      "BP: 1 [0.03333333333333333, 0.05, 0.1, 0.2, 0.25, 0.3333333333333333, 0.5, 1, 2, 3, 4, 5, 10, 20, 30]\n",
      "BP: 22 [0.03333333333333333, 0.05, 0.1, 0.2, 0.25, 0.3333333333333333, 0.5, 1, 2, 3, 4, 5, 10, 20, 30]\n",
      "22 [1, 22] \n",
      "Test: 0.657332 Data: 0.657332 (250000, 52)\n",
      "BP: 1 [0.03333333333333333, 0.05, 0.1, 0.2, 0.25, 0.3333333333333333, 0.5, 1, 2, 3, 4, 5, 10, 20, 30]\n",
      "BP: 23 [0.03333333333333333, 0.05, 0.1, 0.2, 0.25, 0.3333333333333333, 0.5, 1, 2, 3, 4, 5, 10, 20, 30]\n",
      "23 [1, 23] \n",
      "Test: 0.790104 Data: 0.7900719999999999 (250000, 52)\n",
      "STOP 0.793836\n"
     ]
    }
   ],
   "source": [
    "index_list = list(range(X_nans.shape[1]))\n",
    "#degree = [1/30, 1/20, 1/10, 1/5, 1/4, 1/3, 1/2, 1, 2, 3, 4, 5, 10, 20, 30]\n",
    "Y_poly = Y_nans\n",
    "\n",
    "degree_test = [1/30, 1/20, 1/10, 1/5, 1/4, 1/3, 1/2, 1, 2, 3, 4, 5, 10, 20, 30]\n",
    "degree = [degree_test for i in index_list]\n",
    "\n",
    "accuracy = 0\n",
    "index_keep = []\n",
    "\n",
    "go = True\n",
    "\n",
    "while go:\n",
    "    \n",
    "    test = list(set(index_list) - set(index_keep))\n",
    "    meanacc_dtest_ls = []\n",
    "    meanacc_dtrain_ls = []\n",
    "    \n",
    "    for i in test:\n",
    "        index = []\n",
    "        index = index_keep.copy()\n",
    "        index.append(i)\n",
    "\n",
    "        X_poly = build_poly_index(X_nans, index, degree)\n",
    "\n",
    "        dtmp_tr,dtmp_te = cross_validation(Y_poly, X_poly, k_fold=4, seed=1, function_name='least_squares')\n",
    "        meanacc_dtest_ls.append(dtmp_te)\n",
    "        meanacc_dtrain_ls.append(dtmp_tr)\n",
    "        print(i, index, \"\\nTest:\",dtmp_te, \"Data:\", dtmp_tr, X_poly.shape)\n",
    "\n",
    "        \n",
    "    max_acc = max(meanacc_dtest_ls)\n",
    "    if  max_acc - accuracy > 0.005 :\n",
    "        accuracy = max_acc\n",
    "        ind = test[meanacc_dtest_ls.index(max_acc)]\n",
    "        index_keep.append(ind)\n",
    "        \n",
    "# TEST FOR BEST DEGREES TO USE\n",
    "\n",
    "        go2 = True\n",
    "        rem = 1\n",
    "        while go2:\n",
    "\n",
    "            d_test = list(itertools.combinations(degree_test,len(degree_test)-rem))\n",
    "            meanacc_dtest_ls = []\n",
    "            meanacc_dtrain_ls = []\n",
    "\n",
    "            for d_i in d_test:\n",
    "                degree_use = degree.copy()\n",
    "                degree_use[ind] = d_i\n",
    "\n",
    "                X_poly = build_poly_index(X_nans, [ind], degree_use)\n",
    "\n",
    "                dtmp_tr,dtmp_te = cross_validation(Y_poly, X_poly, k_fold=4, seed=1, function_name='least_squares')\n",
    "                meanacc_dtest_ls.append(dtmp_te)\n",
    "                meanacc_dtrain_ls.append(dtmp_tr)\n",
    "                print(\"DEG\", i, ind, degree_use[ind], \"\\nTest:\",dtmp_te, \"Data:\", dtmp_tr, X_poly.shape)\n",
    "\n",
    "            max_acc = max(meanacc_dtest_ls)\n",
    "            if  max_acc - accuracy > 0.005 :\n",
    "                accuracy = max_acc\n",
    "                degree[ind] = d_test[meanacc_dtest_ls.index(max_acc)]\n",
    "                rem = rem+1\n",
    "                print(accuracy, max_acc)\n",
    "                go2 = True\n",
    "            else:\n",
    "                print(\"STOP\", accuracy)\n",
    "                go2 = False\n",
    "### ENDS HERE\n",
    "        print(accuracy, max_acc)\n",
    "        go = True\n",
    "    else:\n",
    "        print(\"STOP\", accuracy)\n",
    "        go = False\n",
    "\n"
   ]
  },
  {
   "cell_type": "code",
   "execution_count": 8,
   "metadata": {},
   "outputs": [
    {
     "data": {
      "text/plain": [
       "1"
      ]
     },
     "execution_count": 8,
     "metadata": {},
     "output_type": "execute_result"
    }
   ],
   "source": [
    "index_list = list(range(X_nans.shape[1]))\n",
    "\n",
    "\n",
    "degree_test = [1/30, 1/20, 1/10, 1/5, 1/4, 1/3, 1/2, 1, 2, 3, 4, 5, 10, 20, 30]\n",
    "degree = [degree_test for i in index_list]\n",
    "\n",
    "index = [1,23]\n",
    "\n",
    "X_poly = build_poly_index(X_nans, index, degree)\n",
    "\n",
    "dtmp_tr,dtmp_te = cross_validation(Y_poly, X_poly, k_fold=4, seed=1, function_name='least_squares')"
   ]
  },
  {
   "cell_type": "code",
   "execution_count": null,
   "metadata": {},
   "outputs": [],
   "source": [
    "degree[10] = []"
   ]
  },
  {
   "cell_type": "code",
   "execution_count": null,
   "metadata": {},
   "outputs": [],
   "source": [
    "degree"
   ]
  },
  {
   "cell_type": "code",
   "execution_count": null,
   "metadata": {},
   "outputs": [],
   "source": [
    "max(meanacc_dtest_ls)"
   ]
  },
  {
   "cell_type": "code",
   "execution_count": null,
   "metadata": {},
   "outputs": [],
   "source": []
  },
  {
   "cell_type": "code",
   "execution_count": null,
   "metadata": {},
   "outputs": [],
   "source": [
    "\n",
    "degree_l = [1/30, 1/20, 1/10, 1/5, 1/4, 1/3, 1/2, 1, 2, 3, 4, 5, 10, 20, 30]\n",
    "meanacc_dtest_ls = []\n",
    "meanacc_dtrain_ls = []\n",
    "id_lst = []\n",
    "Y_poly = Y_nans\n",
    "\n",
    "for i in range(len(degree_l)):\n",
    "    degree = [1/29,]\n",
    "    degree.append(degree_l[i])\n",
    "    id_lst.append(degree)\n",
    "    \n",
    "    X_poly = build_poly_index(X_nans, index_list, degree)\n",
    "\n",
    "    # Execute for data originally with no NaNs\n",
    "    dtmp_tr,dtmp_te = cross_validation(Y_poly, X_poly, k_fold=4, seed=1, function_name='least_squares')\n",
    "    meanacc_dtest_ls.append(dtmp_te)\n",
    "    meanacc_dtrain_ls.append(dtmp_tr)\n",
    "    print(id_lst[i], \"\\nTest:\",meanacc_dtest_ls[i], \"Data:\", meanacc_dtrain_ls[i], X_poly.shape)\n",
    "\n"
   ]
  },
  {
   "cell_type": "code",
   "execution_count": null,
   "metadata": {},
   "outputs": [],
   "source": [
    "meanacc_dtest_ls = []\n",
    "meanacc_dtrain_ls = []\n",
    "id_lst = []\n",
    "\n",
    "for i in range(10):\n",
    "    degree = []\n",
    "    degree.append(1/(i+20))\n",
    "    id_lst.append(degree)\n",
    "    \n",
    "    X_poly = build_poly_index(X_nans, index_list, degree)\n",
    "\n",
    "    # Execute for data originally with no NaNs\n",
    "    dtmp_tr,dtmp_te = cross_validation(Y_poly, X_poly, k_fold=4, seed=1, function_name='least_squares')\n",
    "    meanacc_dtest_ls.append(dtmp_te)\n",
    "    meanacc_dtrain_ls.append(dtmp_tr)\n",
    "    print(id_lst[i], \"\\nTest:\",meanacc_dtest_ls[i], \"Data:\", meanacc_dtrain_ls[i], X_poly.shape)"
   ]
  },
  {
   "cell_type": "markdown",
   "metadata": {},
   "source": [
    "### Cleaned Data names in the cell below!"
   ]
  },
  {
   "cell_type": "code",
   "execution_count": null,
   "metadata": {},
   "outputs": [],
   "source": [
    "'''import matplotlib.pyplot as plt\n",
    "\n",
    "for i in range(X_nans.shape[1]):\n",
    "    col = X_nans[:,i]\n",
    "    print(i)\n",
    "    plt.hist(col, bins=100)\n",
    "    plt.show()'''"
   ]
  },
  {
   "cell_type": "code",
   "execution_count": null,
   "metadata": {
    "scrolled": true
   },
   "outputs": [],
   "source": [
    "print(X_nans.shape, Y_nans.shape)\n"
   ]
  },
  {
   "cell_type": "code",
   "execution_count": null,
   "metadata": {},
   "outputs": [],
   "source": []
  },
  {
   "cell_type": "markdown",
   "metadata": {},
   "source": [
    "# LPM"
   ]
  },
  {
   "cell_type": "markdown",
   "metadata": {},
   "source": [
    "## Least Squares"
   ]
  },
  {
   "cell_type": "code",
   "execution_count": null,
   "metadata": {},
   "outputs": [],
   "source": [
    "meanacc_dtest_ls = []\n",
    "meanacc_dtrain_ls = []\n",
    "\n",
    "# Execute for data originally with no NaNs\n",
    "dtmp_tr,dtmp_te=cross_validation(Y_nans,X_nans,k_fold=4,seed=1, function_name='least_squares')\n",
    "meanacc_dtest_ls.append(dtmp_te)\n",
    "meanacc_dtrain_ls.append(dtmp_tr)\n"
   ]
  },
  {
   "cell_type": "code",
   "execution_count": null,
   "metadata": {
    "scrolled": false
   },
   "outputs": [],
   "source": [
    "print(\"No NaNs accuracy:\")\n",
    "print(\"Test:\",meanacc_dtest_ls[0],\"Data:\", meanacc_dtrain_ls[0])"
   ]
  },
  {
   "cell_type": "markdown",
   "metadata": {},
   "source": [
    "<b>Comment: </b>same result we got in the other notebook. Fine accuracy."
   ]
  },
  {
   "cell_type": "markdown",
   "metadata": {},
   "source": [
    "## Gradient Descent"
   ]
  },
  {
   "cell_type": "code",
   "execution_count": null,
   "metadata": {},
   "outputs": [],
   "source": [
    "meanacc_dtest_gd = []\n",
    "meanacc_dtrain_gd = []\n",
    "\n",
    "from time import time\n",
    "\n",
    "start = time()\n",
    "# Execute for data originally with no NaNs\n",
    "dtmp_tr,dtmp_te=cross_validation(Y_nans,X_nans,k_fold=4,seed=1, function_name='gd', gamma=0.000002, max_iters=1000)\n",
    "meanacc_dtest_gd.append(dtmp_te)\n",
    "meanacc_dtrain_gd.append(dtmp_tr)\n",
    "\n",
    "end = time()\n",
    "print(end - start)"
   ]
  },
  {
   "cell_type": "code",
   "execution_count": null,
   "metadata": {},
   "outputs": [],
   "source": [
    "print(\"No NaNs accuracy:\")\n",
    "print(\"Test:\",meanacc_dtest_gd[0],\"Data:\", meanacc_dtrain_gd[0])"
   ]
  },
  {
   "cell_type": "markdown",
   "metadata": {},
   "source": [
    "<b>Comment:</b> Apparently, GD is not converging fast enough. We get higher error than with Least Squares"
   ]
  },
  {
   "cell_type": "markdown",
   "metadata": {},
   "source": [
    "## Stochastic Gradient Descent"
   ]
  },
  {
   "cell_type": "code",
   "execution_count": null,
   "metadata": {},
   "outputs": [],
   "source": [
    "from time import time\n",
    "\n",
    "meanacc_dtest_sgd = []\n",
    "meanacc_dtrain_sgd = []\n",
    "\n",
    "now = time()\n",
    "# Execute for data originally with no NaNs\n",
    "dtmp_tr,dtmp_te=cross_validation(Y_nans,X_nans,k_fold=4,seed=1, function_name='sgd', gamma=0.0000001, max_iters=1000)\n",
    "meanacc_dtest_sgd.append(dtmp_te)\n",
    "meanacc_dtrain_sgd.append(dtmp_tr)\n",
    "\n",
    "final = time()\n",
    "print(final - now)"
   ]
  },
  {
   "cell_type": "code",
   "execution_count": null,
   "metadata": {
    "scrolled": true
   },
   "outputs": [],
   "source": [
    "print(\"No NaNs accuracy:\")\n",
    "print(\"Test:\",meanacc_dtest_sgd[0],\"Data:\", meanacc_dtrain_sgd[0])"
   ]
  },
  {
   "cell_type": "markdown",
   "metadata": {},
   "source": [
    "<b>Comment: </b>same result we had with GD. Apparently is not even faster. Might be worth measuring with time()."
   ]
  },
  {
   "cell_type": "markdown",
   "metadata": {},
   "source": [
    "## Ridge Regression"
   ]
  },
  {
   "cell_type": "code",
   "execution_count": null,
   "metadata": {},
   "outputs": [],
   "source": [
    "meanacc_dtest_rr = []\n",
    "meanacc_dtrain_rr = []\n",
    "\n",
    "for lambda_ in np.logspace(-5,0,15):\n",
    "    # Execute for data originally with no NaNs\n",
    "    dtmp_tr,dtmp_te=cross_validation(Y_nans,X_nans,k_fold=4,seed=1, function_name='ridge_regression', lambda_=lambda_)\n",
    "    meanacc_dtest_rr.append(dtmp_te)\n",
    "    meanacc_dtrain_rr.append(dtmp_tr)"
   ]
  },
  {
   "cell_type": "code",
   "execution_count": null,
   "metadata": {},
   "outputs": [],
   "source": [
    "\"\"\"\n",
    "import matplotlib.pyplot as plt\n",
    "\n",
    "plt.figure()\n",
    "plt.plot(np.logspace(-5,0,15), meanacc_dtrain_rr[1::2])\n",
    "\n",
    "plt.plot(np.logspace(-5,0,15), meanacc_dtrain_rr[::2])\n",
    "plt.show()\n",
    "\n",
    "print(meanacc_dtest_rr[::2])\n",
    "\"\"\""
   ]
  },
  {
   "cell_type": "code",
   "execution_count": null,
   "metadata": {
    "scrolled": true
   },
   "outputs": [],
   "source": [
    "print(\"No NaNs accuracy:\")\n",
    "print(\"Test:\\n\",meanacc_dtest_rr[::2],\"\\n\\n Data:\\n\", meanacc_dtrain_rr[::2])"
   ]
  },
  {
   "cell_type": "markdown",
   "metadata": {},
   "source": [
    "# Logit"
   ]
  },
  {
   "cell_type": "markdown",
   "metadata": {},
   "source": [
    "## Logistic Regression"
   ]
  },
  {
   "cell_type": "code",
   "execution_count": null,
   "metadata": {},
   "outputs": [],
   "source": [
    "meanacc_dtest_lr = []\n",
    "meanacc_dtrain_lr = []\n",
    "\n",
    "gamma = 5e-11\n",
    "\n",
    "# Execute for data originally with no NaNs\n",
    "dtmp_tr,dtmp_te=cross_validation(Y_nans,X_nans,k_fold=3,seed=1, function_name='logistic_regression', max_iters=10000,gamma=gamma)\n",
    "meanacc_dtest_lr.append(dtmp_te)\n",
    "meanacc_dtrain_lr.append(dtmp_tr)\n"
   ]
  },
  {
   "cell_type": "code",
   "execution_count": null,
   "metadata": {},
   "outputs": [],
   "source": [
    "print(\"No NaNs accuracy:\")\n",
    "print(\"Test:\",meanacc_dtest_lr[0],\"Data:\", meanacc_dtrain_lr[0])\n"
   ]
  },
  {
   "cell_type": "markdown",
   "metadata": {},
   "source": [
    "## Reg Logistic Regression"
   ]
  },
  {
   "cell_type": "code",
   "execution_count": null,
   "metadata": {},
   "outputs": [],
   "source": [
    "meanacc_dtest_rlr = []\n",
    "meanacc_dtrain_rlr = []\n",
    "\n",
    "gamma = 0.0000000005\n",
    "\n",
    "for lambda_ in np.logspace(-5,0,5):\n",
    "    # Execute for data originally with no NaNs\n",
    "    dtmp_tr,dtmp_te=cross_validation(Y_no_nans,X_no_nans,k_fold=3,seed=1, function_name='reg_logistic_regression', max_iters=10000,gamma=gamma,lambda_=lambda_)\n",
    "    meanacc_dtest_rlr.append(dtmp_te)\n",
    "    meanacc_dtrain_rlr.append(dtmp_tr)\n",
    "\n",
    "    # Execute for data originally with NaNs\n",
    "    dtmp_tr,dtmp_te=cross_validation(Y_cleaned,X_cleaned,k_fold=3,seed=1, function_name='reg_logistic_regression', max_iters=10000,gamma=gamma,lambda_=lambda_)\n",
    "    meanacc_dtest_rlr.append(dtmp_te)\n",
    "    meanacc_dtrain_rlr.append(dtmp_tr)"
   ]
  },
  {
   "cell_type": "code",
   "execution_count": null,
   "metadata": {},
   "outputs": [],
   "source": [
    "print(\"No NaNs accuracy:\")\n",
    "print(\"Test:\",meanacc_dtest_rlr[::2],\"Data:\", meanacc_dtrain_rlr[::2])\n",
    "print(\"\\nCleaned NaNs accuracy:\", )\n",
    "print(\"Test:\",meanacc_dtest_rlr[1::2],\"Data:\", meanacc_dtrain_rlr[1::2])"
   ]
  },
  {
   "cell_type": "markdown",
   "metadata": {},
   "source": [
    "Too slow! Find good lambda before running."
   ]
  },
  {
   "cell_type": "markdown",
   "metadata": {},
   "source": [
    "TODO:\n",
    "\n",
    "Try with polynomial expansion and standardization"
   ]
  }
 ],
 "metadata": {
  "kernelspec": {
   "display_name": "Python 3",
   "language": "python",
   "name": "python3"
  },
  "language_info": {
   "codemirror_mode": {
    "name": "ipython",
    "version": 3
   },
   "file_extension": ".py",
   "mimetype": "text/x-python",
   "name": "python",
   "nbconvert_exporter": "python",
   "pygments_lexer": "ipython3",
   "version": "3.7.3"
  }
 },
 "nbformat": 4,
 "nbformat_minor": 4
}
